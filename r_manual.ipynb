{
 "cells": [
  {
   "attachments": {},
   "cell_type": "markdown",
   "metadata": {},
   "source": [
    "# Manual de linguagem R\n",
    "*escrito por zero zero*\n",
    "\n",
    "**Para a bióloga maluquinha que prometi ensinar R**"
   ]
  },
  {
   "attachments": {},
   "cell_type": "markdown",
   "metadata": {},
   "source": [
    "O intuito deste material é ajudar aqueles que querem ou precisam aprender a linguagem estatística R, irei abordar os primeiros passos com R, com foco em análise de dados e criação de modelos de machine learning"
   ]
  },
  {
   "attachments": {},
   "cell_type": "markdown",
   "metadata": {},
   "source": [
    "Os assuntos abordados serão:\n",
    "\n",
    "1. Operadores\n",
    "2. Variáveis \n",
    "3. Tipos de dados\n",
    "4. Estrutura de dados\n",
    "5. Estrutura de controle\n",
    "6. Funções\n",
    "7. Expressões regulares\n",
    "8. Gráficos\n",
    "9. Pacotes para análise de dados\n",
    "10. Machine Learning"
   ]
  },
  {
   "attachments": {},
   "cell_type": "markdown",
   "metadata": {},
   "source": [
    "## Um pouco sobre R\n",
    "\n",
    "R é uma linguagem estatística baseada na linguagem S, criada em 1995 por Ross Ihaka e Robert Gentleman, sendo um software livre e podendo ser executada em diferentes sistemas operacionais, vem sendo bastante usada para a manipulação, análise e visualização de dados"
   ]
  },
  {
   "attachments": {},
   "cell_type": "markdown",
   "metadata": {},
   "source": [
    "## Operadores"
   ]
  },
  {
   "attachments": {},
   "cell_type": "markdown",
   "metadata": {},
   "source": [
    "Operadores: com os operadores fazemos operações matemáticas, como soma, divisão, multiplicação, etc., e comparações como igual, diferente, maior e menor. Também podemos utilizar os operadores lógicos E, OU, e negação para simplificar nossos códigos.\n",
    "\n",
    "Operadores aritméticos\n",
    "\n",
    "|Operador|Discrição|\n",
    "|---|---|\n",
    "|+|soma|\n",
    "|-|subtração|\n",
    "|*|multiplicação|\n",
    "|/|divisão|\n",
    "|** ou ^|exponencial|\n",
    "|%%|módulo|\n",
    "|%/%|divisão inteira|\n",
    "\n",
    "Operadores Relacionais\n",
    "\n",
    "|Operador|Discrição|\n",
    "|---|---|\n",
    "|>|maior que|\n",
    "|<|menor que|\n",
    "|>=|maior ou igual a|\n",
    "|<=|menor ou igual a|\n",
    "|==|igual a|\n",
    "|!=|diferente de|\n",
    "\n",
    "Operadores Lógicos\n",
    "\n",
    "|Operador|Discrição|\n",
    "|---|---|\n",
    "|&|Lógico elementar 'E'|\n",
    "|&&|Vetor lógico 'E'|\n",
    "|l (simbolo pipe)|Lógico elementar 'OU'|\n",
    "|ll (simbolo pipe)|Vetor lógico 'OU'|\n",
    "|!|Negação lógico 'NÃO'|"
   ]
  },
  {
   "cell_type": "code",
   "execution_count": 20,
   "metadata": {
    "vscode": {
     "languageId": "r"
    }
   },
   "outputs": [
    {
     "data": {
      "text/html": [
       "444"
      ],
      "text/latex": [
       "444"
      ],
      "text/markdown": [
       "444"
      ],
      "text/plain": [
       "[1] 444"
      ]
     },
     "metadata": {},
     "output_type": "display_data"
    },
    {
     "data": {
      "text/html": [
       "157694"
      ],
      "text/latex": [
       "157694"
      ],
      "text/markdown": [
       "157694"
      ],
      "text/plain": [
       "[1] 157694"
      ]
     },
     "metadata": {},
     "output_type": "display_data"
    }
   ],
   "source": [
    "123 + 321\n",
    "59123 + 98571"
   ]
  },
  {
   "cell_type": "code",
   "execution_count": 21,
   "metadata": {
    "vscode": {
     "languageId": "r"
    }
   },
   "outputs": [
    {
     "data": {
      "text/html": [
       "8"
      ],
      "text/latex": [
       "8"
      ],
      "text/markdown": [
       "8"
      ],
      "text/plain": [
       "[1] 8"
      ]
     },
     "metadata": {},
     "output_type": "display_data"
    }
   ],
   "source": [
    "10 - 2 "
   ]
  },
  {
   "cell_type": "code",
   "execution_count": 11,
   "metadata": {
    "vscode": {
     "languageId": "r"
    }
   },
   "outputs": [
    {
     "data": {
      "text/html": [
       "49"
      ],
      "text/latex": [
       "49"
      ],
      "text/markdown": [
       "49"
      ],
      "text/plain": [
       "[1] 49"
      ]
     },
     "metadata": {},
     "output_type": "display_data"
    }
   ],
   "source": [
    "7 * 7"
   ]
  },
  {
   "cell_type": "code",
   "execution_count": 12,
   "metadata": {
    "vscode": {
     "languageId": "r"
    }
   },
   "outputs": [
    {
     "data": {
      "text/html": [
       "492.183673469388"
      ],
      "text/latex": [
       "492.183673469388"
      ],
      "text/markdown": [
       "492.183673469388"
      ],
      "text/plain": [
       "[1] 492.1837"
      ]
     },
     "metadata": {},
     "output_type": "display_data"
    }
   ],
   "source": [
    "48234 / 98"
   ]
  },
  {
   "cell_type": "code",
   "execution_count": 22,
   "metadata": {
    "vscode": {
     "languageId": "r"
    }
   },
   "outputs": [
    {
     "data": {
      "text/html": [
       "65536"
      ],
      "text/latex": [
       "65536"
      ],
      "text/markdown": [
       "65536"
      ],
      "text/plain": [
       "[1] 65536"
      ]
     },
     "metadata": {},
     "output_type": "display_data"
    },
    {
     "data": {
      "text/html": [
       "65536"
      ],
      "text/latex": [
       "65536"
      ],
      "text/markdown": [
       "65536"
      ],
      "text/plain": [
       "[1] 65536"
      ]
     },
     "metadata": {},
     "output_type": "display_data"
    }
   ],
   "source": [
    "2 ** 16\n",
    "2 ^ 16"
   ]
  },
  {
   "cell_type": "code",
   "execution_count": 24,
   "metadata": {
    "vscode": {
     "languageId": "r"
    }
   },
   "outputs": [
    {
     "data": {
      "text/html": [
       "18"
      ],
      "text/latex": [
       "18"
      ],
      "text/markdown": [
       "18"
      ],
      "text/plain": [
       "[1] 18"
      ]
     },
     "metadata": {},
     "output_type": "display_data"
    },
    {
     "data": {
      "text/html": [
       "1"
      ],
      "text/latex": [
       "1"
      ],
      "text/markdown": [
       "1"
      ],
      "text/plain": [
       "[1] 1"
      ]
     },
     "metadata": {},
     "output_type": "display_data"
    }
   ],
   "source": [
    "48234 %% 98\n",
    "5 %% 4"
   ]
  },
  {
   "cell_type": "code",
   "execution_count": 23,
   "metadata": {
    "vscode": {
     "languageId": "r"
    }
   },
   "outputs": [
    {
     "data": {
      "text/html": [
       "492"
      ],
      "text/latex": [
       "492"
      ],
      "text/markdown": [
       "492"
      ],
      "text/plain": [
       "[1] 492"
      ]
     },
     "metadata": {},
     "output_type": "display_data"
    },
    {
     "data": {
      "text/html": [
       "2"
      ],
      "text/latex": [
       "2"
      ],
      "text/markdown": [
       "2"
      ],
      "text/plain": [
       "[1] 2"
      ]
     },
     "metadata": {},
     "output_type": "display_data"
    }
   ],
   "source": [
    "48234 %/% 98\n",
    "5 %/% 2"
   ]
  },
  {
   "cell_type": "code",
   "execution_count": 27,
   "metadata": {
    "vscode": {
     "languageId": "r"
    }
   },
   "outputs": [
    {
     "data": {
      "text/html": [
       "TRUE"
      ],
      "text/latex": [
       "TRUE"
      ],
      "text/markdown": [
       "TRUE"
      ],
      "text/plain": [
       "[1] TRUE"
      ]
     },
     "metadata": {},
     "output_type": "display_data"
    },
    {
     "data": {
      "text/html": [
       "FALSE"
      ],
      "text/latex": [
       "FALSE"
      ],
      "text/markdown": [
       "FALSE"
      ],
      "text/plain": [
       "[1] FALSE"
      ]
     },
     "metadata": {},
     "output_type": "display_data"
    }
   ],
   "source": [
    "# Operadores relacionais retornam na saída TRUE (verdadeiro) OU FALSE (falso)\n",
    "\n",
    "5 < 10\n",
    "24 < 23"
   ]
  },
  {
   "cell_type": "code",
   "execution_count": 28,
   "metadata": {
    "vscode": {
     "languageId": "r"
    }
   },
   "outputs": [
    {
     "data": {
      "text/html": [
       "FALSE"
      ],
      "text/latex": [
       "FALSE"
      ],
      "text/markdown": [
       "FALSE"
      ],
      "text/plain": [
       "[1] FALSE"
      ]
     },
     "metadata": {},
     "output_type": "display_data"
    },
    {
     "data": {
      "text/html": [
       "TRUE"
      ],
      "text/latex": [
       "TRUE"
      ],
      "text/markdown": [
       "TRUE"
      ],
      "text/plain": [
       "[1] TRUE"
      ]
     },
     "metadata": {},
     "output_type": "display_data"
    }
   ],
   "source": [
    "3 > 5\n",
    "12 > 10"
   ]
  },
  {
   "cell_type": "code",
   "execution_count": 30,
   "metadata": {
    "vscode": {
     "languageId": "r"
    }
   },
   "outputs": [
    {
     "data": {
      "text/html": [
       "TRUE"
      ],
      "text/latex": [
       "TRUE"
      ],
      "text/markdown": [
       "TRUE"
      ],
      "text/plain": [
       "[1] TRUE"
      ]
     },
     "metadata": {},
     "output_type": "display_data"
    },
    {
     "data": {
      "text/html": [
       "TRUE"
      ],
      "text/latex": [
       "TRUE"
      ],
      "text/markdown": [
       "TRUE"
      ],
      "text/plain": [
       "[1] TRUE"
      ]
     },
     "metadata": {},
     "output_type": "display_data"
    }
   ],
   "source": [
    "3 >= 3\n",
    "5 >= 4"
   ]
  },
  {
   "cell_type": "code",
   "execution_count": 31,
   "metadata": {
    "vscode": {
     "languageId": "r"
    }
   },
   "outputs": [
    {
     "data": {
      "text/html": [
       "TRUE"
      ],
      "text/latex": [
       "TRUE"
      ],
      "text/markdown": [
       "TRUE"
      ],
      "text/plain": [
       "[1] TRUE"
      ]
     },
     "metadata": {},
     "output_type": "display_data"
    },
    {
     "data": {
      "text/html": [
       "FALSE"
      ],
      "text/latex": [
       "FALSE"
      ],
      "text/markdown": [
       "FALSE"
      ],
      "text/plain": [
       "[1] FALSE"
      ]
     },
     "metadata": {},
     "output_type": "display_data"
    }
   ],
   "source": [
    "3 <= 3\n",
    "5 <= 4"
   ]
  },
  {
   "cell_type": "code",
   "execution_count": 32,
   "metadata": {
    "vscode": {
     "languageId": "r"
    }
   },
   "outputs": [
    {
     "data": {
      "text/html": [
       "TRUE"
      ],
      "text/latex": [
       "TRUE"
      ],
      "text/markdown": [
       "TRUE"
      ],
      "text/plain": [
       "[1] TRUE"
      ]
     },
     "metadata": {},
     "output_type": "display_data"
    },
    {
     "data": {
      "text/html": [
       "FALSE"
      ],
      "text/latex": [
       "FALSE"
      ],
      "text/markdown": [
       "FALSE"
      ],
      "text/plain": [
       "[1] FALSE"
      ]
     },
     "metadata": {},
     "output_type": "display_data"
    }
   ],
   "source": [
    "5 == 5\n",
    "5 == 15"
   ]
  },
  {
   "cell_type": "code",
   "execution_count": 33,
   "metadata": {
    "vscode": {
     "languageId": "r"
    }
   },
   "outputs": [
    {
     "data": {
      "text/html": [
       "FALSE"
      ],
      "text/latex": [
       "FALSE"
      ],
      "text/markdown": [
       "FALSE"
      ],
      "text/plain": [
       "[1] FALSE"
      ]
     },
     "metadata": {},
     "output_type": "display_data"
    },
    {
     "data": {
      "text/html": [
       "TRUE"
      ],
      "text/latex": [
       "TRUE"
      ],
      "text/markdown": [
       "TRUE"
      ],
      "text/plain": [
       "[1] TRUE"
      ]
     },
     "metadata": {},
     "output_type": "display_data"
    }
   ],
   "source": [
    "5 != 5\n",
    "5 != 15"
   ]
  },
  {
   "cell_type": "code",
   "execution_count": 35,
   "metadata": {
    "vscode": {
     "languageId": "r"
    }
   },
   "outputs": [
    {
     "data": {
      "text/html": [
       "FALSE"
      ],
      "text/latex": [
       "FALSE"
      ],
      "text/markdown": [
       "FALSE"
      ],
      "text/plain": [
       "[1] FALSE"
      ]
     },
     "metadata": {},
     "output_type": "display_data"
    },
    {
     "data": {
      "text/html": [
       "TRUE"
      ],
      "text/latex": [
       "TRUE"
      ],
      "text/markdown": [
       "TRUE"
      ],
      "text/plain": [
       "[1] TRUE"
      ]
     },
     "metadata": {},
     "output_type": "display_data"
    }
   ],
   "source": [
    "5 == 5 & 4 > 5\n",
    "5 == 5 & 24 > 5"
   ]
  },
  {
   "cell_type": "code",
   "execution_count": 37,
   "metadata": {
    "vscode": {
     "languageId": "r"
    }
   },
   "outputs": [
    {
     "data": {
      "text/html": [
       "FALSE"
      ],
      "text/latex": [
       "FALSE"
      ],
      "text/markdown": [
       "FALSE"
      ],
      "text/plain": [
       "[1] FALSE"
      ]
     },
     "metadata": {},
     "output_type": "display_data"
    },
    {
     "data": {
      "text/html": [
       "TRUE"
      ],
      "text/latex": [
       "TRUE"
      ],
      "text/markdown": [
       "TRUE"
      ],
      "text/plain": [
       "[1] TRUE"
      ]
     },
     "metadata": {},
     "output_type": "display_data"
    }
   ],
   "source": [
    "5 != 5 | 4 > 5\n",
    "5 == 5 | 24 > 5"
   ]
  },
  {
   "cell_type": "code",
   "execution_count": 40,
   "metadata": {
    "vscode": {
     "languageId": "r"
    }
   },
   "outputs": [
    {
     "data": {
      "text/html": [
       "TRUE"
      ],
      "text/latex": [
       "TRUE"
      ],
      "text/markdown": [
       "TRUE"
      ],
      "text/plain": [
       "[1] TRUE"
      ]
     },
     "metadata": {},
     "output_type": "display_data"
    },
    {
     "data": {
      "text/html": [
       "FALSE"
      ],
      "text/latex": [
       "FALSE"
      ],
      "text/markdown": [
       "FALSE"
      ],
      "text/plain": [
       "[1] FALSE"
      ]
     },
     "metadata": {},
     "output_type": "display_data"
    }
   ],
   "source": [
    "!(5 == 5 & 4 > 5)\n",
    "!(5 == 5 & 24 > 5)"
   ]
  },
  {
   "attachments": {},
   "cell_type": "markdown",
   "metadata": {},
   "source": [
    "## Variáveis"
   ]
  },
  {
   "attachments": {},
   "cell_type": "markdown",
   "metadata": {},
   "source": [
    "São criadas com o objetivo de armazenar um valor/informação/dado, esse valor ficará disponível para ser utilizado enquanto a variável existir.\n",
    "É utilizado a sintaxe \"<-\" para atribuir um valor a uma variável."
   ]
  },
  {
   "cell_type": "code",
   "execution_count": 41,
   "metadata": {
    "vscode": {
     "languageId": "r"
    }
   },
   "outputs": [
    {
     "data": {
      "text/html": [
       "15"
      ],
      "text/latex": [
       "15"
      ],
      "text/markdown": [
       "15"
      ],
      "text/plain": [
       "[1] 15"
      ]
     },
     "metadata": {},
     "output_type": "display_data"
    }
   ],
   "source": [
    "soma <- 5 + 4 + 3 + 2 + 1\n",
    "soma"
   ]
  },
  {
   "cell_type": "code",
   "execution_count": 42,
   "metadata": {
    "vscode": {
     "languageId": "r"
    }
   },
   "outputs": [
    {
     "data": {
      "text/html": [
       "27"
      ],
      "text/latex": [
       "27"
      ],
      "text/markdown": [
       "27"
      ],
      "text/plain": [
       "[1] 27"
      ]
     },
     "metadata": {},
     "output_type": "display_data"
    }
   ],
   "source": [
    "subtracao <- 50 - 23\n",
    "subtracao"
   ]
  },
  {
   "cell_type": "code",
   "execution_count": 44,
   "metadata": {
    "vscode": {
     "languageId": "r"
    }
   },
   "outputs": [
    {
     "data": {
      "text/html": [
       "405"
      ],
      "text/latex": [
       "405"
      ],
      "text/markdown": [
       "405"
      ],
      "text/plain": [
       "[1] 405"
      ]
     },
     "metadata": {},
     "output_type": "display_data"
    }
   ],
   "source": [
    "multiplicacao <- soma * subtracao\n",
    "multiplicacao"
   ]
  },
  {
   "cell_type": "code",
   "execution_count": 45,
   "metadata": {
    "vscode": {
     "languageId": "r"
    }
   },
   "outputs": [
    {
     "data": {
      "text/html": [
       "81"
      ],
      "text/latex": [
       "81"
      ],
      "text/markdown": [
       "81"
      ],
      "text/plain": [
       "[1] 81"
      ]
     },
     "metadata": {},
     "output_type": "display_data"
    }
   ],
   "source": [
    "divisao <- multiplicacao / 5\n",
    "divisao"
   ]
  },
  {
   "attachments": {},
   "cell_type": "markdown",
   "metadata": {},
   "source": [
    "## Tipos de dados"
   ]
  },
  {
   "attachments": {},
   "cell_type": "markdown",
   "metadata": {},
   "source": [
    "Um tipo de dado é a representação de algo do mundo real para o computador. Por exemplo números inteiros, números reais e caracteres.\n",
    "\n",
    "Na linguagem R temos os seguintes tipos de dados:\n",
    "\n",
    "Numeric - Todos os números criados em R são do tipo numeric, é armazenado como número decimal\n",
    "\n",
    "Integer - Convertemos os tipos numeric para integer\n",
    "\n",
    "Character - São quais caracteres e são armazenados entre aspas"
   ]
  },
  {
   "cell_type": "code",
   "execution_count": 46,
   "metadata": {
    "vscode": {
     "languageId": "r"
    }
   },
   "outputs": [
    {
     "data": {
      "text/html": [
       "123"
      ],
      "text/latex": [
       "123"
      ],
      "text/markdown": [
       "123"
      ],
      "text/plain": [
       "[1] 123"
      ]
     },
     "metadata": {},
     "output_type": "display_data"
    },
    {
     "data": {
      "text/html": [
       "'numeric'"
      ],
      "text/latex": [
       "'numeric'"
      ],
      "text/markdown": [
       "'numeric'"
      ],
      "text/plain": [
       "[1] \"numeric\""
      ]
     },
     "metadata": {},
     "output_type": "display_data"
    },
    {
     "data": {
      "text/html": [
       "'numeric'"
      ],
      "text/latex": [
       "'numeric'"
      ],
      "text/markdown": [
       "'numeric'"
      ],
      "text/plain": [
       "[1] \"numeric\""
      ]
     },
     "metadata": {},
     "output_type": "display_data"
    },
    {
     "data": {
      "text/html": [
       "'double'"
      ],
      "text/latex": [
       "'double'"
      ],
      "text/markdown": [
       "'double'"
      ],
      "text/plain": [
       "[1] \"double\""
      ]
     },
     "metadata": {},
     "output_type": "display_data"
    }
   ],
   "source": [
    "#numeric\n",
    "num1 = 123\n",
    "num1\n",
    "class(num1)\n",
    "mode(num1)\n",
    "typeof(num1)"
   ]
  },
  {
   "cell_type": "code",
   "execution_count": 47,
   "metadata": {
    "vscode": {
     "languageId": "r"
    }
   },
   "outputs": [
    {
     "data": {
      "text/html": [
       "13.098"
      ],
      "text/latex": [
       "13.098"
      ],
      "text/markdown": [
       "13.098"
      ],
      "text/plain": [
       "[1] 13.098"
      ]
     },
     "metadata": {},
     "output_type": "display_data"
    },
    {
     "data": {
      "text/html": [
       "'numeric'"
      ],
      "text/latex": [
       "'numeric'"
      ],
      "text/markdown": [
       "'numeric'"
      ],
      "text/plain": [
       "[1] \"numeric\""
      ]
     },
     "metadata": {},
     "output_type": "display_data"
    },
    {
     "data": {
      "text/html": [
       "'double'"
      ],
      "text/latex": [
       "'double'"
      ],
      "text/markdown": [
       "'double'"
      ],
      "text/plain": [
       "[1] \"double\""
      ]
     },
     "metadata": {},
     "output_type": "display_data"
    }
   ],
   "source": [
    "#numeric\n",
    "num2 = 13.098\n",
    "num2\n",
    "mode(num2)\n",
    "typeof(num2)"
   ]
  },
  {
   "cell_type": "code",
   "execution_count": 52,
   "metadata": {
    "vscode": {
     "languageId": "r"
    }
   },
   "outputs": [
    {
     "data": {
      "text/html": [
       "13"
      ],
      "text/latex": [
       "13"
      ],
      "text/markdown": [
       "13"
      ],
      "text/plain": [
       "[1] 13"
      ]
     },
     "metadata": {},
     "output_type": "display_data"
    },
    {
     "data": {
      "text/html": [
       "'integer'"
      ],
      "text/latex": [
       "'integer'"
      ],
      "text/markdown": [
       "'integer'"
      ],
      "text/plain": [
       "[1] \"integer\""
      ]
     },
     "metadata": {},
     "output_type": "display_data"
    },
    {
     "data": {
      "text/html": [
       "'numeric'"
      ],
      "text/latex": [
       "'numeric'"
      ],
      "text/markdown": [
       "'numeric'"
      ],
      "text/plain": [
       "[1] \"numeric\""
      ]
     },
     "metadata": {},
     "output_type": "display_data"
    },
    {
     "data": {
      "text/html": [
       "'integer'"
      ],
      "text/latex": [
       "'integer'"
      ],
      "text/markdown": [
       "'integer'"
      ],
      "text/plain": [
       "[1] \"integer\""
      ]
     },
     "metadata": {},
     "output_type": "display_data"
    }
   ],
   "source": [
    "# Integer\n",
    "\n",
    "int <- as.integer(num2)\n",
    "int\n",
    "class(int)\n",
    "mode(int)\n",
    "typeof(int)"
   ]
  },
  {
   "cell_type": "code",
   "execution_count": 53,
   "metadata": {
    "vscode": {
     "languageId": "r"
    }
   },
   "outputs": [
    {
     "data": {
      "text/html": [
       "'Bióloga doidinha'"
      ],
      "text/latex": [
       "'Bióloga doidinha'"
      ],
      "text/markdown": [
       "'Bióloga doidinha'"
      ],
      "text/plain": [
       "[1] \"Bióloga doidinha\""
      ]
     },
     "metadata": {},
     "output_type": "display_data"
    },
    {
     "data": {
      "text/html": [
       "'character'"
      ],
      "text/latex": [
       "'character'"
      ],
      "text/markdown": [
       "'character'"
      ],
      "text/plain": [
       "[1] \"character\""
      ]
     },
     "metadata": {},
     "output_type": "display_data"
    },
    {
     "data": {
      "text/html": [
       "'character'"
      ],
      "text/latex": [
       "'character'"
      ],
      "text/markdown": [
       "'character'"
      ],
      "text/plain": [
       "[1] \"character\""
      ]
     },
     "metadata": {},
     "output_type": "display_data"
    },
    {
     "data": {
      "text/html": [
       "'character'"
      ],
      "text/latex": [
       "'character'"
      ],
      "text/markdown": [
       "'character'"
      ],
      "text/plain": [
       "[1] \"character\""
      ]
     },
     "metadata": {},
     "output_type": "display_data"
    }
   ],
   "source": [
    "# Character\n",
    "\n",
    "char1 <- \"Bióloga doidinha\"\n",
    "char1\n",
    "class(char1)\n",
    "mode(char1)\n",
    "typeof(char1)"
   ]
  },
  {
   "cell_type": "code",
   "execution_count": 54,
   "metadata": {
    "vscode": {
     "languageId": "r"
    }
   },
   "outputs": [
    {
     "data": {
      "text/html": [
       "12.5+34i"
      ],
      "text/latex": [
       "12.5+34i"
      ],
      "text/markdown": [
       "12.5+34i"
      ],
      "text/plain": [
       "[1] 12.5+34i"
      ]
     },
     "metadata": {},
     "output_type": "display_data"
    },
    {
     "data": {
      "text/html": [
       "'complex'"
      ],
      "text/latex": [
       "'complex'"
      ],
      "text/markdown": [
       "'complex'"
      ],
      "text/plain": [
       "[1] \"complex\""
      ]
     },
     "metadata": {},
     "output_type": "display_data"
    },
    {
     "data": {
      "text/html": [
       "'complex'"
      ],
      "text/latex": [
       "'complex'"
      ],
      "text/markdown": [
       "'complex'"
      ],
      "text/plain": [
       "[1] \"complex\""
      ]
     },
     "metadata": {},
     "output_type": "display_data"
    }
   ],
   "source": [
    "# Complex\n",
    "compl = 12.5 + 34i\n",
    "compl\n",
    "mode(compl)\n",
    "typeof(compl)"
   ]
  },
  {
   "cell_type": "code",
   "execution_count": 55,
   "metadata": {
    "vscode": {
     "languageId": "r"
    }
   },
   "outputs": [
    {
     "data": {
      "text/html": [
       "FALSE"
      ],
      "text/latex": [
       "FALSE"
      ],
      "text/markdown": [
       "FALSE"
      ],
      "text/plain": [
       "[1] FALSE"
      ]
     },
     "metadata": {},
     "output_type": "display_data"
    },
    {
     "data": {
      "text/html": [
       "'logical'"
      ],
      "text/latex": [
       "'logical'"
      ],
      "text/markdown": [
       "'logical'"
      ],
      "text/plain": [
       "[1] \"logical\""
      ]
     },
     "metadata": {},
     "output_type": "display_data"
    }
   ],
   "source": [
    "x <- 12\n",
    "y <- 21\n",
    "z <- x > y\n",
    "z\n",
    "class(z)"
   ]
  },
  {
   "cell_type": "code",
   "execution_count": 56,
   "metadata": {
    "vscode": {
     "languageId": "r"
    }
   },
   "outputs": [
    {
     "data": {
      "text/html": [
       "Inf"
      ],
      "text/latex": [
       "Inf"
      ],
      "text/markdown": [
       "Inf"
      ],
      "text/plain": [
       "[1] Inf"
      ]
     },
     "metadata": {},
     "output_type": "display_data"
    },
    {
     "data": {
      "text/html": [
       "0"
      ],
      "text/latex": [
       "0"
      ],
      "text/markdown": [
       "0"
      ],
      "text/plain": [
       "[1] 0"
      ]
     },
     "metadata": {},
     "output_type": "display_data"
    },
    {
     "ename": "ERROR",
     "evalue": "Error in \"Joe\"/5: non-numeric argument to binary operator\n",
     "output_type": "error",
     "traceback": [
      "Error in \"Joe\"/5: non-numeric argument to binary operator\nTraceback:\n"
     ]
    }
   ],
   "source": [
    "# Operações com 0\n",
    "5/0\n",
    "0/5\n",
    "\n",
    "# Erro\n",
    "'Joe'/5"
   ]
  },
  {
   "attachments": {},
   "cell_type": "markdown",
   "metadata": {},
   "source": [
    "## Estrutura de dados"
   ]
  },
  {
   "attachments": {},
   "cell_type": "markdown",
   "metadata": {},
   "source": [
    " Como estrutura de dados em R temos os vetores, que são uma sequência de dados do mesmo tipo. Listas, que são vetores com tipos de dados diferentes. Matrizes, que possuem duas dimensões e um tipo de dado. Data frames, que são estruturas mais complexas, similares as planilhas do Excel e com tipos de dados diferentes."
   ]
  },
  {
   "attachments": {},
   "cell_type": "markdown",
   "metadata": {},
   "source": [
    "### Vetores"
   ]
  },
  {
   "cell_type": "code",
   "execution_count": 3,
   "metadata": {
    "vscode": {
     "languageId": "r"
    }
   },
   "outputs": [
    {
     "data": {
      "text/html": [
       "<style>\n",
       ".list-inline {list-style: none; margin:0; padding: 0}\n",
       ".list-inline>li {display: inline-block}\n",
       ".list-inline>li:not(:last-child)::after {content: \"\\00b7\"; padding: 0 .5ex}\n",
       "</style>\n",
       "<ol class=list-inline><li>1</li><li>2</li><li>3</li><li>4</li><li>5</li><li>6</li><li>7</li><li>8</li><li>9</li><li>10</li><li>11</li><li>12</li><li>13</li><li>14</li><li>15</li><li>16</li><li>17</li><li>18</li><li>19</li><li>20</li><li>21</li><li>22</li><li>23</li><li>24</li></ol>\n"
      ],
      "text/latex": [
       "\\begin{enumerate*}\n",
       "\\item 1\n",
       "\\item 2\n",
       "\\item 3\n",
       "\\item 4\n",
       "\\item 5\n",
       "\\item 6\n",
       "\\item 7\n",
       "\\item 8\n",
       "\\item 9\n",
       "\\item 10\n",
       "\\item 11\n",
       "\\item 12\n",
       "\\item 13\n",
       "\\item 14\n",
       "\\item 15\n",
       "\\item 16\n",
       "\\item 17\n",
       "\\item 18\n",
       "\\item 19\n",
       "\\item 20\n",
       "\\item 21\n",
       "\\item 22\n",
       "\\item 23\n",
       "\\item 24\n",
       "\\end{enumerate*}\n"
      ],
      "text/markdown": [
       "1. 1\n",
       "2. 2\n",
       "3. 3\n",
       "4. 4\n",
       "5. 5\n",
       "6. 6\n",
       "7. 7\n",
       "8. 8\n",
       "9. 9\n",
       "10. 10\n",
       "11. 11\n",
       "12. 12\n",
       "13. 13\n",
       "14. 14\n",
       "15. 15\n",
       "16. 16\n",
       "17. 17\n",
       "18. 18\n",
       "19. 19\n",
       "20. 20\n",
       "21. 21\n",
       "22. 22\n",
       "23. 23\n",
       "24. 24\n",
       "\n",
       "\n"
      ],
      "text/plain": [
       " [1]  1  2  3  4  5  6  7  8  9 10 11 12 13 14 15 16 17 18 19 20 21 22 23 24"
      ]
     },
     "metadata": {},
     "output_type": "display_data"
    },
    {
     "data": {
      "text/html": [
       "24"
      ],
      "text/latex": [
       "24"
      ],
      "text/markdown": [
       "24"
      ],
      "text/plain": [
       "[1] 24"
      ]
     },
     "metadata": {},
     "output_type": "display_data"
    },
    {
     "data": {
      "text/html": [
       "'numeric'"
      ],
      "text/latex": [
       "'numeric'"
      ],
      "text/markdown": [
       "'numeric'"
      ],
      "text/plain": [
       "[1] \"numeric\""
      ]
     },
     "metadata": {},
     "output_type": "display_data"
    },
    {
     "data": {
      "text/html": [
       "'integer'"
      ],
      "text/latex": [
       "'integer'"
      ],
      "text/markdown": [
       "'integer'"
      ],
      "text/plain": [
       "[1] \"integer\""
      ]
     },
     "metadata": {},
     "output_type": "display_data"
    },
    {
     "data": {
      "text/html": [
       "'integer'"
      ],
      "text/latex": [
       "'integer'"
      ],
      "text/markdown": [
       "'integer'"
      ],
      "text/plain": [
       "[1] \"integer\""
      ]
     },
     "metadata": {},
     "output_type": "display_data"
    }
   ],
   "source": [
    "# Vetores, para criar usamos a função \"c\", e passamos a sequência do tipo de dados desejado\n",
    "\n",
    "vetor1 <- c(1:24)\n",
    "vetor1\n",
    "length(vetor1)\n",
    "mode(vetor1)\n",
    "class(vetor1)\n",
    "typeof(vetor1)"
   ]
  },
  {
   "cell_type": "code",
   "execution_count": 5,
   "metadata": {
    "vscode": {
     "languageId": "r"
    }
   },
   "outputs": [
    {
     "data": {
      "text/html": [
       "<style>\n",
       ".list-inline {list-style: none; margin:0; padding: 0}\n",
       ".list-inline>li {display: inline-block}\n",
       ".list-inline>li:not(:last-child)::after {content: \"\\00b7\"; padding: 0 .5ex}\n",
       "</style>\n",
       "<ol class=list-inline><li>'Matheus'</li><li>'Bruna'</li><li>'Simone'</li><li>'Hiann'</li><li>'Hericlis'</li></ol>\n"
      ],
      "text/latex": [
       "\\begin{enumerate*}\n",
       "\\item 'Matheus'\n",
       "\\item 'Bruna'\n",
       "\\item 'Simone'\n",
       "\\item 'Hiann'\n",
       "\\item 'Hericlis'\n",
       "\\end{enumerate*}\n"
      ],
      "text/markdown": [
       "1. 'Matheus'\n",
       "2. 'Bruna'\n",
       "3. 'Simone'\n",
       "4. 'Hiann'\n",
       "5. 'Hericlis'\n",
       "\n",
       "\n"
      ],
      "text/plain": [
       "[1] \"Matheus\"  \"Bruna\"    \"Simone\"   \"Hiann\"    \"Hericlis\""
      ]
     },
     "metadata": {},
     "output_type": "display_data"
    }
   ],
   "source": [
    "# podemos criar um vetor tanto de números, quanto de string (caracteres)\n",
    "\n",
    "vetor2 <- c(\"Matheus\", \"Bruna\", \"Simone\", \"Hiann\", \"Hericlis\")\n",
    "vetor2"
   ]
  },
  {
   "cell_type": "code",
   "execution_count": 6,
   "metadata": {
    "vscode": {
     "languageId": "r"
    }
   },
   "outputs": [
    {
     "data": {
      "text/html": [
       "'Bruna'"
      ],
      "text/latex": [
       "'Bruna'"
      ],
      "text/markdown": [
       "'Bruna'"
      ],
      "text/plain": [
       "[1] \"Bruna\""
      ]
     },
     "metadata": {},
     "output_type": "display_data"
    }
   ],
   "source": [
    "# Conseguimos também acessar um determinado valor dentro do vetor usando a seguinte sintaxe\n",
    "# vetor[index], sendo que a indexação começando do 1\n",
    "\n",
    "vetor2[2]"
   ]
  },
  {
   "cell_type": "code",
   "execution_count": 7,
   "metadata": {
    "vscode": {
     "languageId": "r"
    }
   },
   "outputs": [
    {
     "data": {
      "text/html": [
       "<style>\n",
       ".list-inline {list-style: none; margin:0; padding: 0}\n",
       ".list-inline>li {display: inline-block}\n",
       ".list-inline>li:not(:last-child)::after {content: \"\\00b7\"; padding: 0 .5ex}\n",
       "</style>\n",
       "<ol class=list-inline><li>'1'</li><li>'2'</li><li>'3'</li><li>'4'</li><li>'5'</li><li>'6'</li><li>'7'</li><li>'8'</li><li>'9'</li><li>'10'</li><li>'11'</li><li>'12'</li><li>'13'</li><li>'14'</li><li>'15'</li><li>'16'</li><li>'17'</li><li>'18'</li><li>'19'</li><li>'20'</li><li>'21'</li><li>'22'</li><li>'23'</li><li>'24'</li><li>'Matheus'</li><li>'Bruna'</li><li>'Simone'</li><li>'Hiann'</li><li>'Hericlis'</li></ol>\n"
      ],
      "text/latex": [
       "\\begin{enumerate*}\n",
       "\\item '1'\n",
       "\\item '2'\n",
       "\\item '3'\n",
       "\\item '4'\n",
       "\\item '5'\n",
       "\\item '6'\n",
       "\\item '7'\n",
       "\\item '8'\n",
       "\\item '9'\n",
       "\\item '10'\n",
       "\\item '11'\n",
       "\\item '12'\n",
       "\\item '13'\n",
       "\\item '14'\n",
       "\\item '15'\n",
       "\\item '16'\n",
       "\\item '17'\n",
       "\\item '18'\n",
       "\\item '19'\n",
       "\\item '20'\n",
       "\\item '21'\n",
       "\\item '22'\n",
       "\\item '23'\n",
       "\\item '24'\n",
       "\\item 'Matheus'\n",
       "\\item 'Bruna'\n",
       "\\item 'Simone'\n",
       "\\item 'Hiann'\n",
       "\\item 'Hericlis'\n",
       "\\end{enumerate*}\n"
      ],
      "text/markdown": [
       "1. '1'\n",
       "2. '2'\n",
       "3. '3'\n",
       "4. '4'\n",
       "5. '5'\n",
       "6. '6'\n",
       "7. '7'\n",
       "8. '8'\n",
       "9. '9'\n",
       "10. '10'\n",
       "11. '11'\n",
       "12. '12'\n",
       "13. '13'\n",
       "14. '14'\n",
       "15. '15'\n",
       "16. '16'\n",
       "17. '17'\n",
       "18. '18'\n",
       "19. '19'\n",
       "20. '20'\n",
       "21. '21'\n",
       "22. '22'\n",
       "23. '23'\n",
       "24. '24'\n",
       "25. 'Matheus'\n",
       "26. 'Bruna'\n",
       "27. 'Simone'\n",
       "28. 'Hiann'\n",
       "29. 'Hericlis'\n",
       "\n",
       "\n"
      ],
      "text/plain": [
       " [1] \"1\"        \"2\"        \"3\"        \"4\"        \"5\"        \"6\"       \n",
       " [7] \"7\"        \"8\"        \"9\"        \"10\"       \"11\"       \"12\"      \n",
       "[13] \"13\"       \"14\"       \"15\"       \"16\"       \"17\"       \"18\"      \n",
       "[19] \"19\"       \"20\"       \"21\"       \"22\"       \"23\"       \"24\"      \n",
       "[25] \"Matheus\"  \"Bruna\"    \"Simone\"   \"Hiann\"    \"Hericlis\""
      ]
     },
     "metadata": {},
     "output_type": "display_data"
    }
   ],
   "source": [
    "# podemos combinar dois vetores deferentes, obeserve que como estamos combinando\n",
    "# um vetor numeric e outro character, o tipo de dado se transforma em character\n",
    "\n",
    "c(vetor1, vetor2)"
   ]
  },
  {
   "cell_type": "code",
   "execution_count": 8,
   "metadata": {
    "vscode": {
     "languageId": "r"
    }
   },
   "outputs": [
    {
     "data": {
      "text/html": [
       "<style>\n",
       ".list-inline {list-style: none; margin:0; padding: 0}\n",
       ".list-inline>li {display: inline-block}\n",
       ".list-inline>li:not(:last-child)::after {content: \"\\00b7\"; padding: 0 .5ex}\n",
       "</style>\n",
       "<ol class=list-inline><li>6</li><li>8</li><li>10</li><li>12</li><li>14</li></ol>\n"
      ],
      "text/latex": [
       "\\begin{enumerate*}\n",
       "\\item 6\n",
       "\\item 8\n",
       "\\item 10\n",
       "\\item 12\n",
       "\\item 14\n",
       "\\end{enumerate*}\n"
      ],
      "text/markdown": [
       "1. 6\n",
       "2. 8\n",
       "3. 10\n",
       "4. 12\n",
       "5. 14\n",
       "\n",
       "\n"
      ],
      "text/plain": [
       "[1]  6  8 10 12 14"
      ]
     },
     "metadata": {},
     "output_type": "display_data"
    },
    {
     "data": {
      "text/html": [
       "<style>\n",
       ".list-inline {list-style: none; margin:0; padding: 0}\n",
       ".list-inline>li {display: inline-block}\n",
       ".list-inline>li:not(:last-child)::after {content: \"\\00b7\"; padding: 0 .5ex}\n",
       "</style>\n",
       "<ol class=list-inline><li>0</li><li>16</li><li>32</li><li>48</li><li>64</li></ol>\n"
      ],
      "text/latex": [
       "\\begin{enumerate*}\n",
       "\\item 0\n",
       "\\item 16\n",
       "\\item 32\n",
       "\\item 48\n",
       "\\item 64\n",
       "\\end{enumerate*}\n"
      ],
      "text/markdown": [
       "1. 0\n",
       "2. 16\n",
       "3. 32\n",
       "4. 48\n",
       "5. 64\n",
       "\n",
       "\n"
      ],
      "text/plain": [
       "[1]  0 16 32 48 64"
      ]
     },
     "metadata": {},
     "output_type": "display_data"
    },
    {
     "data": {
      "text/html": [
       "<style>\n",
       ".list-inline {list-style: none; margin:0; padding: 0}\n",
       ".list-inline>li {display: inline-block}\n",
       ".list-inline>li:not(:last-child)::after {content: \"\\00b7\"; padding: 0 .5ex}\n",
       "</style>\n",
       "<ol class=list-inline><li>1</li><li>5</li><li>9</li><li>13</li><li>17</li></ol>\n"
      ],
      "text/latex": [
       "\\begin{enumerate*}\n",
       "\\item 1\n",
       "\\item 5\n",
       "\\item 9\n",
       "\\item 13\n",
       "\\item 17\n",
       "\\end{enumerate*}\n"
      ],
      "text/markdown": [
       "1. 1\n",
       "2. 5\n",
       "3. 9\n",
       "4. 13\n",
       "5. 17\n",
       "\n",
       "\n"
      ],
      "text/plain": [
       "[1]  1  5  9 13 17"
      ]
     },
     "metadata": {},
     "output_type": "display_data"
    },
    {
     "data": {
      "text/html": [
       "<style>\n",
       ".list-inline {list-style: none; margin:0; padding: 0}\n",
       ".list-inline>li {display: inline-block}\n",
       ".list-inline>li:not(:last-child)::after {content: \"\\00b7\"; padding: 0 .5ex}\n",
       "</style>\n",
       "<ol class=list-inline><li>1</li><li>1</li><li>1</li><li>1</li><li>1</li></ol>\n"
      ],
      "text/latex": [
       "\\begin{enumerate*}\n",
       "\\item 1\n",
       "\\item 1\n",
       "\\item 1\n",
       "\\item 1\n",
       "\\item 1\n",
       "\\end{enumerate*}\n"
      ],
      "text/markdown": [
       "1. 1\n",
       "2. 1\n",
       "3. 1\n",
       "4. 1\n",
       "5. 1\n",
       "\n",
       "\n"
      ],
      "text/plain": [
       "[1] 1 1 1 1 1"
      ]
     },
     "metadata": {},
     "output_type": "display_data"
    },
    {
     "data": {
      "text/html": [
       "<style>\n",
       ".list-inline {list-style: none; margin:0; padding: 0}\n",
       ".list-inline>li {display: inline-block}\n",
       ".list-inline>li:not(:last-child)::after {content: \"\\00b7\"; padding: 0 .5ex}\n",
       "</style>\n",
       "<ol class=list-inline><li>0</li><li>6</li><li>20</li><li>42</li><li>72</li></ol>\n"
      ],
      "text/latex": [
       "\\begin{enumerate*}\n",
       "\\item 0\n",
       "\\item 6\n",
       "\\item 20\n",
       "\\item 42\n",
       "\\item 72\n",
       "\\end{enumerate*}\n"
      ],
      "text/markdown": [
       "1. 0\n",
       "2. 6\n",
       "3. 20\n",
       "4. 42\n",
       "5. 72\n",
       "\n",
       "\n"
      ],
      "text/plain": [
       "[1]  0  6 20 42 72"
      ]
     },
     "metadata": {},
     "output_type": "display_data"
    },
    {
     "data": {
      "text/html": [
       "<style>\n",
       ".list-inline {list-style: none; margin:0; padding: 0}\n",
       ".list-inline>li {display: inline-block}\n",
       ".list-inline>li:not(:last-child)::after {content: \"\\00b7\"; padding: 0 .5ex}\n",
       "</style>\n",
       "<ol class=list-inline><li>Inf</li><li>1.5</li><li>1.25</li><li>1.16666666666667</li><li>1.125</li></ol>\n"
      ],
      "text/latex": [
       "\\begin{enumerate*}\n",
       "\\item Inf\n",
       "\\item 1.5\n",
       "\\item 1.25\n",
       "\\item 1.16666666666667\n",
       "\\item 1.125\n",
       "\\end{enumerate*}\n"
      ],
      "text/markdown": [
       "1. Inf\n",
       "2. 1.5\n",
       "3. 1.25\n",
       "4. 1.16666666666667\n",
       "5. 1.125\n",
       "\n",
       "\n"
      ],
      "text/plain": [
       "[1]      Inf 1.500000 1.250000 1.166667 1.125000"
      ]
     },
     "metadata": {},
     "output_type": "display_data"
    }
   ],
   "source": [
    "# podemos também realizar operações entre vetores\n",
    "x <- c(1, 3, 5, 7, 9)\n",
    "y <- c(0, 2, 4, 6, 8)\n",
    "\n",
    "x + 5\n",
    "y * 8\n",
    "x + y\n",
    "x - y\n",
    "x * y\n",
    "x / y"
   ]
  },
  {
   "attachments": {},
   "cell_type": "markdown",
   "metadata": {},
   "source": [
    "### Matrizes"
   ]
  },
  {
   "cell_type": "code",
   "execution_count": 9,
   "metadata": {
    "vscode": {
     "languageId": "r"
    }
   },
   "outputs": [
    {
     "data": {
      "text/html": [
       "<table class=\"dataframe\">\n",
       "<caption>A matrix: 5 × 5 of type int</caption>\n",
       "<tbody>\n",
       "\t<tr><td>1</td><td> 6</td><td>11</td><td>16</td><td>21</td></tr>\n",
       "\t<tr><td>2</td><td> 7</td><td>12</td><td>17</td><td>22</td></tr>\n",
       "\t<tr><td>3</td><td> 8</td><td>13</td><td>18</td><td>23</td></tr>\n",
       "\t<tr><td>4</td><td> 9</td><td>14</td><td>19</td><td>24</td></tr>\n",
       "\t<tr><td>5</td><td>10</td><td>15</td><td>20</td><td>25</td></tr>\n",
       "</tbody>\n",
       "</table>\n"
      ],
      "text/latex": [
       "A matrix: 5 × 5 of type int\n",
       "\\begin{tabular}{lllll}\n",
       "\t 1 &  6 & 11 & 16 & 21\\\\\n",
       "\t 2 &  7 & 12 & 17 & 22\\\\\n",
       "\t 3 &  8 & 13 & 18 & 23\\\\\n",
       "\t 4 &  9 & 14 & 19 & 24\\\\\n",
       "\t 5 & 10 & 15 & 20 & 25\\\\\n",
       "\\end{tabular}\n"
      ],
      "text/markdown": [
       "\n",
       "A matrix: 5 × 5 of type int\n",
       "\n",
       "| 1 |  6 | 11 | 16 | 21 |\n",
       "| 2 |  7 | 12 | 17 | 22 |\n",
       "| 3 |  8 | 13 | 18 | 23 |\n",
       "| 4 |  9 | 14 | 19 | 24 |\n",
       "| 5 | 10 | 15 | 20 | 25 |\n",
       "\n"
      ],
      "text/plain": [
       "     [,1] [,2] [,3] [,4] [,5]\n",
       "[1,] 1     6   11   16   21  \n",
       "[2,] 2     7   12   17   22  \n",
       "[3,] 3     8   13   18   23  \n",
       "[4,] 4     9   14   19   24  \n",
       "[5,] 5    10   15   20   25  "
      ]
     },
     "metadata": {},
     "output_type": "display_data"
    }
   ],
   "source": [
    "# Matrizes, para criarmos usamos a função matrix, passando como parametro o n° de linhas\n",
    "# o n° de colunas\n",
    "\n",
    "matrix(c(1:25), nrow=5, ncol=5)"
   ]
  },
  {
   "cell_type": "code",
   "execution_count": 10,
   "metadata": {
    "vscode": {
     "languageId": "r"
    }
   },
   "outputs": [
    {
     "data": {
      "text/html": [
       "<table class=\"dataframe\">\n",
       "<caption>A matrix: 5 × 5 of type int</caption>\n",
       "<tbody>\n",
       "\t<tr><td> 1</td><td> 2</td><td> 3</td><td> 4</td><td> 5</td></tr>\n",
       "\t<tr><td> 6</td><td> 7</td><td> 8</td><td> 9</td><td>10</td></tr>\n",
       "\t<tr><td>11</td><td>12</td><td>13</td><td>14</td><td>15</td></tr>\n",
       "\t<tr><td>16</td><td>17</td><td>18</td><td>19</td><td>20</td></tr>\n",
       "\t<tr><td>21</td><td>22</td><td>23</td><td>24</td><td>25</td></tr>\n",
       "</tbody>\n",
       "</table>\n"
      ],
      "text/latex": [
       "A matrix: 5 × 5 of type int\n",
       "\\begin{tabular}{lllll}\n",
       "\t  1 &  2 &  3 &  4 &  5\\\\\n",
       "\t  6 &  7 &  8 &  9 & 10\\\\\n",
       "\t 11 & 12 & 13 & 14 & 15\\\\\n",
       "\t 16 & 17 & 18 & 19 & 20\\\\\n",
       "\t 21 & 22 & 23 & 24 & 25\\\\\n",
       "\\end{tabular}\n"
      ],
      "text/markdown": [
       "\n",
       "A matrix: 5 × 5 of type int\n",
       "\n",
       "|  1 |  2 |  3 |  4 |  5 |\n",
       "|  6 |  7 |  8 |  9 | 10 |\n",
       "| 11 | 12 | 13 | 14 | 15 |\n",
       "| 16 | 17 | 18 | 19 | 20 |\n",
       "| 21 | 22 | 23 | 24 | 25 |\n",
       "\n"
      ],
      "text/plain": [
       "     [,1] [,2] [,3] [,4] [,5]\n",
       "[1,]  1    2    3    4    5  \n",
       "[2,]  6    7    8    9   10  \n",
       "[3,] 11   12   13   14   15  \n",
       "[4,] 16   17   18   19   20  \n",
       "[5,] 21   22   23   24   25  "
      ]
     },
     "metadata": {},
     "output_type": "display_data"
    }
   ],
   "source": [
    "# podemos ordenar os valores tanto por coluna do ex acima, quanto por linha no ex abaixo\n",
    "\n",
    "matrix(c(1:25), nrow=5, ncol=5, byrow=TRUE)"
   ]
  },
  {
   "cell_type": "code",
   "execution_count": 17,
   "metadata": {
    "vscode": {
     "languageId": "r"
    }
   },
   "outputs": [
    {
     "data": {
      "text/html": [
       "<table class=\"dataframe\">\n",
       "<caption>A matrix: 5 × 5 of type int</caption>\n",
       "<tbody>\n",
       "\t<tr><td> 1</td><td> 2</td><td> 3</td><td> 4</td><td> 5</td></tr>\n",
       "\t<tr><td> 6</td><td> 7</td><td> 8</td><td> 9</td><td>10</td></tr>\n",
       "\t<tr><td>11</td><td>12</td><td>13</td><td>14</td><td>15</td></tr>\n",
       "\t<tr><td>16</td><td>17</td><td>18</td><td>19</td><td>20</td></tr>\n",
       "\t<tr><td>21</td><td>22</td><td>23</td><td>24</td><td>25</td></tr>\n",
       "</tbody>\n",
       "</table>\n"
      ],
      "text/latex": [
       "A matrix: 5 × 5 of type int\n",
       "\\begin{tabular}{lllll}\n",
       "\t  1 &  2 &  3 &  4 &  5\\\\\n",
       "\t  6 &  7 &  8 &  9 & 10\\\\\n",
       "\t 11 & 12 & 13 & 14 & 15\\\\\n",
       "\t 16 & 17 & 18 & 19 & 20\\\\\n",
       "\t 21 & 22 & 23 & 24 & 25\\\\\n",
       "\\end{tabular}\n"
      ],
      "text/markdown": [
       "\n",
       "A matrix: 5 × 5 of type int\n",
       "\n",
       "|  1 |  2 |  3 |  4 |  5 |\n",
       "|  6 |  7 |  8 |  9 | 10 |\n",
       "| 11 | 12 | 13 | 14 | 15 |\n",
       "| 16 | 17 | 18 | 19 | 20 |\n",
       "| 21 | 22 | 23 | 24 | 25 |\n",
       "\n"
      ],
      "text/plain": [
       "     [,1] [,2] [,3] [,4] [,5]\n",
       "[1,]  1    2    3    4    5  \n",
       "[2,]  6    7    8    9   10  \n",
       "[3,] 11   12   13   14   15  \n",
       "[4,] 16   17   18   19   20  \n",
       "[5,] 21   22   23   24   25  "
      ]
     },
     "metadata": {},
     "output_type": "display_data"
    },
    {
     "data": {
      "text/html": [
       "1"
      ],
      "text/latex": [
       "1"
      ],
      "text/markdown": [
       "1"
      ],
      "text/plain": [
       "[1] 1"
      ]
     },
     "metadata": {},
     "output_type": "display_data"
    },
    {
     "data": {
      "text/html": [
       "7"
      ],
      "text/latex": [
       "7"
      ],
      "text/markdown": [
       "7"
      ],
      "text/plain": [
       "[1] 7"
      ]
     },
     "metadata": {},
     "output_type": "display_data"
    },
    {
     "data": {
      "text/html": [
       "18"
      ],
      "text/latex": [
       "18"
      ],
      "text/markdown": [
       "18"
      ],
      "text/plain": [
       "[1] 18"
      ]
     },
     "metadata": {},
     "output_type": "display_data"
    }
   ],
   "source": [
    "# também podemos buscar um elemento, linha ou coluna com a seguinte sintaxe\n",
    "# matrix[linha, coluna]\n",
    "\n",
    "mat <- matrix(c(1:25), nr=5, nc=5, byrow=T)\n",
    "mat\n",
    "\n",
    "mat[1, 1]\n",
    "mat[2, 2]\n",
    "mat[4, 3]\n"
   ]
  },
  {
   "cell_type": "code",
   "execution_count": 18,
   "metadata": {
    "vscode": {
     "languageId": "r"
    }
   },
   "outputs": [
    {
     "data": {
      "text/html": [
       "<style>\n",
       ".list-inline {list-style: none; margin:0; padding: 0}\n",
       ".list-inline>li {display: inline-block}\n",
       ".list-inline>li:not(:last-child)::after {content: \"\\00b7\"; padding: 0 .5ex}\n",
       "</style>\n",
       "<ol class=list-inline><li>1</li><li>7</li><li>13</li><li>19</li><li>25</li></ol>\n"
      ],
      "text/latex": [
       "\\begin{enumerate*}\n",
       "\\item 1\n",
       "\\item 7\n",
       "\\item 13\n",
       "\\item 19\n",
       "\\item 25\n",
       "\\end{enumerate*}\n"
      ],
      "text/markdown": [
       "1. 1\n",
       "2. 7\n",
       "3. 13\n",
       "4. 19\n",
       "5. 25\n",
       "\n",
       "\n"
      ],
      "text/plain": [
       "[1]  1  7 13 19 25"
      ]
     },
     "metadata": {},
     "output_type": "display_data"
    }
   ],
   "source": [
    "# podemos extrair um vetor contendo a diagonal da matriz\n",
    "\n",
    "diag(mat)"
   ]
  },
  {
   "cell_type": "code",
   "execution_count": 19,
   "metadata": {
    "vscode": {
     "languageId": "r"
    }
   },
   "outputs": [
    {
     "data": {
      "text/html": [
       "<table class=\"dataframe\">\n",
       "<caption>A matrix: 5 × 5 of type int</caption>\n",
       "<tbody>\n",
       "\t<tr><td>1</td><td> 6</td><td>11</td><td>16</td><td>21</td></tr>\n",
       "\t<tr><td>2</td><td> 7</td><td>12</td><td>17</td><td>22</td></tr>\n",
       "\t<tr><td>3</td><td> 8</td><td>13</td><td>18</td><td>23</td></tr>\n",
       "\t<tr><td>4</td><td> 9</td><td>14</td><td>19</td><td>24</td></tr>\n",
       "\t<tr><td>5</td><td>10</td><td>15</td><td>20</td><td>25</td></tr>\n",
       "</tbody>\n",
       "</table>\n"
      ],
      "text/latex": [
       "A matrix: 5 × 5 of type int\n",
       "\\begin{tabular}{lllll}\n",
       "\t 1 &  6 & 11 & 16 & 21\\\\\n",
       "\t 2 &  7 & 12 & 17 & 22\\\\\n",
       "\t 3 &  8 & 13 & 18 & 23\\\\\n",
       "\t 4 &  9 & 14 & 19 & 24\\\\\n",
       "\t 5 & 10 & 15 & 20 & 25\\\\\n",
       "\\end{tabular}\n"
      ],
      "text/markdown": [
       "\n",
       "A matrix: 5 × 5 of type int\n",
       "\n",
       "| 1 |  6 | 11 | 16 | 21 |\n",
       "| 2 |  7 | 12 | 17 | 22 |\n",
       "| 3 |  8 | 13 | 18 | 23 |\n",
       "| 4 |  9 | 14 | 19 | 24 |\n",
       "| 5 | 10 | 15 | 20 | 25 |\n",
       "\n"
      ],
      "text/plain": [
       "     [,1] [,2] [,3] [,4] [,5]\n",
       "[1,] 1     6   11   16   21  \n",
       "[2,] 2     7   12   17   22  \n",
       "[3,] 3     8   13   18   23  \n",
       "[4,] 4     9   14   19   24  \n",
       "[5,] 5    10   15   20   25  "
      ]
     },
     "metadata": {},
     "output_type": "display_data"
    }
   ],
   "source": [
    "# fazer a transposta da matriz\n",
    "\n",
    "t(mat)"
   ]
  },
  {
   "attachments": {},
   "cell_type": "markdown",
   "metadata": {},
   "source": [
    "### Listas"
   ]
  },
  {
   "cell_type": "code",
   "execution_count": 24,
   "metadata": {
    "vscode": {
     "languageId": "r"
    }
   },
   "outputs": [
    {
     "data": {
      "text/html": [
       "<ol>\n",
       "\t<li><style>\n",
       ".list-inline {list-style: none; margin:0; padding: 0}\n",
       ".list-inline>li {display: inline-block}\n",
       ".list-inline>li:not(:last-child)::after {content: \"\\00b7\"; padding: 0 .5ex}\n",
       "</style>\n",
       "<ol class=list-inline><li>1</li><li>2</li><li>3</li><li>4</li><li>5</li><li>6</li><li>7</li><li>8</li><li>9</li><li>10</li><li>11</li><li>12</li><li>13</li><li>14</li><li>15</li><li>16</li><li>17</li><li>18</li><li>19</li><li>20</li><li>21</li><li>22</li><li>23</li><li>24</li></ol>\n",
       "</li>\n",
       "\t<li><table class=\"dataframe\">\n",
       "<caption>A matrix: 5 × 5 of type int</caption>\n",
       "<tbody>\n",
       "\t<tr><td> 1</td><td> 2</td><td> 3</td><td> 4</td><td> 5</td></tr>\n",
       "\t<tr><td> 6</td><td> 7</td><td> 8</td><td> 9</td><td>10</td></tr>\n",
       "\t<tr><td>11</td><td>12</td><td>13</td><td>14</td><td>15</td></tr>\n",
       "\t<tr><td>16</td><td>17</td><td>18</td><td>19</td><td>20</td></tr>\n",
       "\t<tr><td>21</td><td>22</td><td>23</td><td>24</td><td>25</td></tr>\n",
       "</tbody>\n",
       "</table>\n",
       "</li>\n",
       "</ol>\n"
      ],
      "text/latex": [
       "\\begin{enumerate}\n",
       "\\item \\begin{enumerate*}\n",
       "\\item 1\n",
       "\\item 2\n",
       "\\item 3\n",
       "\\item 4\n",
       "\\item 5\n",
       "\\item 6\n",
       "\\item 7\n",
       "\\item 8\n",
       "\\item 9\n",
       "\\item 10\n",
       "\\item 11\n",
       "\\item 12\n",
       "\\item 13\n",
       "\\item 14\n",
       "\\item 15\n",
       "\\item 16\n",
       "\\item 17\n",
       "\\item 18\n",
       "\\item 19\n",
       "\\item 20\n",
       "\\item 21\n",
       "\\item 22\n",
       "\\item 23\n",
       "\\item 24\n",
       "\\end{enumerate*}\n",
       "\n",
       "\\item A matrix: 5 × 5 of type int\n",
       "\\begin{tabular}{lllll}\n",
       "\t  1 &  2 &  3 &  4 &  5\\\\\n",
       "\t  6 &  7 &  8 &  9 & 10\\\\\n",
       "\t 11 & 12 & 13 & 14 & 15\\\\\n",
       "\t 16 & 17 & 18 & 19 & 20\\\\\n",
       "\t 21 & 22 & 23 & 24 & 25\\\\\n",
       "\\end{tabular}\n",
       "\n",
       "\\end{enumerate}\n"
      ],
      "text/markdown": [
       "1. 1. 1\n",
       "2. 2\n",
       "3. 3\n",
       "4. 4\n",
       "5. 5\n",
       "6. 6\n",
       "7. 7\n",
       "8. 8\n",
       "9. 9\n",
       "10. 10\n",
       "11. 11\n",
       "12. 12\n",
       "13. 13\n",
       "14. 14\n",
       "15. 15\n",
       "16. 16\n",
       "17. 17\n",
       "18. 18\n",
       "19. 19\n",
       "20. 20\n",
       "21. 21\n",
       "22. 22\n",
       "23. 23\n",
       "24. 24\n",
       "\n",
       "\n",
       "\n",
       "2. \n",
       "A matrix: 5 × 5 of type int\n",
       "\n",
       "|  1 |  2 |  3 |  4 |  5 |\n",
       "|  6 |  7 |  8 |  9 | 10 |\n",
       "| 11 | 12 | 13 | 14 | 15 |\n",
       "| 16 | 17 | 18 | 19 | 20 |\n",
       "| 21 | 22 | 23 | 24 | 25 |\n",
       "\n",
       "\n",
       "\n",
       "\n"
      ],
      "text/plain": [
       "[[1]]\n",
       " [1]  1  2  3  4  5  6  7  8  9 10 11 12 13 14 15 16 17 18 19 20 21 22 23 24\n",
       "\n",
       "[[2]]\n",
       "     [,1] [,2] [,3] [,4] [,5]\n",
       "[1,]    1    2    3    4    5\n",
       "[2,]    6    7    8    9   10\n",
       "[3,]   11   12   13   14   15\n",
       "[4,]   16   17   18   19   20\n",
       "[5,]   21   22   23   24   25\n"
      ]
     },
     "metadata": {},
     "output_type": "display_data"
    },
    {
     "data": {
      "text/html": [
       "<ol>\n",
       "\t<li><style>\n",
       ".list-inline {list-style: none; margin:0; padding: 0}\n",
       ".list-inline>li {display: inline-block}\n",
       ".list-inline>li:not(:last-child)::after {content: \"\\00b7\"; padding: 0 .5ex}\n",
       "</style>\n",
       "<ol class=list-inline><li>1</li><li>2</li><li>3</li><li>4</li><li>5</li><li>6</li><li>7</li><li>8</li><li>9</li><li>10</li><li>11</li><li>12</li><li>13</li><li>14</li><li>15</li><li>16</li><li>17</li><li>18</li><li>19</li><li>20</li><li>21</li><li>22</li><li>23</li><li>24</li></ol>\n",
       "</li>\n",
       "</ol>\n"
      ],
      "text/latex": [
       "\\begin{enumerate}\n",
       "\\item \\begin{enumerate*}\n",
       "\\item 1\n",
       "\\item 2\n",
       "\\item 3\n",
       "\\item 4\n",
       "\\item 5\n",
       "\\item 6\n",
       "\\item 7\n",
       "\\item 8\n",
       "\\item 9\n",
       "\\item 10\n",
       "\\item 11\n",
       "\\item 12\n",
       "\\item 13\n",
       "\\item 14\n",
       "\\item 15\n",
       "\\item 16\n",
       "\\item 17\n",
       "\\item 18\n",
       "\\item 19\n",
       "\\item 20\n",
       "\\item 21\n",
       "\\item 22\n",
       "\\item 23\n",
       "\\item 24\n",
       "\\end{enumerate*}\n",
       "\n",
       "\\end{enumerate}\n"
      ],
      "text/markdown": [
       "1. 1. 1\n",
       "2. 2\n",
       "3. 3\n",
       "4. 4\n",
       "5. 5\n",
       "6. 6\n",
       "7. 7\n",
       "8. 8\n",
       "9. 9\n",
       "10. 10\n",
       "11. 11\n",
       "12. 12\n",
       "13. 13\n",
       "14. 14\n",
       "15. 15\n",
       "16. 16\n",
       "17. 17\n",
       "18. 18\n",
       "19. 19\n",
       "20. 20\n",
       "21. 21\n",
       "22. 22\n",
       "23. 23\n",
       "24. 24\n",
       "\n",
       "\n",
       "\n",
       "\n",
       "\n"
      ],
      "text/plain": [
       "[[1]]\n",
       " [1]  1  2  3  4  5  6  7  8  9 10 11 12 13 14 15 16 17 18 19 20 21 22 23 24\n"
      ]
     },
     "metadata": {},
     "output_type": "display_data"
    }
   ],
   "source": [
    "# Listas, sendo uma coleção de deferentes objetos, pode-se criar com a seguinte sintaxe\n",
    "# list()\n",
    "\n",
    "lista1 <- list(vetor1, mat)\n",
    "lista1\n",
    "\n",
    "lista1[1]"
   ]
  },
  {
   "attachments": {},
   "cell_type": "markdown",
   "metadata": {},
   "source": [
    "### Fatores"
   ]
  },
  {
   "attachments": {},
   "cell_type": "markdown",
   "metadata": {},
   "source": [
    "Fatores são uma classe de objetos no R criada para representar as variáveis categóricas numericamente. Essa classe possui um atributo especial: os levels. Levels são nada mais do que as categorias possíveis de uma variável categórica.\n",
    "\n",
    "Como exemplo, imagine que o objeto sexo guarde uma coluna que indica o sexo de uma pessoa: F para feminino e M para masculino. Normalmente, essa coluna seria importada para o R como texto. Podemos transformá-la em fator utilizando a função as.factor()."
   ]
  },
  {
   "cell_type": "code",
   "execution_count": 28,
   "metadata": {
    "vscode": {
     "languageId": "r"
    }
   },
   "outputs": [
    {
     "data": {
      "text/html": [
       "<style>\n",
       ".list-inline {list-style: none; margin:0; padding: 0}\n",
       ".list-inline>li {display: inline-block}\n",
       ".list-inline>li:not(:last-child)::after {content: \"\\00b7\"; padding: 0 .5ex}\n",
       "</style>\n",
       "<ol class=list-inline><li>'M'</li><li>'F'</li><li>'F'</li><li>'M'</li><li>'M'</li><li>'M'</li><li>'F'</li><li>'F'</li><li>'M'</li><li>'M'</li><li>'M'</li><li>'F'</li><li>'F'</li><li>'M'</li><li>'M'</li></ol>\n"
      ],
      "text/latex": [
       "\\begin{enumerate*}\n",
       "\\item 'M'\n",
       "\\item 'F'\n",
       "\\item 'F'\n",
       "\\item 'M'\n",
       "\\item 'M'\n",
       "\\item 'M'\n",
       "\\item 'F'\n",
       "\\item 'F'\n",
       "\\item 'M'\n",
       "\\item 'M'\n",
       "\\item 'M'\n",
       "\\item 'F'\n",
       "\\item 'F'\n",
       "\\item 'M'\n",
       "\\item 'M'\n",
       "\\end{enumerate*}\n"
      ],
      "text/markdown": [
       "1. 'M'\n",
       "2. 'F'\n",
       "3. 'F'\n",
       "4. 'M'\n",
       "5. 'M'\n",
       "6. 'M'\n",
       "7. 'F'\n",
       "8. 'F'\n",
       "9. 'M'\n",
       "10. 'M'\n",
       "11. 'M'\n",
       "12. 'F'\n",
       "13. 'F'\n",
       "14. 'M'\n",
       "15. 'M'\n",
       "\n",
       "\n"
      ],
      "text/plain": [
       " [1] \"M\" \"F\" \"F\" \"M\" \"M\" \"M\" \"F\" \"F\" \"M\" \"M\" \"M\" \"F\" \"F\" \"M\" \"M\""
      ]
     },
     "metadata": {},
     "output_type": "display_data"
    }
   ],
   "source": [
    "sexo <- c(\"M\", \"F\", \"F\", \"M\", \"M\", \"M\", \"F\", \"F\", \"M\", \"M\", \"M\", \"F\", \"F\", \"M\", \"M\")\n",
    "sexo"
   ]
  },
  {
   "cell_type": "code",
   "execution_count": 29,
   "metadata": {
    "vscode": {
     "languageId": "r"
    }
   },
   "outputs": [
    {
     "data": {
      "text/html": [
       "<style>\n",
       ".list-inline {list-style: none; margin:0; padding: 0}\n",
       ".list-inline>li {display: inline-block}\n",
       ".list-inline>li:not(:last-child)::after {content: \"\\00b7\"; padding: 0 .5ex}\n",
       "</style>\n",
       "<ol class=list-inline><li>M</li><li>F</li><li>F</li><li>M</li><li>M</li><li>M</li><li>F</li><li>F</li><li>M</li><li>M</li><li>M</li><li>F</li><li>F</li><li>M</li><li>M</li></ol>\n",
       "\n",
       "<details>\n",
       "\t<summary style=display:list-item;cursor:pointer>\n",
       "\t\t<strong>Levels</strong>:\n",
       "\t</summary>\n",
       "\t<style>\n",
       "\t.list-inline {list-style: none; margin:0; padding: 0}\n",
       "\t.list-inline>li {display: inline-block}\n",
       "\t.list-inline>li:not(:last-child)::after {content: \"\\00b7\"; padding: 0 .5ex}\n",
       "\t</style>\n",
       "\t<ol class=list-inline><li>'F'</li><li>'M'</li></ol>\n",
       "</details>"
      ],
      "text/latex": [
       "\\begin{enumerate*}\n",
       "\\item M\n",
       "\\item F\n",
       "\\item F\n",
       "\\item M\n",
       "\\item M\n",
       "\\item M\n",
       "\\item F\n",
       "\\item F\n",
       "\\item M\n",
       "\\item M\n",
       "\\item M\n",
       "\\item F\n",
       "\\item F\n",
       "\\item M\n",
       "\\item M\n",
       "\\end{enumerate*}\n",
       "\n",
       "\\emph{Levels}: \\begin{enumerate*}\n",
       "\\item 'F'\n",
       "\\item 'M'\n",
       "\\end{enumerate*}\n"
      ],
      "text/markdown": [
       "1. M\n",
       "2. F\n",
       "3. F\n",
       "4. M\n",
       "5. M\n",
       "6. M\n",
       "7. F\n",
       "8. F\n",
       "9. M\n",
       "10. M\n",
       "11. M\n",
       "12. F\n",
       "13. F\n",
       "14. M\n",
       "15. M\n",
       "\n",
       "\n",
       "\n",
       "**Levels**: 1. 'F'\n",
       "2. 'M'\n",
       "\n",
       "\n"
      ],
      "text/plain": [
       " [1] M F F M M M F F M M M F F M M\n",
       "Levels: F M"
      ]
     },
     "metadata": {},
     "output_type": "display_data"
    }
   ],
   "source": [
    "as.factor(sexo)"
   ]
  },
  {
   "cell_type": "code",
   "execution_count": 27,
   "metadata": {
    "vscode": {
     "languageId": "r"
    }
   },
   "outputs": [
    {
     "data": {
      "text/html": [
       "<style>\n",
       ".list-inline {list-style: none; margin:0; padding: 0}\n",
       ".list-inline>li {display: inline-block}\n",
       ".list-inline>li:not(:last-child)::after {content: \"\\00b7\"; padding: 0 .5ex}\n",
       "</style>\n",
       "<ol class=list-inline><li>'Mestrado'</li><li>'Doutorado'</li><li>'Bacharelado'</li><li>'Mestrado'</li><li>'Mestrado'</li><li>'Doutorado'</li></ol>\n"
      ],
      "text/latex": [
       "\\begin{enumerate*}\n",
       "\\item 'Mestrado'\n",
       "\\item 'Doutorado'\n",
       "\\item 'Bacharelado'\n",
       "\\item 'Mestrado'\n",
       "\\item 'Mestrado'\n",
       "\\item 'Doutorado'\n",
       "\\end{enumerate*}\n"
      ],
      "text/markdown": [
       "1. 'Mestrado'\n",
       "2. 'Doutorado'\n",
       "3. 'Bacharelado'\n",
       "4. 'Mestrado'\n",
       "5. 'Mestrado'\n",
       "6. 'Doutorado'\n",
       "\n",
       "\n"
      ],
      "text/plain": [
       "[1] \"Mestrado\"    \"Doutorado\"   \"Bacharelado\" \"Mestrado\"    \"Mestrado\"   \n",
       "[6] \"Doutorado\"  "
      ]
     },
     "metadata": {},
     "output_type": "display_data"
    },
    {
     "data": {
      "text/html": [
       "<style>\n",
       ".list-inline {list-style: none; margin:0; padding: 0}\n",
       ".list-inline>li {display: inline-block}\n",
       ".list-inline>li:not(:last-child)::after {content: \"\\00b7\"; padding: 0 .5ex}\n",
       "</style>\n",
       "<ol class=list-inline><li>Mestrado</li><li>Doutorado</li><li>Bacharelado</li><li>Mestrado</li><li>Mestrado</li><li>Doutorado</li></ol>\n",
       "\n",
       "<details>\n",
       "\t<summary style=display:list-item;cursor:pointer>\n",
       "\t\t<strong>Levels</strong>:\n",
       "\t</summary>\n",
       "\t<style>\n",
       "\t.list-inline {list-style: none; margin:0; padding: 0}\n",
       "\t.list-inline>li {display: inline-block}\n",
       "\t.list-inline>li:not(:last-child)::after {content: \"\\00b7\"; padding: 0 .5ex}\n",
       "\t</style>\n",
       "\t<ol class=list-inline><li>'Doutorado'</li><li>'Mestrado'</li><li>'Bacharelado'</li></ol>\n",
       "</details>"
      ],
      "text/latex": [
       "\\begin{enumerate*}\n",
       "\\item Mestrado\n",
       "\\item Doutorado\n",
       "\\item Bacharelado\n",
       "\\item Mestrado\n",
       "\\item Mestrado\n",
       "\\item Doutorado\n",
       "\\end{enumerate*}\n",
       "\n",
       "\\emph{Levels}: \\begin{enumerate*}\n",
       "\\item 'Doutorado'\n",
       "\\item 'Mestrado'\n",
       "\\item 'Bacharelado'\n",
       "\\end{enumerate*}\n"
      ],
      "text/markdown": [
       "1. Mestrado\n",
       "2. Doutorado\n",
       "3. Bacharelado\n",
       "4. Mestrado\n",
       "5. Mestrado\n",
       "6. Doutorado\n",
       "\n",
       "\n",
       "\n",
       "**Levels**: 1. 'Doutorado'\n",
       "2. 'Mestrado'\n",
       "3. 'Bacharelado'\n",
       "\n",
       "\n"
      ],
      "text/plain": [
       "[1] Mestrado    Doutorado   Bacharelado Mestrado    Mestrado    Doutorado  \n",
       "Levels: Doutorado < Mestrado < Bacharelado"
      ]
     },
     "metadata": {},
     "output_type": "display_data"
    },
    {
     "data": {
      "text/html": [
       "<style>\n",
       ".list-inline {list-style: none; margin:0; padding: 0}\n",
       ".list-inline>li {display: inline-block}\n",
       ".list-inline>li:not(:last-child)::after {content: \"\\00b7\"; padding: 0 .5ex}\n",
       "</style>\n",
       "<ol class=list-inline><li>'Doutorado'</li><li>'Mestrado'</li><li>'Bacharelado'</li></ol>\n"
      ],
      "text/latex": [
       "\\begin{enumerate*}\n",
       "\\item 'Doutorado'\n",
       "\\item 'Mestrado'\n",
       "\\item 'Bacharelado'\n",
       "\\end{enumerate*}\n"
      ],
      "text/markdown": [
       "1. 'Doutorado'\n",
       "2. 'Mestrado'\n",
       "3. 'Bacharelado'\n",
       "\n",
       "\n"
      ],
      "text/plain": [
       "[1] \"Doutorado\"   \"Mestrado\"    \"Bacharelado\""
      ]
     },
     "metadata": {},
     "output_type": "display_data"
    }
   ],
   "source": [
    "# podemos criar um fator da seguinte forma também\n",
    "grad <- c(\"Mestrado\", \"Doutorado\", \"Bacharelado\", \"Mestrado\", \"Mestrado\", \"Doutorado\")\n",
    "grad\n",
    "fac_grad <- factor(grad, order = TRUE, levels = c(\"Doutorado\", \"Mestrado\", \"Bacharelado\"))\n",
    "fac_grad\n",
    "levels(fac_grad)"
   ]
  },
  {
   "cell_type": "code",
   "execution_count": 30,
   "metadata": {
    "vscode": {
     "languageId": "r"
    }
   },
   "outputs": [
    {
     "data": {
      "text/plain": [
       "grad\n",
       "Bacharelado   Doutorado    Mestrado \n",
       "          1           2           3 "
      ]
     },
     "metadata": {},
     "output_type": "display_data"
    }
   ],
   "source": [
    "# podemos usar a função table() para fazer uma contagem dos elementos\n",
    "\n",
    "table(grad)"
   ]
  },
  {
   "cell_type": "code",
   "execution_count": 31,
   "metadata": {
    "vscode": {
     "languageId": "r"
    }
   },
   "outputs": [
    {
     "data": {
      "text/plain": [
       "   Length     Class      Mode \n",
       "        6 character character "
      ]
     },
     "metadata": {},
     "output_type": "display_data"
    }
   ],
   "source": [
    "# e usar a função summary() para uma sumarização dos dados\n",
    "\n",
    "summary(grad)"
   ]
  },
  {
   "attachments": {},
   "cell_type": "markdown",
   "metadata": {},
   "source": [
    "### Dataframes"
   ]
  },
  {
   "attachments": {},
   "cell_type": "markdown",
   "metadata": {},
   "source": [
    "Os data frames são de extrema importância no R, pois são os objetos que guardam os nossos dados. Eles são equivalentes a uma tabela do SQL ou uma planilha do Excel."
   ]
  },
  {
   "cell_type": "code",
   "execution_count": 32,
   "metadata": {
    "vscode": {
     "languageId": "r"
    }
   },
   "outputs": [],
   "source": [
    "# primeiro vamos criar alguns vetores\n",
    "nomes <- c(\"Matheus\", \"Bruna\", \"Simone\", \"Hiann\", \"Hericlis\")\n",
    "idade <- c(27, 30, 45, 29, 27)\n",
    "altura <- c(1.84, 1.75, 1.77, 1.83, 1.80)"
   ]
  },
  {
   "cell_type": "code",
   "execution_count": 38,
   "metadata": {
    "vscode": {
     "languageId": "r"
    }
   },
   "outputs": [
    {
     "data": {
      "text/html": [
       "<table class=\"dataframe\">\n",
       "<caption>A data.frame: 5 × 3</caption>\n",
       "<thead>\n",
       "\t<tr><th scope=col>nomes</th><th scope=col>idade</th><th scope=col>altura</th></tr>\n",
       "\t<tr><th scope=col>&lt;chr&gt;</th><th scope=col>&lt;dbl&gt;</th><th scope=col>&lt;dbl&gt;</th></tr>\n",
       "</thead>\n",
       "<tbody>\n",
       "\t<tr><td>Matheus </td><td>27</td><td>1.84</td></tr>\n",
       "\t<tr><td>Bruna   </td><td>30</td><td>1.75</td></tr>\n",
       "\t<tr><td>Simone  </td><td>45</td><td>1.77</td></tr>\n",
       "\t<tr><td>Hiann   </td><td>29</td><td>1.83</td></tr>\n",
       "\t<tr><td>Hericlis</td><td>27</td><td>1.80</td></tr>\n",
       "</tbody>\n",
       "</table>\n"
      ],
      "text/latex": [
       "A data.frame: 5 × 3\n",
       "\\begin{tabular}{lll}\n",
       " nomes & idade & altura\\\\\n",
       " <chr> & <dbl> & <dbl>\\\\\n",
       "\\hline\n",
       "\t Matheus  & 27 & 1.84\\\\\n",
       "\t Bruna    & 30 & 1.75\\\\\n",
       "\t Simone   & 45 & 1.77\\\\\n",
       "\t Hiann    & 29 & 1.83\\\\\n",
       "\t Hericlis & 27 & 1.80\\\\\n",
       "\\end{tabular}\n"
      ],
      "text/markdown": [
       "\n",
       "A data.frame: 5 × 3\n",
       "\n",
       "| nomes &lt;chr&gt; | idade &lt;dbl&gt; | altura &lt;dbl&gt; |\n",
       "|---|---|---|\n",
       "| Matheus  | 27 | 1.84 |\n",
       "| Bruna    | 30 | 1.75 |\n",
       "| Simone   | 45 | 1.77 |\n",
       "| Hiann    | 29 | 1.83 |\n",
       "| Hericlis | 27 | 1.80 |\n",
       "\n"
      ],
      "text/plain": [
       "  nomes    idade altura\n",
       "1 Matheus  27    1.84  \n",
       "2 Bruna    30    1.75  \n",
       "3 Simone   45    1.77  \n",
       "4 Hiann    29    1.83  \n",
       "5 Hericlis 27    1.80  "
      ]
     },
     "metadata": {},
     "output_type": "display_data"
    }
   ],
   "source": [
    "# para criar um dataframe, usamos a função data.frame() e passamos os vetores\n",
    "\n",
    "pessoas <- data.frame(nomes, idade, altura)\n",
    "pessoas"
   ]
  },
  {
   "cell_type": "code",
   "execution_count": 35,
   "metadata": {
    "vscode": {
     "languageId": "r"
    }
   },
   "outputs": [
    {
     "data": {
      "text/html": [
       "<table class=\"dataframe\">\n",
       "<caption>A data.frame: 5 × 3</caption>\n",
       "<thead>\n",
       "\t<tr><th scope=col>nomes</th><th scope=col>idade</th><th scope=col>altura</th></tr>\n",
       "\t<tr><th scope=col>&lt;chr&gt;</th><th scope=col>&lt;dbl&gt;</th><th scope=col>&lt;dbl&gt;</th></tr>\n",
       "</thead>\n",
       "<tbody>\n",
       "\t<tr><td>Matheus </td><td>27</td><td>1.84</td></tr>\n",
       "\t<tr><td>Bruna   </td><td>30</td><td>1.75</td></tr>\n",
       "\t<tr><td>Simone  </td><td>45</td><td>1.77</td></tr>\n",
       "\t<tr><td>Hiann   </td><td>29</td><td>1.83</td></tr>\n",
       "\t<tr><td>Hericlis</td><td>27</td><td>1.80</td></tr>\n",
       "</tbody>\n",
       "</table>\n"
      ],
      "text/latex": [
       "A data.frame: 5 × 3\n",
       "\\begin{tabular}{lll}\n",
       " nomes & idade & altura\\\\\n",
       " <chr> & <dbl> & <dbl>\\\\\n",
       "\\hline\n",
       "\t Matheus  & 27 & 1.84\\\\\n",
       "\t Bruna    & 30 & 1.75\\\\\n",
       "\t Simone   & 45 & 1.77\\\\\n",
       "\t Hiann    & 29 & 1.83\\\\\n",
       "\t Hericlis & 27 & 1.80\\\\\n",
       "\\end{tabular}\n"
      ],
      "text/markdown": [
       "\n",
       "A data.frame: 5 × 3\n",
       "\n",
       "| nomes &lt;chr&gt; | idade &lt;dbl&gt; | altura &lt;dbl&gt; |\n",
       "|---|---|---|\n",
       "| Matheus  | 27 | 1.84 |\n",
       "| Bruna    | 30 | 1.75 |\n",
       "| Simone   | 45 | 1.77 |\n",
       "| Hiann    | 29 | 1.83 |\n",
       "| Hericlis | 27 | 1.80 |\n",
       "\n"
      ],
      "text/plain": [
       "  nomes    idade altura\n",
       "1 Matheus  27    1.84  \n",
       "2 Bruna    30    1.75  \n",
       "3 Simone   45    1.77  \n",
       "4 Hiann    29    1.83  \n",
       "5 Hericlis 27    1.80  "
      ]
     },
     "metadata": {},
     "output_type": "display_data"
    }
   ],
   "source": [
    "# podemos usar a função View() como outra forma de visualização\n",
    "View(pessoas)"
   ]
  },
  {
   "cell_type": "code",
   "execution_count": 39,
   "metadata": {
    "vscode": {
     "languageId": "r"
    }
   },
   "outputs": [
    {
     "data": {
      "text/html": [
       "<table class=\"dataframe\">\n",
       "<caption>A data.frame: 5 × 4</caption>\n",
       "<thead>\n",
       "\t<tr><th scope=col>nomes</th><th scope=col>idade</th><th scope=col>altura</th><th scope=col>olhos</th></tr>\n",
       "\t<tr><th scope=col>&lt;chr&gt;</th><th scope=col>&lt;dbl&gt;</th><th scope=col>&lt;dbl&gt;</th><th scope=col>&lt;chr&gt;</th></tr>\n",
       "</thead>\n",
       "<tbody>\n",
       "\t<tr><td>Matheus </td><td>27</td><td>1.84</td><td>verde   </td></tr>\n",
       "\t<tr><td>Bruna   </td><td>30</td><td>1.75</td><td>preto   </td></tr>\n",
       "\t<tr><td>Simone  </td><td>45</td><td>1.77</td><td>castanho</td></tr>\n",
       "\t<tr><td>Hiann   </td><td>29</td><td>1.83</td><td>castanho</td></tr>\n",
       "\t<tr><td>Hericlis</td><td>27</td><td>1.80</td><td>castanho</td></tr>\n",
       "</tbody>\n",
       "</table>\n"
      ],
      "text/latex": [
       "A data.frame: 5 × 4\n",
       "\\begin{tabular}{llll}\n",
       " nomes & idade & altura & olhos\\\\\n",
       " <chr> & <dbl> & <dbl> & <chr>\\\\\n",
       "\\hline\n",
       "\t Matheus  & 27 & 1.84 & verde   \\\\\n",
       "\t Bruna    & 30 & 1.75 & preto   \\\\\n",
       "\t Simone   & 45 & 1.77 & castanho\\\\\n",
       "\t Hiann    & 29 & 1.83 & castanho\\\\\n",
       "\t Hericlis & 27 & 1.80 & castanho\\\\\n",
       "\\end{tabular}\n"
      ],
      "text/markdown": [
       "\n",
       "A data.frame: 5 × 4\n",
       "\n",
       "| nomes &lt;chr&gt; | idade &lt;dbl&gt; | altura &lt;dbl&gt; | olhos &lt;chr&gt; |\n",
       "|---|---|---|---|\n",
       "| Matheus  | 27 | 1.84 | verde    |\n",
       "| Bruna    | 30 | 1.75 | preto    |\n",
       "| Simone   | 45 | 1.77 | castanho |\n",
       "| Hiann    | 29 | 1.83 | castanho |\n",
       "| Hericlis | 27 | 1.80 | castanho |\n",
       "\n"
      ],
      "text/plain": [
       "  nomes    idade altura olhos   \n",
       "1 Matheus  27    1.84   verde   \n",
       "2 Bruna    30    1.75   preto   \n",
       "3 Simone   45    1.77   castanho\n",
       "4 Hiann    29    1.83   castanho\n",
       "5 Hericlis 27    1.80   castanho"
      ]
     },
     "metadata": {},
     "output_type": "display_data"
    }
   ],
   "source": [
    "# podemos adicionar outra coluna no dataframe, usando a função cbind()\n",
    "olhos <- c(\"verde\", \"preto\", \"castanho\", \"castanho\", \"castanho\")\n",
    "\n",
    "pessoas <- cbind(pessoas, olhos)\n",
    "pessoas"
   ]
  },
  {
   "cell_type": "code",
   "execution_count": 41,
   "metadata": {
    "vscode": {
     "languageId": "r"
    }
   },
   "outputs": [
    {
     "data": {
      "text/html": [
       "<table class=\"dataframe\">\n",
       "<caption>A data.frame: 6 × 4</caption>\n",
       "<thead>\n",
       "\t<tr><th scope=col>nomes</th><th scope=col>idade</th><th scope=col>altura</th><th scope=col>olhos</th></tr>\n",
       "\t<tr><th scope=col>&lt;chr&gt;</th><th scope=col>&lt;chr&gt;</th><th scope=col>&lt;chr&gt;</th><th scope=col>&lt;chr&gt;</th></tr>\n",
       "</thead>\n",
       "<tbody>\n",
       "\t<tr><td>Matheus </td><td>27</td><td>1.84</td><td>verde   </td></tr>\n",
       "\t<tr><td>Bruna   </td><td>30</td><td>1.75</td><td>preto   </td></tr>\n",
       "\t<tr><td>Simone  </td><td>45</td><td>1.77</td><td>castanho</td></tr>\n",
       "\t<tr><td>Hiann   </td><td>29</td><td>1.83</td><td>castanho</td></tr>\n",
       "\t<tr><td>Hericlis</td><td>27</td><td>1.8 </td><td>castanho</td></tr>\n",
       "\t<tr><td>Maria   </td><td>13</td><td>1.55</td><td>castanho</td></tr>\n",
       "</tbody>\n",
       "</table>\n"
      ],
      "text/latex": [
       "A data.frame: 6 × 4\n",
       "\\begin{tabular}{llll}\n",
       " nomes & idade & altura & olhos\\\\\n",
       " <chr> & <chr> & <chr> & <chr>\\\\\n",
       "\\hline\n",
       "\t Matheus  & 27 & 1.84 & verde   \\\\\n",
       "\t Bruna    & 30 & 1.75 & preto   \\\\\n",
       "\t Simone   & 45 & 1.77 & castanho\\\\\n",
       "\t Hiann    & 29 & 1.83 & castanho\\\\\n",
       "\t Hericlis & 27 & 1.8  & castanho\\\\\n",
       "\t Maria    & 13 & 1.55 & castanho\\\\\n",
       "\\end{tabular}\n"
      ],
      "text/markdown": [
       "\n",
       "A data.frame: 6 × 4\n",
       "\n",
       "| nomes &lt;chr&gt; | idade &lt;chr&gt; | altura &lt;chr&gt; | olhos &lt;chr&gt; |\n",
       "|---|---|---|---|\n",
       "| Matheus  | 27 | 1.84 | verde    |\n",
       "| Bruna    | 30 | 1.75 | preto    |\n",
       "| Simone   | 45 | 1.77 | castanho |\n",
       "| Hiann    | 29 | 1.83 | castanho |\n",
       "| Hericlis | 27 | 1.8  | castanho |\n",
       "| Maria    | 13 | 1.55 | castanho |\n",
       "\n"
      ],
      "text/plain": [
       "  nomes    idade altura olhos   \n",
       "1 Matheus  27    1.84   verde   \n",
       "2 Bruna    30    1.75   preto   \n",
       "3 Simone   45    1.77   castanho\n",
       "4 Hiann    29    1.83   castanho\n",
       "5 Hericlis 27    1.8    castanho\n",
       "6 Maria    13    1.55   castanho"
      ]
     },
     "metadata": {},
     "output_type": "display_data"
    }
   ],
   "source": [
    "# podemos adicionar uma linha também, usando a função rbind()\n",
    "lin <- c(\"Maria\", 13, 1.55, \"castanho\")\n",
    "\n",
    "pessoas <- rbind(pessoas, lin)\n",
    "pessoas"
   ]
  },
  {
   "cell_type": "code",
   "execution_count": 43,
   "metadata": {
    "vscode": {
     "languageId": "r"
    }
   },
   "outputs": [
    {
     "name": "stdout",
     "output_type": "stream",
     "text": [
      "'data.frame':\t6 obs. of  4 variables:\n",
      " $ nomes : chr  \"Matheus\" \"Bruna\" \"Simone\" \"Hiann\" ...\n",
      " $ idade : chr  \"27\" \"30\" \"45\" \"29\" ...\n",
      " $ altura: chr  \"1.84\" \"1.75\" \"1.77\" \"1.83\" ...\n",
      " $ olhos : chr  \"verde\" \"preto\" \"castanho\" \"castanho\" ...\n"
     ]
    }
   ],
   "source": [
    "# podemos extrair algumas informações sobre o dataframe\n",
    "# como os tipos de dados das colunas\n",
    "str(pessoas)"
   ]
  },
  {
   "cell_type": "code",
   "execution_count": 44,
   "metadata": {
    "vscode": {
     "languageId": "r"
    }
   },
   "outputs": [
    {
     "data": {
      "text/html": [
       "<style>\n",
       ".list-inline {list-style: none; margin:0; padding: 0}\n",
       ".list-inline>li {display: inline-block}\n",
       ".list-inline>li:not(:last-child)::after {content: \"\\00b7\"; padding: 0 .5ex}\n",
       "</style>\n",
       "<ol class=list-inline><li>6</li><li>4</li></ol>\n"
      ],
      "text/latex": [
       "\\begin{enumerate*}\n",
       "\\item 6\n",
       "\\item 4\n",
       "\\end{enumerate*}\n"
      ],
      "text/markdown": [
       "1. 6\n",
       "2. 4\n",
       "\n",
       "\n"
      ],
      "text/plain": [
       "[1] 6 4"
      ]
     },
     "metadata": {},
     "output_type": "display_data"
    }
   ],
   "source": [
    "# as dimensões do dataframe\n",
    "dim(pessoas)"
   ]
  },
  {
   "cell_type": "code",
   "execution_count": 45,
   "metadata": {
    "vscode": {
     "languageId": "r"
    }
   },
   "outputs": [
    {
     "data": {
      "text/html": [
       "4"
      ],
      "text/latex": [
       "4"
      ],
      "text/markdown": [
       "4"
      ],
      "text/plain": [
       "[1] 4"
      ]
     },
     "metadata": {},
     "output_type": "display_data"
    }
   ],
   "source": [
    "# quantidade de colunas\n",
    "length(pessoas)"
   ]
  },
  {
   "cell_type": "code",
   "execution_count": 46,
   "metadata": {
    "vscode": {
     "languageId": "r"
    }
   },
   "outputs": [
    {
     "data": {
      "text/plain": [
       "    nomes              idade              altura             olhos          \n",
       " Length:6           Length:6           Length:6           Length:6          \n",
       " Class :character   Class :character   Class :character   Class :character  \n",
       " Mode  :character   Mode  :character   Mode  :character   Mode  :character  "
      ]
     },
     "metadata": {},
     "output_type": "display_data"
    }
   ],
   "source": [
    "# um resumo do dataframe\n",
    "summary(pessoas)"
   ]
  },
  {
   "cell_type": "code",
   "execution_count": 49,
   "metadata": {
    "vscode": {
     "languageId": "r"
    }
   },
   "outputs": [
    {
     "data": {
      "text/html": [
       "<table class=\"dataframe\">\n",
       "<caption>A data.frame: 6 × 4</caption>\n",
       "<thead>\n",
       "\t<tr><th></th><th scope=col>nomes</th><th scope=col>idade</th><th scope=col>altura</th><th scope=col>olhos</th></tr>\n",
       "\t<tr><th></th><th scope=col>&lt;chr&gt;</th><th scope=col>&lt;chr&gt;</th><th scope=col>&lt;chr&gt;</th><th scope=col>&lt;chr&gt;</th></tr>\n",
       "</thead>\n",
       "<tbody>\n",
       "\t<tr><th scope=row>1</th><td>Matheus </td><td>27</td><td>1.84</td><td>verde   </td></tr>\n",
       "\t<tr><th scope=row>2</th><td>Bruna   </td><td>30</td><td>1.75</td><td>preto   </td></tr>\n",
       "\t<tr><th scope=row>3</th><td>Simone  </td><td>45</td><td>1.77</td><td>castanho</td></tr>\n",
       "\t<tr><th scope=row>4</th><td>Hiann   </td><td>29</td><td>1.83</td><td>castanho</td></tr>\n",
       "\t<tr><th scope=row>5</th><td>Hericlis</td><td>27</td><td>1.8 </td><td>castanho</td></tr>\n",
       "\t<tr><th scope=row>6</th><td>Maria   </td><td>13</td><td>1.55</td><td>castanho</td></tr>\n",
       "</tbody>\n",
       "</table>\n"
      ],
      "text/latex": [
       "A data.frame: 6 × 4\n",
       "\\begin{tabular}{r|llll}\n",
       "  & nomes & idade & altura & olhos\\\\\n",
       "  & <chr> & <chr> & <chr> & <chr>\\\\\n",
       "\\hline\n",
       "\t1 & Matheus  & 27 & 1.84 & verde   \\\\\n",
       "\t2 & Bruna    & 30 & 1.75 & preto   \\\\\n",
       "\t3 & Simone   & 45 & 1.77 & castanho\\\\\n",
       "\t4 & Hiann    & 29 & 1.83 & castanho\\\\\n",
       "\t5 & Hericlis & 27 & 1.8  & castanho\\\\\n",
       "\t6 & Maria    & 13 & 1.55 & castanho\\\\\n",
       "\\end{tabular}\n"
      ],
      "text/markdown": [
       "\n",
       "A data.frame: 6 × 4\n",
       "\n",
       "| <!--/--> | nomes &lt;chr&gt; | idade &lt;chr&gt; | altura &lt;chr&gt; | olhos &lt;chr&gt; |\n",
       "|---|---|---|---|---|\n",
       "| 1 | Matheus  | 27 | 1.84 | verde    |\n",
       "| 2 | Bruna    | 30 | 1.75 | preto    |\n",
       "| 3 | Simone   | 45 | 1.77 | castanho |\n",
       "| 4 | Hiann    | 29 | 1.83 | castanho |\n",
       "| 5 | Hericlis | 27 | 1.8  | castanho |\n",
       "| 6 | Maria    | 13 | 1.55 | castanho |\n",
       "\n"
      ],
      "text/plain": [
       "  nomes    idade altura olhos   \n",
       "1 Matheus  27    1.84   verde   \n",
       "2 Bruna    30    1.75   preto   \n",
       "3 Simone   45    1.77   castanho\n",
       "4 Hiann    29    1.83   castanho\n",
       "5 Hericlis 27    1.8    castanho\n",
       "6 Maria    13    1.55   castanho"
      ]
     },
     "metadata": {},
     "output_type": "display_data"
    },
    {
     "data": {
      "text/html": [
       "<table class=\"dataframe\">\n",
       "<caption>A data.frame: 3 × 4</caption>\n",
       "<thead>\n",
       "\t<tr><th></th><th scope=col>nomes</th><th scope=col>idade</th><th scope=col>altura</th><th scope=col>olhos</th></tr>\n",
       "\t<tr><th></th><th scope=col>&lt;chr&gt;</th><th scope=col>&lt;chr&gt;</th><th scope=col>&lt;chr&gt;</th><th scope=col>&lt;chr&gt;</th></tr>\n",
       "</thead>\n",
       "<tbody>\n",
       "\t<tr><th scope=row>4</th><td>Hiann   </td><td>29</td><td>1.83</td><td>castanho</td></tr>\n",
       "\t<tr><th scope=row>5</th><td>Hericlis</td><td>27</td><td>1.8 </td><td>castanho</td></tr>\n",
       "\t<tr><th scope=row>6</th><td>Maria   </td><td>13</td><td>1.55</td><td>castanho</td></tr>\n",
       "</tbody>\n",
       "</table>\n"
      ],
      "text/latex": [
       "A data.frame: 3 × 4\n",
       "\\begin{tabular}{r|llll}\n",
       "  & nomes & idade & altura & olhos\\\\\n",
       "  & <chr> & <chr> & <chr> & <chr>\\\\\n",
       "\\hline\n",
       "\t4 & Hiann    & 29 & 1.83 & castanho\\\\\n",
       "\t5 & Hericlis & 27 & 1.8  & castanho\\\\\n",
       "\t6 & Maria    & 13 & 1.55 & castanho\\\\\n",
       "\\end{tabular}\n"
      ],
      "text/markdown": [
       "\n",
       "A data.frame: 3 × 4\n",
       "\n",
       "| <!--/--> | nomes &lt;chr&gt; | idade &lt;chr&gt; | altura &lt;chr&gt; | olhos &lt;chr&gt; |\n",
       "|---|---|---|---|---|\n",
       "| 4 | Hiann    | 29 | 1.83 | castanho |\n",
       "| 5 | Hericlis | 27 | 1.8  | castanho |\n",
       "| 6 | Maria    | 13 | 1.55 | castanho |\n",
       "\n"
      ],
      "text/plain": [
       "  nomes    idade altura olhos   \n",
       "4 Hiann    29    1.83   castanho\n",
       "5 Hericlis 27    1.8    castanho\n",
       "6 Maria    13    1.55   castanho"
      ]
     },
     "metadata": {},
     "output_type": "display_data"
    }
   ],
   "source": [
    "# os primeiros registros ou os ultimos registros, por temos poucos registros\n",
    "# vai mostrar todos, a não ser que especificamos os numero\n",
    "head(pessoas)\n",
    "tail(pessoas, 3)"
   ]
  },
  {
   "cell_type": "code",
   "execution_count": 50,
   "metadata": {
    "vscode": {
     "languageId": "r"
    }
   },
   "outputs": [
    {
     "data": {
      "text/html": [
       "<style>\n",
       ".list-inline {list-style: none; margin:0; padding: 0}\n",
       ".list-inline>li {display: inline-block}\n",
       ".list-inline>li:not(:last-child)::after {content: \"\\00b7\"; padding: 0 .5ex}\n",
       "</style>\n",
       "<ol class=list-inline><li>'Matheus'</li><li>'Bruna'</li><li>'Simone'</li><li>'Hiann'</li><li>'Hericlis'</li><li>'Maria'</li></ol>\n"
      ],
      "text/latex": [
       "\\begin{enumerate*}\n",
       "\\item 'Matheus'\n",
       "\\item 'Bruna'\n",
       "\\item 'Simone'\n",
       "\\item 'Hiann'\n",
       "\\item 'Hericlis'\n",
       "\\item 'Maria'\n",
       "\\end{enumerate*}\n"
      ],
      "text/markdown": [
       "1. 'Matheus'\n",
       "2. 'Bruna'\n",
       "3. 'Simone'\n",
       "4. 'Hiann'\n",
       "5. 'Hericlis'\n",
       "6. 'Maria'\n",
       "\n",
       "\n"
      ],
      "text/plain": [
       "[1] \"Matheus\"  \"Bruna\"    \"Simone\"   \"Hiann\"    \"Hericlis\" \"Maria\"   "
      ]
     },
     "metadata": {},
     "output_type": "display_data"
    }
   ],
   "source": [
    "# podemos acessar somente uma coluna\n",
    "pessoas$nomes"
   ]
  },
  {
   "cell_type": "code",
   "execution_count": 52,
   "metadata": {
    "vscode": {
     "languageId": "r"
    }
   },
   "outputs": [
    {
     "data": {
      "text/html": [
       "<table class=\"dataframe\">\n",
       "<caption>A data.frame: 6 × 2</caption>\n",
       "<thead>\n",
       "\t<tr><th scope=col>nomes</th><th scope=col>idade</th></tr>\n",
       "\t<tr><th scope=col>&lt;chr&gt;</th><th scope=col>&lt;chr&gt;</th></tr>\n",
       "</thead>\n",
       "<tbody>\n",
       "\t<tr><td>Matheus </td><td>27</td></tr>\n",
       "\t<tr><td>Bruna   </td><td>30</td></tr>\n",
       "\t<tr><td>Simone  </td><td>45</td></tr>\n",
       "\t<tr><td>Hiann   </td><td>29</td></tr>\n",
       "\t<tr><td>Hericlis</td><td>27</td></tr>\n",
       "\t<tr><td>Maria   </td><td>13</td></tr>\n",
       "</tbody>\n",
       "</table>\n"
      ],
      "text/latex": [
       "A data.frame: 6 × 2\n",
       "\\begin{tabular}{ll}\n",
       " nomes & idade\\\\\n",
       " <chr> & <chr>\\\\\n",
       "\\hline\n",
       "\t Matheus  & 27\\\\\n",
       "\t Bruna    & 30\\\\\n",
       "\t Simone   & 45\\\\\n",
       "\t Hiann    & 29\\\\\n",
       "\t Hericlis & 27\\\\\n",
       "\t Maria    & 13\\\\\n",
       "\\end{tabular}\n"
      ],
      "text/markdown": [
       "\n",
       "A data.frame: 6 × 2\n",
       "\n",
       "| nomes &lt;chr&gt; | idade &lt;chr&gt; |\n",
       "|---|---|\n",
       "| Matheus  | 27 |\n",
       "| Bruna    | 30 |\n",
       "| Simone   | 45 |\n",
       "| Hiann    | 29 |\n",
       "| Hericlis | 27 |\n",
       "| Maria    | 13 |\n",
       "\n"
      ],
      "text/plain": [
       "  nomes    idade\n",
       "1 Matheus  27   \n",
       "2 Bruna    30   \n",
       "3 Simone   45   \n",
       "4 Hiann    29   \n",
       "5 Hericlis 27   \n",
       "6 Maria    13   "
      ]
     },
     "metadata": {},
     "output_type": "display_data"
    }
   ],
   "source": [
    "# ou mais de uma\n",
    "pessoas[c(\"nomes\", \"idade\")]"
   ]
  },
  {
   "cell_type": "code",
   "execution_count": 54,
   "metadata": {
    "vscode": {
     "languageId": "r"
    }
   },
   "outputs": [
    {
     "name": "stdout",
     "output_type": "stream",
     "text": [
      "'data.frame':\t6 obs. of  4 variables:\n",
      " $ nomes : chr  \"Matheus\" \"Bruna\" \"Simone\" \"Hiann\" ...\n",
      " $ idade : num  27 30 45 29 27 13\n",
      " $ altura: num  1.84 1.75 1.77 1.83 1.8 1.55\n",
      " $ olhos : chr  \"verde\" \"preto\" \"castanho\" \"castanho\" ...\n"
     ]
    }
   ],
   "source": [
    "# mudar o tipo de dados de uma coluna\n",
    "pessoas$idade <- as.numeric(pessoas$idade)\n",
    "pessoas$altura <- as.numeric(pessoas$altura)\n",
    "str(pessoas)"
   ]
  },
  {
   "cell_type": "code",
   "execution_count": 55,
   "metadata": {
    "vscode": {
     "languageId": "r"
    }
   },
   "outputs": [
    {
     "data": {
      "text/plain": [
       "    nomes               idade           altura         olhos          \n",
       " Length:6           Min.   :13.00   Min.   :1.550   Length:6          \n",
       " Class :character   1st Qu.:27.00   1st Qu.:1.755   Class :character  \n",
       " Mode  :character   Median :28.00   Median :1.785   Mode  :character  \n",
       "                    Mean   :28.50   Mean   :1.757                     \n",
       "                    3rd Qu.:29.75   3rd Qu.:1.823                     \n",
       "                    Max.   :45.00   Max.   :1.840                     "
      ]
     },
     "metadata": {},
     "output_type": "display_data"
    }
   ],
   "source": [
    "summary(pessoas)"
   ]
  },
  {
   "attachments": {},
   "cell_type": "markdown",
   "metadata": {},
   "source": [
    "## Estrutura de controle"
   ]
  },
  {
   "attachments": {},
   "cell_type": "markdown",
   "metadata": {},
   "source": [
    "Condicionais: If, For e While. No condicional If, dizemos que se algo é verdadeiro, uma ação deve ser realizada, se não é, outra será (ou nenhuma). No loop For, uma ou mais instruções serão realizadas determinado número de vezes. No loop While, as instruções serão realizadas enquanto uma condição for atendida."
   ]
  },
  {
   "attachments": {},
   "cell_type": "markdown",
   "metadata": {},
   "source": [
    "### if, else if, else e ifelse"
   ]
  },
  {
   "cell_type": "code",
   "execution_count": 1,
   "metadata": {
    "vscode": {
     "languageId": "r"
    }
   },
   "outputs": [
    {
     "data": {
      "text/plain": [
       "[1] \"2023-02-20 17:10:48 -03\""
      ]
     },
     "metadata": {},
     "output_type": "display_data"
    }
   ],
   "source": [
    "# As estruturas if e else servem para executarmos um código apenas se uma \n",
    "# condição (teste lógico) for satisfeita. ex. se x for igual 1, mostra a data atual\n",
    "\n",
    "x <- 1\n",
    "if (x == 1){\n",
    "  Sys.time()\n",
    "}"
   ]
  },
  {
   "cell_type": "code",
   "execution_count": 3,
   "metadata": {
    "vscode": {
     "languageId": "r"
    }
   },
   "outputs": [
    {
     "data": {
      "text/html": [
       "'Não foi satisfeito a condição'"
      ],
      "text/latex": [
       "'Não foi satisfeito a condição'"
      ],
      "text/markdown": [
       "'Não foi satisfeito a condição'"
      ],
      "text/plain": [
       "[1] \"Não foi satisfeito a condição\""
      ]
     },
     "metadata": {},
     "output_type": "display_data"
    }
   ],
   "source": [
    "# Se a condição não for satisfeita o bloco de código dentro do if não será executado.\n",
    "# Nesta situação podemos adicionar o else (senão)\n",
    "x <- 2\n",
    "if (x == 1){\n",
    "  Sys.time()\n",
    "} else{\n",
    "  \"Não foi satisfeito a condição\"\n",
    "}"
   ]
  },
  {
   "cell_type": "code",
   "execution_count": 4,
   "metadata": {
    "vscode": {
     "languageId": "r"
    }
   },
   "outputs": [
    {
     "data": {
      "text/html": [
       "'Este é o número 7'"
      ],
      "text/latex": [
       "'Este é o número 7'"
      ],
      "text/markdown": [
       "'Este é o número 7'"
      ],
      "text/plain": [
       "[1] \"Este é o número 7\""
      ]
     },
     "metadata": {},
     "output_type": "display_data"
    }
   ],
   "source": [
    "# se for necessário mais de duas condições podemos adicionar o else if (senão se)\n",
    "x <- 7\n",
    "if (x < 7) {\n",
    "  \"Este número é menor que 7\"\n",
    "} else if(x == 7) {\n",
    "  \"Este é o número 7\"\n",
    "}else{\n",
    "  \"Este número não é menor que 7\"\n",
    "}"
   ]
  },
  {
   "cell_type": "code",
   "execution_count": 5,
   "metadata": {
    "vscode": {
     "languageId": "r"
    }
   },
   "outputs": [
    {
     "data": {
      "text/html": [
       "'igual a 7'"
      ],
      "text/latex": [
       "'igual a 7'"
      ],
      "text/markdown": [
       "'igual a 7'"
      ],
      "text/plain": [
       "[1] \"igual a 7\""
      ]
     },
     "metadata": {},
     "output_type": "display_data"
    }
   ],
   "source": [
    "# podemos usar o ifelse\n",
    "# ifelse(condicao, retorno para a condição verdadeira, retorno para condição falsa)\n",
    "ifelse(x == 7, \"igual a 7\", \"diferente de 7\")"
   ]
  },
  {
   "attachments": {},
   "cell_type": "markdown",
   "metadata": {},
   "source": [
    "### for"
   ]
  },
  {
   "cell_type": "code",
   "execution_count": 7,
   "metadata": {
    "vscode": {
     "languageId": "r"
    }
   },
   "outputs": [
    {
     "name": "stdout",
     "output_type": "stream",
     "text": [
      "[1] 1\n",
      "[1] 4\n",
      "[1] 9\n",
      "[1] 16\n",
      "[1] 25\n"
     ]
    }
   ],
   "source": [
    "# O for pode ser utilizado para fazer loopings, ou seja repetir a mesma tarefa para\n",
    "# um conjunto de valores\n",
    "\n",
    "vet <- c(1, 2, 3, 4, 5)\n",
    "\n",
    "for (n in 1:length(vet)){\n",
    "  n <- n ** 2\n",
    "  print(n)\n",
    "}"
   ]
  },
  {
   "attachments": {},
   "cell_type": "markdown",
   "metadata": {},
   "source": [
    "### while"
   ]
  },
  {
   "cell_type": "code",
   "execution_count": 8,
   "metadata": {
    "vscode": {
     "languageId": "r"
    }
   },
   "outputs": [
    {
     "name": "stdout",
     "output_type": "stream",
     "text": [
      "[1] 1\n",
      "[1] 2\n",
      "[1] 3\n",
      "[1] 4\n"
     ]
    }
   ],
   "source": [
    "# while funciona da mesma forma que o for, porém enquanto o for tem um numero predefinido\n",
    "# de repetições, o while repete até uma condição ser verdadeira\n",
    "\n",
    "i <- 1\n",
    "while (i < 5){\n",
    "  print(i)\n",
    "  i <- i + 1\n",
    "}"
   ]
  },
  {
   "attachments": {},
   "cell_type": "markdown",
   "metadata": {},
   "source": [
    "## Funções"
   ]
  },
  {
   "attachments": {},
   "cell_type": "markdown",
   "metadata": {},
   "source": [
    "Funções: são um conjunto de instruções pré-definidas que executam uma ou mais tarefas. Existem muitas funções já prontas para sua utilização, salvas em pacotes desenvolvidos para facilitar a criação de scripts. Quanto mais funções o programador conhecer, mais fácil será escrever seus scripts. Também é possível criar funções no próprio script, passando todas as instruções que deverão acontecer quando a função for utilizada."
   ]
  },
  {
   "cell_type": "code",
   "execution_count": 9,
   "metadata": {
    "vscode": {
     "languageId": "r"
    }
   },
   "outputs": [
    {
     "data": {
      "text/html": [
       "43"
      ],
      "text/latex": [
       "43"
      ],
      "text/markdown": [
       "43"
      ],
      "text/plain": [
       "[1] 43"
      ]
     },
     "metadata": {},
     "output_type": "display_data"
    },
    {
     "data": {
      "text/html": [
       "15"
      ],
      "text/latex": [
       "15"
      ],
      "text/markdown": [
       "15"
      ],
      "text/plain": [
       "[1] 15"
      ]
     },
     "metadata": {},
     "output_type": "display_data"
    },
    {
     "data": {
      "text/html": [
       "3"
      ],
      "text/latex": [
       "3"
      ],
      "text/markdown": [
       "3"
      ],
      "text/plain": [
       "[1] 3"
      ]
     },
     "metadata": {},
     "output_type": "display_data"
    },
    {
     "data": {
      "text/html": [
       "<style>\n",
       ".list-inline {list-style: none; margin:0; padding: 0}\n",
       ".list-inline>li {display: inline-block}\n",
       ".list-inline>li:not(:last-child)::after {content: \"\\00b7\"; padding: 0 .5ex}\n",
       "</style>\n",
       "<ol class=list-inline><li>1</li><li>2</li><li>3</li><li>4</li><li>5</li></ol>\n"
      ],
      "text/latex": [
       "\\begin{enumerate*}\n",
       "\\item 1\n",
       "\\item 2\n",
       "\\item 3\n",
       "\\item 4\n",
       "\\item 5\n",
       "\\end{enumerate*}\n"
      ],
      "text/markdown": [
       "1. 1\n",
       "2. 2\n",
       "3. 3\n",
       "4. 4\n",
       "5. 5\n",
       "\n",
       "\n"
      ],
      "text/plain": [
       "[1] 1 2 3 4 5"
      ]
     },
     "metadata": {},
     "output_type": "display_data"
    },
    {
     "data": {
      "text/html": [
       "<style>\n",
       ".list-inline {list-style: none; margin:0; padding: 0}\n",
       ".list-inline>li {display: inline-block}\n",
       ".list-inline>li:not(:last-child)::after {content: \"\\00b7\"; padding: 0 .5ex}\n",
       "</style>\n",
       "<ol class=list-inline><li>5</li><li>4</li><li>3</li><li>2</li><li>1</li></ol>\n"
      ],
      "text/latex": [
       "\\begin{enumerate*}\n",
       "\\item 5\n",
       "\\item 4\n",
       "\\item 3\n",
       "\\item 2\n",
       "\\item 1\n",
       "\\end{enumerate*}\n"
      ],
      "text/markdown": [
       "1. 5\n",
       "2. 4\n",
       "3. 3\n",
       "4. 2\n",
       "5. 1\n",
       "\n",
       "\n"
      ],
      "text/plain": [
       "[1] 5 4 3 2 1"
      ]
     },
     "metadata": {},
     "output_type": "display_data"
    },
    {
     "data": {
      "text/html": [
       "<style>\n",
       ".list-inline {list-style: none; margin:0; padding: 0}\n",
       ".list-inline>li {display: inline-block}\n",
       ".list-inline>li:not(:last-child)::after {content: \"\\00b7\"; padding: 0 .5ex}\n",
       "</style>\n",
       "<ol class=list-inline><li>1</li><li>2</li><li>3</li><li>4</li><li>5</li></ol>\n"
      ],
      "text/latex": [
       "\\begin{enumerate*}\n",
       "\\item 1\n",
       "\\item 2\n",
       "\\item 3\n",
       "\\item 4\n",
       "\\item 5\n",
       "\\end{enumerate*}\n"
      ],
      "text/markdown": [
       "1. 1\n",
       "2. 2\n",
       "3. 3\n",
       "4. 4\n",
       "5. 5\n",
       "\n",
       "\n"
      ],
      "text/plain": [
       "[1] 1 2 3 4 5"
      ]
     },
     "metadata": {},
     "output_type": "display_data"
    },
    {
     "data": {
      "text/html": [
       "<style>\n",
       ".list-inline {list-style: none; margin:0; padding: 0}\n",
       ".list-inline>li {display: inline-block}\n",
       ".list-inline>li:not(:last-child)::after {content: \"\\00b7\"; padding: 0 .5ex}\n",
       "</style>\n",
       "<ol class=list-inline><li>1</li><li>2</li><li>3</li><li>4</li><li>5</li></ol>\n"
      ],
      "text/latex": [
       "\\begin{enumerate*}\n",
       "\\item 1\n",
       "\\item 2\n",
       "\\item 3\n",
       "\\item 4\n",
       "\\item 5\n",
       "\\end{enumerate*}\n"
      ],
      "text/markdown": [
       "1. 1\n",
       "2. 2\n",
       "3. 3\n",
       "4. 4\n",
       "5. 5\n",
       "\n",
       "\n"
      ],
      "text/plain": [
       "[1] 1 2 3 4 5"
      ]
     },
     "metadata": {},
     "output_type": "display_data"
    },
    {
     "data": {
      "text/html": [
       "<style>\n",
       ".list-inline {list-style: none; margin:0; padding: 0}\n",
       ".list-inline>li {display: inline-block}\n",
       ".list-inline>li:not(:last-child)::after {content: \"\\00b7\"; padding: 0 .5ex}\n",
       "</style>\n",
       "<ol class=list-inline><li>1</li><li>2</li><li>3</li><li>4</li><li>5</li><li>6</li></ol>\n"
      ],
      "text/latex": [
       "\\begin{enumerate*}\n",
       "\\item 1\n",
       "\\item 2\n",
       "\\item 3\n",
       "\\item 4\n",
       "\\item 5\n",
       "\\item 6\n",
       "\\end{enumerate*}\n"
      ],
      "text/markdown": [
       "1. 1\n",
       "2. 2\n",
       "3. 3\n",
       "4. 4\n",
       "5. 5\n",
       "6. 6\n",
       "\n",
       "\n"
      ],
      "text/plain": [
       "[1] 1 2 3 4 5 6"
      ]
     },
     "metadata": {},
     "output_type": "display_data"
    }
   ],
   "source": [
    "# temos as funções built-in, que já existem na própria linguagem, existem várias e\n",
    "# algumas delas são\n",
    "\n",
    "abs(-43) # valor absoluto\n",
    "sum(c(1:5)) # soma os valores\n",
    "mean(c(1:5)) # tira a média dos valores\n",
    "round(c(1.1:5.8)) # arredonda os valores\n",
    "rev(c(1:5)) # inverte a ordem dos valores\n",
    "seq(1:5) # cria um vetor de uma sequencia de valores\n",
    "sort(rev(c(1:5))) # ordena os valores\n",
    "append(c(1:5), 6) # adiciona um valor a um conjunto já existente"
   ]
  },
  {
   "cell_type": "code",
   "execution_count": 11,
   "metadata": {
    "vscode": {
     "languageId": "r"
    }
   },
   "outputs": [
    {
     "data": {
      "text/html": [
       "4"
      ],
      "text/latex": [
       "4"
      ],
      "text/markdown": [
       "4"
      ],
      "text/plain": [
       "[1] 4"
      ]
     },
     "metadata": {},
     "output_type": "display_data"
    }
   ],
   "source": [
    "# também podemos criar nossa própria função\n",
    "\n",
    "jogar_dados <- function(){\n",
    "  num <- sample(1:6, size = 1)\n",
    "  num\n",
    "}\n",
    "\n",
    "jogar_dados()"
   ]
  },
  {
   "attachments": {},
   "cell_type": "markdown",
   "metadata": {},
   "source": [
    "além disso temos um conjunto de funções, que faz loops mais performáticos do que se usa-se for\n",
    "eles são a familia apply\n",
    "\n",
    " apply() - arrays e matrizes\n",
    "\n",
    " tapply() - os vetores podem ser divididos em diferentes subsets\n",
    "\n",
    " lapply() - vetores e listas\n",
    "\n",
    " sapply() - versão amigável da lapply\n",
    "\n",
    " vapply() - similar a sapply, com valor de retorno modificado\n",
    "\n",
    " rapply() - similar a lapply()\n",
    "\n",
    " eapply() - gera uma lista\n",
    "\n",
    " mapply() - similar a sapply, multivariada\n",
    "\n",
    " by\n",
    "\n",
    " Se você estiver trabalhando com os objetos: \n",
    "\n",
    " list, numeric, character (list/vecor) => sapply ou lapply\n",
    "\n",
    " matrix, data.frame (agregação por coluna) => by / tapply\n",
    "\n",
    " Operações por linha ou operações específicas => apply"
   ]
  },
  {
   "cell_type": "code",
   "execution_count": 12,
   "metadata": {
    "vscode": {
     "languageId": "r"
    }
   },
   "outputs": [
    {
     "name": "stdout",
     "output_type": "stream",
     "text": [
      "[1] 210\n",
      "[1] 1683\n"
     ]
    }
   ],
   "source": [
    "# Usando um Loop\n",
    "lista1 <- list(a = (1:20), b = (35:67))\n",
    "\n",
    "# Calculando o total de cada elemento da lista com loop for\n",
    "valor_a = 0\n",
    "valor_b = 0\n",
    "\n",
    "for (i in lista1$a){\n",
    "  valor_a = valor_a + i \n",
    "}\n",
    "\n",
    "for (j in lista1$b){\n",
    "  valor_b = valor_b + j\n",
    "}\n",
    "\n",
    "print(valor_a)\n",
    "print(valor_b)"
   ]
  },
  {
   "cell_type": "code",
   "execution_count": 13,
   "metadata": {
    "vscode": {
     "languageId": "r"
    }
   },
   "outputs": [
    {
     "data": {
      "text/html": [
       "<style>\n",
       ".dl-inline {width: auto; margin:0; padding: 0}\n",
       ".dl-inline>dt, .dl-inline>dd {float: none; width: auto; display: inline-block}\n",
       ".dl-inline>dt::after {content: \":\\0020\"; padding-right: .5ex}\n",
       ".dl-inline>dt:not(:first-of-type) {padding-left: .5ex}\n",
       "</style><dl class=dl-inline><dt>a</dt><dd>210</dd><dt>b</dt><dd>1683</dd></dl>\n"
      ],
      "text/latex": [
       "\\begin{description*}\n",
       "\\item[a] 210\n",
       "\\item[b] 1683\n",
       "\\end{description*}\n"
      ],
      "text/markdown": [
       "a\n",
       ":   210b\n",
       ":   1683\n",
       "\n"
      ],
      "text/plain": [
       "   a    b \n",
       " 210 1683 "
      ]
     },
     "metadata": {},
     "output_type": "display_data"
    }
   ],
   "source": [
    "# usando o sapply\n",
    "sapply(lista1, sum)"
   ]
  },
  {
   "cell_type": "code",
   "execution_count": 16,
   "metadata": {
    "vscode": {
     "languageId": "r"
    }
   },
   "outputs": [
    {
     "data": {
      "text/html": [
       "<ol>\n",
       "\t<li><style>\n",
       ".list-inline {list-style: none; margin:0; padding: 0}\n",
       ".list-inline>li {display: inline-block}\n",
       ".list-inline>li:not(:last-child)::after {content: \"\\00b7\"; padding: 0 .5ex}\n",
       "</style>\n",
       "<ol class=list-inline><li>1</li><li>2</li><li>3</li></ol>\n",
       "</li>\n",
       "\t<li><style>\n",
       ".list-inline {list-style: none; margin:0; padding: 0}\n",
       ".list-inline>li {display: inline-block}\n",
       ".list-inline>li:not(:last-child)::after {content: \"\\00b7\"; padding: 0 .5ex}\n",
       "</style>\n",
       "<ol class=list-inline><li>4</li><li>5</li><li>6</li></ol>\n",
       "</li>\n",
       "\t<li><style>\n",
       ".list-inline {list-style: none; margin:0; padding: 0}\n",
       ".list-inline>li {display: inline-block}\n",
       ".list-inline>li:not(:last-child)::after {content: \"\\00b7\"; padding: 0 .5ex}\n",
       "</style>\n",
       "<ol class=list-inline><li>7</li><li>8</li><li>9</li></ol>\n",
       "</li>\n",
       "</ol>\n"
      ],
      "text/latex": [
       "\\begin{enumerate}\n",
       "\\item \\begin{enumerate*}\n",
       "\\item 1\n",
       "\\item 2\n",
       "\\item 3\n",
       "\\end{enumerate*}\n",
       "\n",
       "\\item \\begin{enumerate*}\n",
       "\\item 4\n",
       "\\item 5\n",
       "\\item 6\n",
       "\\end{enumerate*}\n",
       "\n",
       "\\item \\begin{enumerate*}\n",
       "\\item 7\n",
       "\\item 8\n",
       "\\item 9\n",
       "\\end{enumerate*}\n",
       "\n",
       "\\end{enumerate}\n"
      ],
      "text/markdown": [
       "1. 1. 1\n",
       "2. 2\n",
       "3. 3\n",
       "\n",
       "\n",
       "\n",
       "2. 1. 4\n",
       "2. 5\n",
       "3. 6\n",
       "\n",
       "\n",
       "\n",
       "3. 1. 7\n",
       "2. 8\n",
       "3. 9\n",
       "\n",
       "\n",
       "\n",
       "\n",
       "\n"
      ],
      "text/plain": [
       "[[1]]\n",
       "[1] 1 2 3\n",
       "\n",
       "[[2]]\n",
       "[1] 4 5 6\n",
       "\n",
       "[[3]]\n",
       "[1] 7 8 9\n"
      ]
     },
     "metadata": {},
     "output_type": "display_data"
    },
    {
     "data": {
      "text/html": [
       "<ol>\n",
       "\t<li>6</li>\n",
       "\t<li>15</li>\n",
       "\t<li>24</li>\n",
       "</ol>\n"
      ],
      "text/latex": [
       "\\begin{enumerate}\n",
       "\\item 6\n",
       "\\item 15\n",
       "\\item 24\n",
       "\\end{enumerate}\n"
      ],
      "text/markdown": [
       "1. 6\n",
       "2. 15\n",
       "3. 24\n",
       "\n",
       "\n"
      ],
      "text/plain": [
       "[[1]]\n",
       "[1] 6\n",
       "\n",
       "[[2]]\n",
       "[1] 15\n",
       "\n",
       "[[3]]\n",
       "[1] 24\n"
      ]
     },
     "metadata": {},
     "output_type": "display_data"
    },
    {
     "data": {
      "text/html": [
       "45"
      ],
      "text/latex": [
       "45"
      ],
      "text/markdown": [
       "45"
      ],
      "text/plain": [
       "[1] 45"
      ]
     },
     "metadata": {},
     "output_type": "display_data"
    }
   ],
   "source": [
    "# do.call()\n",
    "# Executa uma função em um objeto\n",
    "# *** ATENÇÃO ***\n",
    "# As funções da família apply aplicam uma função a cada elemento de um objeto (substitui um loop)\n",
    "# A função do.call aplica uma função ao objeto inteiro e não a cada elemento individualmente\n",
    "\n",
    "y <- list(1:3, 4:6, 7:9)\n",
    "y\n",
    "\n",
    "lapply(y, sum)\n",
    "do.call(sum, y)"
   ]
  },
  {
   "attachments": {},
   "cell_type": "markdown",
   "metadata": {},
   "source": [
    "## Expressões regulares"
   ]
  },
  {
   "attachments": {},
   "cell_type": "markdown",
   "metadata": {},
   "source": [
    "Expressões regulares são padrões utilizados para selecionar combinações de caracteres em uma string."
   ]
  },
  {
   "attachments": {},
   "cell_type": "markdown",
   "metadata": {},
   "source": [
    "Em R as funções para aplicar regex são:\n",
    "\n",
    "- grep(pattern, x, ignore.case = FALSE, perl = FALSE, value = FALSE, fixed = FALSE, useBytes = FALSE, invert = FALSE)\n",
    "\n",
    "- grepl(pattern, x, ignore.case = FALSE, perl = FALSE, fixed = FALSE, useBytes = FALSE)\n",
    "\n",
    "- sub(pattern, replacement, x, ignore.case = FALSE, perl = FALSE, fixed = FALSE, useBytes = FALSE)\n",
    "\n",
    "- gsub(pattern, replacement, x, ignore.case = FALSE, perl = FALSE, fixed = FALSE, useBytes = FALSE)\n",
    "\n",
    "- regexpr(pattern, text, ignore.case = FALSE, perl = FALSE, fixed = FALSE, useBytes = FALSE)\n",
    "\n",
    "- gregexpr(pattern, text, ignore.case = FALSE, perl = FALSE, fixed = FALSE, useBytes = FALSE)"
   ]
  },
  {
   "cell_type": "code",
   "execution_count": 17,
   "metadata": {
    "vscode": {
     "languageId": "r"
    }
   },
   "outputs": [
    {
     "data": {
      "text/html": [
       "8"
      ],
      "text/latex": [
       "8"
      ],
      "text/markdown": [
       "8"
      ],
      "text/plain": [
       "[1] 8"
      ]
     },
     "metadata": {},
     "output_type": "display_data"
    },
    {
     "data": {
      "text/html": [
       "<style>\n",
       ".list-inline {list-style: none; margin:0; padding: 0}\n",
       ".list-inline>li {display: inline-block}\n",
       ".list-inline>li:not(:last-child)::after {content: \"\\00b7\"; padding: 0 .5ex}\n",
       "</style>\n",
       "<ol class=list-inline><li>'Expressões'</li><li>'regulares'</li><li>'em linguagem R'</li><li>'permitem a busca de padrões'</li><li>'e exploração de textos'</li><li>'podemos buscar padrões em dígitos'</li><li>'exemplo'</li><li>'54763657100'</li></ol>\n"
      ],
      "text/latex": [
       "\\begin{enumerate*}\n",
       "\\item 'Expressões'\n",
       "\\item 'regulares'\n",
       "\\item 'em linguagem R'\n",
       "\\item 'permitem a busca de padrões'\n",
       "\\item 'e exploração de textos'\n",
       "\\item 'podemos buscar padrões em dígitos'\n",
       "\\item 'exemplo'\n",
       "\\item '54763657100'\n",
       "\\end{enumerate*}\n"
      ],
      "text/markdown": [
       "1. 'Expressões'\n",
       "2. 'regulares'\n",
       "3. 'em linguagem R'\n",
       "4. 'permitem a busca de padrões'\n",
       "5. 'e exploração de textos'\n",
       "6. 'podemos buscar padrões em dígitos'\n",
       "7. 'exemplo'\n",
       "8. '54763657100'\n",
       "\n",
       "\n"
      ],
      "text/plain": [
       "[1] \"Expressões\"                        \"regulares\"                        \n",
       "[3] \"em linguagem R\"                    \"permitem a busca de padrões\"      \n",
       "[5] \"e exploração de textos\"            \"podemos buscar padrões em dígitos\"\n",
       "[7] \"exemplo\"                           \"54763657100\"                      "
      ]
     },
     "metadata": {},
     "output_type": "display_data"
    }
   ],
   "source": [
    "str <- c(\"Expressões\", \"regulares\", \"em linguagem R\", \"permitem a busca de padrões\", \n",
    "         \"e exploração de textos\", \"podemos buscar padrões em dígitos\",\n",
    "         \"exemplo\", \"54763657100\")\n",
    "\n",
    "length(str)\n",
    "str"
   ]
  },
  {
   "cell_type": "code",
   "execution_count": 18,
   "metadata": {
    "vscode": {
     "languageId": "r"
    }
   },
   "outputs": [
    {
     "data": {
      "text/html": [
       "<style>\n",
       ".list-inline {list-style: none; margin:0; padding: 0}\n",
       ".list-inline>li {display: inline-block}\n",
       ".list-inline>li:not(:last-child)::after {content: \"\\00b7\"; padding: 0 .5ex}\n",
       "</style>\n",
       "<ol class=list-inline><li>5</li><li>7</li></ol>\n"
      ],
      "text/latex": [
       "\\begin{enumerate*}\n",
       "\\item 5\n",
       "\\item 7\n",
       "\\end{enumerate*}\n"
      ],
      "text/markdown": [
       "1. 5\n",
       "2. 7\n",
       "\n",
       "\n"
      ],
      "text/plain": [
       "[1] 5 7"
      ]
     },
     "metadata": {},
     "output_type": "display_data"
    }
   ],
   "source": [
    "# buscar aonde tem as letras ex, e retorna o index\n",
    "grep(\"ex\", str, value = F)"
   ]
  },
  {
   "cell_type": "code",
   "execution_count": 19,
   "metadata": {
    "vscode": {
     "languageId": "r"
    }
   },
   "outputs": [
    {
     "data": {
      "text/html": [
       "'e exploração de textos'"
      ],
      "text/latex": [
       "'e exploração de textos'"
      ],
      "text/markdown": [
       "'e exploração de textos'"
      ],
      "text/plain": [
       "[1] \"e exploração de textos\""
      ]
     },
     "metadata": {},
     "output_type": "display_data"
    }
   ],
   "source": [
    "str[5]"
   ]
  },
  {
   "cell_type": "code",
   "execution_count": 20,
   "metadata": {
    "vscode": {
     "languageId": "r"
    }
   },
   "outputs": [
    {
     "data": {
      "text/html": [
       "<style>\n",
       ".list-inline {list-style: none; margin:0; padding: 0}\n",
       ".list-inline>li {display: inline-block}\n",
       ".list-inline>li:not(:last-child)::after {content: \"\\00b7\"; padding: 0 .5ex}\n",
       "</style>\n",
       "<ol class=list-inline><li>'e exploração de textos'</li><li>'exemplo'</li></ol>\n"
      ],
      "text/latex": [
       "\\begin{enumerate*}\n",
       "\\item 'e exploração de textos'\n",
       "\\item 'exemplo'\n",
       "\\end{enumerate*}\n"
      ],
      "text/markdown": [
       "1. 'e exploração de textos'\n",
       "2. 'exemplo'\n",
       "\n",
       "\n"
      ],
      "text/plain": [
       "[1] \"e exploração de textos\" \"exemplo\"               "
      ]
     },
     "metadata": {},
     "output_type": "display_data"
    }
   ],
   "source": [
    "# com o parametro o value TRUE, retorna o valor invés do index\n",
    "grep(\"ex\", str, value = T)"
   ]
  },
  {
   "cell_type": "code",
   "execution_count": 22,
   "metadata": {
    "vscode": {
     "languageId": "r"
    }
   },
   "outputs": [
    {
     "data": {
      "text/html": [
       "<style>\n",
       ".list-inline {list-style: none; margin:0; padding: 0}\n",
       ".list-inline>li {display: inline-block}\n",
       ".list-inline>li:not(:last-child)::after {content: \"\\00b7\"; padding: 0 .5ex}\n",
       "</style>\n",
       "<ol class=list-inline><li>FALSE</li><li>FALSE</li><li>FALSE</li><li>FALSE</li><li>FALSE</li><li>FALSE</li><li>FALSE</li><li>TRUE</li></ol>\n"
      ],
      "text/latex": [
       "\\begin{enumerate*}\n",
       "\\item FALSE\n",
       "\\item FALSE\n",
       "\\item FALSE\n",
       "\\item FALSE\n",
       "\\item FALSE\n",
       "\\item FALSE\n",
       "\\item FALSE\n",
       "\\item TRUE\n",
       "\\end{enumerate*}\n"
      ],
      "text/markdown": [
       "1. FALSE\n",
       "2. FALSE\n",
       "3. FALSE\n",
       "4. FALSE\n",
       "5. FALSE\n",
       "6. FALSE\n",
       "7. FALSE\n",
       "8. TRUE\n",
       "\n",
       "\n"
      ],
      "text/plain": [
       "[1] FALSE FALSE FALSE FALSE FALSE FALSE FALSE  TRUE"
      ]
     },
     "metadata": {},
     "output_type": "display_data"
    }
   ],
   "source": [
    "# retorna o true ou false, se na string corresponde ao padrão\n",
    "# o padrão \\\\d+ buscar por qualquer numero\n",
    "grepl(\"\\\\d+\", str)"
   ]
  },
  {
   "cell_type": "code",
   "execution_count": 26,
   "metadata": {
    "vscode": {
     "languageId": "r"
    }
   },
   "outputs": [
    {
     "data": {
      "text/html": [
       "<style>\n",
       ".list-inline {list-style: none; margin:0; padding: 0}\n",
       ".list-inline>li {display: inline-block}\n",
       ".list-inline>li:not(:last-child)::after {content: \"\\00b7\"; padding: 0 .5ex}\n",
       "</style>\n",
       "<ol class=list-inline><li>TRUE</li><li>TRUE</li><li>TRUE</li><li>TRUE</li><li>TRUE</li><li>TRUE</li><li>TRUE</li><li>FALSE</li></ol>\n"
      ],
      "text/latex": [
       "\\begin{enumerate*}\n",
       "\\item TRUE\n",
       "\\item TRUE\n",
       "\\item TRUE\n",
       "\\item TRUE\n",
       "\\item TRUE\n",
       "\\item TRUE\n",
       "\\item TRUE\n",
       "\\item FALSE\n",
       "\\end{enumerate*}\n"
      ],
      "text/markdown": [
       "1. TRUE\n",
       "2. TRUE\n",
       "3. TRUE\n",
       "4. TRUE\n",
       "5. TRUE\n",
       "6. TRUE\n",
       "7. TRUE\n",
       "8. FALSE\n",
       "\n",
       "\n"
      ],
      "text/plain": [
       "[1]  TRUE  TRUE  TRUE  TRUE  TRUE  TRUE  TRUE FALSE"
      ]
     },
     "metadata": {},
     "output_type": "display_data"
    }
   ],
   "source": [
    "# o padrão \\\\D busca onde há espaço\n",
    "grepl(\"\\\\D\", str)"
   ]
  },
  {
   "cell_type": "code",
   "execution_count": 28,
   "metadata": {
    "vscode": {
     "languageId": "r"
    }
   },
   "outputs": [
    {
     "data": {
      "text/html": [
       "<style>\n",
       ".list-inline {list-style: none; margin:0; padding: 0}\n",
       ".list-inline>li {display: inline-block}\n",
       ".list-inline>li:not(:last-child)::after {content: \"\\00b7\"; padding: 0 .5ex}\n",
       "</style>\n",
       "<ol class=list-inline><li>'Expressões'</li><li>'regulares'</li><li>'*** linguag*** R'</li><li>'permit*** a busca de padrões'</li><li>'e exploração de textos'</li><li>'pod***os buscar padrões *** dígitos'</li><li>'ex***plo'</li><li>'54763657100'</li></ol>\n"
      ],
      "text/latex": [
       "\\begin{enumerate*}\n",
       "\\item 'Expressões'\n",
       "\\item 'regulares'\n",
       "\\item '*** linguag*** R'\n",
       "\\item 'permit*** a busca de padrões'\n",
       "\\item 'e exploração de textos'\n",
       "\\item 'pod***os buscar padrões *** dígitos'\n",
       "\\item 'ex***plo'\n",
       "\\item '54763657100'\n",
       "\\end{enumerate*}\n"
      ],
      "text/markdown": [
       "1. 'Expressões'\n",
       "2. 'regulares'\n",
       "3. '*** linguag*** R'\n",
       "4. 'permit*** a busca de padrões'\n",
       "5. 'e exploração de textos'\n",
       "6. 'pod***os buscar padrões *** dígitos'\n",
       "7. 'ex***plo'\n",
       "8. '54763657100'\n",
       "\n",
       "\n"
      ],
      "text/plain": [
       "[1] \"Expressões\"                          \"regulares\"                          \n",
       "[3] \"*** linguag*** R\"                    \"permit*** a busca de padrões\"       \n",
       "[5] \"e exploração de textos\"              \"pod***os buscar padrões *** dígitos\"\n",
       "[7] \"ex***plo\"                            \"54763657100\"                        "
      ]
     },
     "metadata": {},
     "output_type": "display_data"
    }
   ],
   "source": [
    "# a função gsub, encontra o padrão e substitui pelo valor determinado\n",
    "gsub(\"em\", \"***\", str)"
   ]
  },
  {
   "cell_type": "code",
   "execution_count": 31,
   "metadata": {
    "vscode": {
     "languageId": "r"
    }
   },
   "outputs": [
    {
     "data": {
      "text/html": [
       "'A linguagem R é incrível'"
      ],
      "text/latex": [
       "'A linguagem R é incrível'"
      ],
      "text/markdown": [
       "'A linguagem R é incrível'"
      ],
      "text/plain": [
       "[1] \"A linguagem R é incrível\""
      ]
     },
     "metadata": {},
     "output_type": "display_data"
    },
    {
     "name": "stdout",
     "output_type": "stream",
     "text": [
      "A linguagem R é incrível"
     ]
    }
   ],
   "source": [
    "# também temos funções para concatenar, extrair uma parte ou alterar a capitalização\n",
    "\n",
    "# concatenando\n",
    "str1 <- \"A linguagem R\"\n",
    "str2 <- \"é incrível\"\n",
    "\n",
    "paste(str1, str2)\n",
    "\n",
    "cat(str1, str2)"
   ]
  },
  {
   "cell_type": "code",
   "execution_count": 35,
   "metadata": {
    "vscode": {
     "languageId": "r"
    }
   },
   "outputs": [
    {
     "data": {
      "text/html": [
       "'linguagem'"
      ],
      "text/latex": [
       "'linguagem'"
      ],
      "text/markdown": [
       "'linguagem'"
      ],
      "text/plain": [
       "[1] \"linguagem\""
      ]
     },
     "metadata": {},
     "output_type": "display_data"
    }
   ],
   "source": [
    "# extraindo uma parte\n",
    "substr(str1, start=3, stop=11)"
   ]
  },
  {
   "cell_type": "code",
   "execution_count": 36,
   "metadata": {
    "vscode": {
     "languageId": "r"
    }
   },
   "outputs": [
    {
     "data": {
      "text/html": [
       "'a linguagem r'"
      ],
      "text/latex": [
       "'a linguagem r'"
      ],
      "text/markdown": [
       "'a linguagem r'"
      ],
      "text/plain": [
       "[1] \"a linguagem r\""
      ]
     },
     "metadata": {},
     "output_type": "display_data"
    },
    {
     "data": {
      "text/html": [
       "'É INCRÍVEL'"
      ],
      "text/latex": [
       "'É INCRÍVEL'"
      ],
      "text/markdown": [
       "'É INCRÍVEL'"
      ],
      "text/plain": [
       "[1] \"É INCRÍVEL\""
      ]
     },
     "metadata": {},
     "output_type": "display_data"
    }
   ],
   "source": [
    "# alterando a capitalização\n",
    "tolower(str1)\n",
    "toupper(str2)"
   ]
  },
  {
   "attachments": {},
   "cell_type": "markdown",
   "metadata": {},
   "source": [
    "### stringr"
   ]
  },
  {
   "attachments": {},
   "cell_type": "markdown",
   "metadata": {},
   "source": [
    "stringr é um pacote do R, que contém funções para manipulação de strings\n",
    "\n",
    "para instalar o pacote é so usar install.packages('stringr') e para carregar o pacote caso já tenha instalado é library('stringr')"
   ]
  },
  {
   "cell_type": "code",
   "execution_count": 30,
   "metadata": {
    "vscode": {
     "languageId": "r"
    }
   },
   "outputs": [],
   "source": [
    "library('stringr')"
   ]
  },
  {
   "cell_type": "code",
   "execution_count": 42,
   "metadata": {
    "vscode": {
     "languageId": "r"
    }
   },
   "outputs": [
    {
     "data": {
      "text/html": [
       "'Lorem Ipsum is simply dummy text of the printing and typesetting industry.'"
      ],
      "text/latex": [
       "'Lorem Ipsum is simply dummy text of the printing and typesetting industry.'"
      ],
      "text/markdown": [
       "'Lorem Ipsum is simply dummy text of the printing and typesetting industry.'"
      ],
      "text/plain": [
       "[1] \"Lorem Ipsum is simply dummy text of the printing and typesetting industry.\""
      ]
     },
     "metadata": {},
     "output_type": "display_data"
    }
   ],
   "source": [
    "str <- \"Lorem Ipsum is simply dummy text of the printing and typesetting industry.\"\n",
    "str"
   ]
  },
  {
   "cell_type": "code",
   "execution_count": 44,
   "metadata": {
    "vscode": {
     "languageId": "r"
    }
   },
   "outputs": [
    {
     "data": {
      "text/html": [
       "<ol>\n",
       "\t<li><style>\n",
       ".list-inline {list-style: none; margin:0; padding: 0}\n",
       ".list-inline>li {display: inline-block}\n",
       ".list-inline>li:not(:last-child)::after {content: \"\\00b7\"; padding: 0 .5ex}\n",
       "</style>\n",
       "<ol class=list-inline><li>'L'</li><li>'o'</li><li>'r'</li><li>'e'</li><li>'m'</li><li>' '</li><li>'I'</li><li>'p'</li><li>'s'</li><li>'u'</li><li>'m'</li><li>' '</li><li>'i'</li><li>'s'</li><li>' '</li><li>'s'</li><li>'i'</li><li>'m'</li><li>'p'</li><li>'l'</li><li>'y'</li><li>' '</li><li>'d'</li><li>'u'</li><li>'m'</li><li>'m'</li><li>'y'</li><li>' '</li><li>'t'</li><li>'e'</li><li>'x'</li><li>'t'</li><li>' '</li><li>'o'</li><li>'f'</li><li>' '</li><li>'t'</li><li>'h'</li><li>'e'</li><li>' '</li><li>'p'</li><li>'r'</li><li>'i'</li><li>'n'</li><li>'t'</li><li>'i'</li><li>'n'</li><li>'g'</li><li>' '</li><li>'a'</li><li>'n'</li><li>'d'</li><li>' '</li><li>'t'</li><li>'y'</li><li>'p'</li><li>'e'</li><li>'s'</li><li>'e'</li><li>'t'</li><li>'t'</li><li>'i'</li><li>'n'</li><li>'g'</li><li>' '</li><li>'i'</li><li>'n'</li><li>'d'</li><li>'u'</li><li>'s'</li><li>'t'</li><li>'r'</li><li>'y'</li><li>'.'</li></ol>\n",
       "</li>\n",
       "</ol>\n"
      ],
      "text/latex": [
       "\\begin{enumerate}\n",
       "\\item \\begin{enumerate*}\n",
       "\\item 'L'\n",
       "\\item 'o'\n",
       "\\item 'r'\n",
       "\\item 'e'\n",
       "\\item 'm'\n",
       "\\item ' '\n",
       "\\item 'I'\n",
       "\\item 'p'\n",
       "\\item 's'\n",
       "\\item 'u'\n",
       "\\item 'm'\n",
       "\\item ' '\n",
       "\\item 'i'\n",
       "\\item 's'\n",
       "\\item ' '\n",
       "\\item 's'\n",
       "\\item 'i'\n",
       "\\item 'm'\n",
       "\\item 'p'\n",
       "\\item 'l'\n",
       "\\item 'y'\n",
       "\\item ' '\n",
       "\\item 'd'\n",
       "\\item 'u'\n",
       "\\item 'm'\n",
       "\\item 'm'\n",
       "\\item 'y'\n",
       "\\item ' '\n",
       "\\item 't'\n",
       "\\item 'e'\n",
       "\\item 'x'\n",
       "\\item 't'\n",
       "\\item ' '\n",
       "\\item 'o'\n",
       "\\item 'f'\n",
       "\\item ' '\n",
       "\\item 't'\n",
       "\\item 'h'\n",
       "\\item 'e'\n",
       "\\item ' '\n",
       "\\item 'p'\n",
       "\\item 'r'\n",
       "\\item 'i'\n",
       "\\item 'n'\n",
       "\\item 't'\n",
       "\\item 'i'\n",
       "\\item 'n'\n",
       "\\item 'g'\n",
       "\\item ' '\n",
       "\\item 'a'\n",
       "\\item 'n'\n",
       "\\item 'd'\n",
       "\\item ' '\n",
       "\\item 't'\n",
       "\\item 'y'\n",
       "\\item 'p'\n",
       "\\item 'e'\n",
       "\\item 's'\n",
       "\\item 'e'\n",
       "\\item 't'\n",
       "\\item 't'\n",
       "\\item 'i'\n",
       "\\item 'n'\n",
       "\\item 'g'\n",
       "\\item ' '\n",
       "\\item 'i'\n",
       "\\item 'n'\n",
       "\\item 'd'\n",
       "\\item 'u'\n",
       "\\item 's'\n",
       "\\item 't'\n",
       "\\item 'r'\n",
       "\\item 'y'\n",
       "\\item '.'\n",
       "\\end{enumerate*}\n",
       "\n",
       "\\end{enumerate}\n"
      ],
      "text/markdown": [
       "1. 1. 'L'\n",
       "2. 'o'\n",
       "3. 'r'\n",
       "4. 'e'\n",
       "5. 'm'\n",
       "6. ' '\n",
       "7. 'I'\n",
       "8. 'p'\n",
       "9. 's'\n",
       "10. 'u'\n",
       "11. 'm'\n",
       "12. ' '\n",
       "13. 'i'\n",
       "14. 's'\n",
       "15. ' '\n",
       "16. 's'\n",
       "17. 'i'\n",
       "18. 'm'\n",
       "19. 'p'\n",
       "20. 'l'\n",
       "21. 'y'\n",
       "22. ' '\n",
       "23. 'd'\n",
       "24. 'u'\n",
       "25. 'm'\n",
       "26. 'm'\n",
       "27. 'y'\n",
       "28. ' '\n",
       "29. 't'\n",
       "30. 'e'\n",
       "31. 'x'\n",
       "32. 't'\n",
       "33. ' '\n",
       "34. 'o'\n",
       "35. 'f'\n",
       "36. ' '\n",
       "37. 't'\n",
       "38. 'h'\n",
       "39. 'e'\n",
       "40. ' '\n",
       "41. 'p'\n",
       "42. 'r'\n",
       "43. 'i'\n",
       "44. 'n'\n",
       "45. 't'\n",
       "46. 'i'\n",
       "47. 'n'\n",
       "48. 'g'\n",
       "49. ' '\n",
       "50. 'a'\n",
       "51. 'n'\n",
       "52. 'd'\n",
       "53. ' '\n",
       "54. 't'\n",
       "55. 'y'\n",
       "56. 'p'\n",
       "57. 'e'\n",
       "58. 's'\n",
       "59. 'e'\n",
       "60. 't'\n",
       "61. 't'\n",
       "62. 'i'\n",
       "63. 'n'\n",
       "64. 'g'\n",
       "65. ' '\n",
       "66. 'i'\n",
       "67. 'n'\n",
       "68. 'd'\n",
       "69. 'u'\n",
       "70. 's'\n",
       "71. 't'\n",
       "72. 'r'\n",
       "73. 'y'\n",
       "74. '.'\n",
       "\n",
       "\n",
       "\n",
       "\n",
       "\n"
      ],
      "text/plain": [
       "[[1]]\n",
       " [1] \"L\" \"o\" \"r\" \"e\" \"m\" \" \" \"I\" \"p\" \"s\" \"u\" \"m\" \" \" \"i\" \"s\" \" \" \"s\" \"i\" \"m\" \"p\"\n",
       "[20] \"l\" \"y\" \" \" \"d\" \"u\" \"m\" \"m\" \"y\" \" \" \"t\" \"e\" \"x\" \"t\" \" \" \"o\" \"f\" \" \" \"t\" \"h\"\n",
       "[39] \"e\" \" \" \"p\" \"r\" \"i\" \"n\" \"t\" \"i\" \"n\" \"g\" \" \" \"a\" \"n\" \"d\" \" \" \"t\" \"y\" \"p\" \"e\"\n",
       "[58] \"s\" \"e\" \"t\" \"t\" \"i\" \"n\" \"g\" \" \" \"i\" \"n\" \"d\" \"u\" \"s\" \"t\" \"r\" \"y\" \".\"\n"
      ]
     },
     "metadata": {},
     "output_type": "display_data"
    }
   ],
   "source": [
    "# dividindo a string em caracteres\n",
    "\n",
    "str_split(str, \"\")"
   ]
  },
  {
   "cell_type": "code",
   "execution_count": 45,
   "metadata": {
    "vscode": {
     "languageId": "r"
    }
   },
   "outputs": [
    {
     "data": {
      "text/html": [
       "<ol>\n",
       "\t<li><style>\n",
       ".list-inline {list-style: none; margin:0; padding: 0}\n",
       ".list-inline>li {display: inline-block}\n",
       ".list-inline>li:not(:last-child)::after {content: \"\\00b7\"; padding: 0 .5ex}\n",
       "</style>\n",
       "<ol class=list-inline><li>'Lorem'</li><li>'Ipsum'</li><li>'is'</li><li>'simply'</li><li>'dummy'</li><li>'text'</li><li>'of'</li><li>'the'</li><li>'printing'</li><li>'and'</li><li>'typesetting'</li><li>'industry.'</li></ol>\n",
       "</li>\n",
       "</ol>\n"
      ],
      "text/latex": [
       "\\begin{enumerate}\n",
       "\\item \\begin{enumerate*}\n",
       "\\item 'Lorem'\n",
       "\\item 'Ipsum'\n",
       "\\item 'is'\n",
       "\\item 'simply'\n",
       "\\item 'dummy'\n",
       "\\item 'text'\n",
       "\\item 'of'\n",
       "\\item 'the'\n",
       "\\item 'printing'\n",
       "\\item 'and'\n",
       "\\item 'typesetting'\n",
       "\\item 'industry.'\n",
       "\\end{enumerate*}\n",
       "\n",
       "\\end{enumerate}\n"
      ],
      "text/markdown": [
       "1. 1. 'Lorem'\n",
       "2. 'Ipsum'\n",
       "3. 'is'\n",
       "4. 'simply'\n",
       "5. 'dummy'\n",
       "6. 'text'\n",
       "7. 'of'\n",
       "8. 'the'\n",
       "9. 'printing'\n",
       "10. 'and'\n",
       "11. 'typesetting'\n",
       "12. 'industry.'\n",
       "\n",
       "\n",
       "\n",
       "\n",
       "\n"
      ],
      "text/plain": [
       "[[1]]\n",
       " [1] \"Lorem\"       \"Ipsum\"       \"is\"          \"simply\"      \"dummy\"      \n",
       " [6] \"text\"        \"of\"          \"the\"         \"printing\"    \"and\"        \n",
       "[11] \"typesetting\" \"industry.\"  \n"
      ]
     },
     "metadata": {},
     "output_type": "display_data"
    }
   ],
   "source": [
    "# dividindo a string em palavras\n",
    "\n",
    "str_split(str, \" \")"
   ]
  },
  {
   "cell_type": "code",
   "execution_count": 46,
   "metadata": {
    "vscode": {
     "languageId": "r"
    }
   },
   "outputs": [
    {
     "data": {
      "text/html": [
       "<style>\n",
       ".list-inline {list-style: none; margin:0; padding: 0}\n",
       ".list-inline>li {display: inline-block}\n",
       ".list-inline>li:not(:last-child)::after {content: \"\\00b7\"; padding: 0 .5ex}\n",
       "</style>\n",
       "<ol class=list-inline><li>'A linguagem R'</li><li>'é incrível'</li></ol>\n"
      ],
      "text/latex": [
       "\\begin{enumerate*}\n",
       "\\item 'A linguagem R'\n",
       "\\item 'é incrível'\n",
       "\\end{enumerate*}\n"
      ],
      "text/markdown": [
       "1. 'A linguagem R'\n",
       "2. 'é incrível'\n",
       "\n",
       "\n"
      ],
      "text/plain": [
       "[1] \"A linguagem R\" \"é incrível\"   "
      ]
     },
     "metadata": {},
     "output_type": "display_data"
    }
   ],
   "source": [
    "# adicionando 2 strings\n",
    "\n",
    "str_c(c(str1, str2), sep = \"\")"
   ]
  },
  {
   "cell_type": "code",
   "execution_count": 47,
   "metadata": {
    "vscode": {
     "languageId": "r"
    }
   },
   "outputs": [
    {
     "data": {
      "text/html": [
       "4"
      ],
      "text/latex": [
       "4"
      ],
      "text/markdown": [
       "4"
      ],
      "text/plain": [
       "[1] 4"
      ]
     },
     "metadata": {},
     "output_type": "display_data"
    }
   ],
   "source": [
    "# podemos contar quantas vezes um caracter aparece na string\n",
    "\n",
    "str_count(str, \"y\")"
   ]
  },
  {
   "cell_type": "code",
   "execution_count": 48,
   "metadata": {
    "vscode": {
     "languageId": "r"
    }
   },
   "outputs": [
    {
     "data": {
      "text/html": [
       "<ol>\n",
       "\t<li><table class=\"dataframe\">\n",
       "<caption>A matrix: 4 × 2 of type int</caption>\n",
       "<thead>\n",
       "\t<tr><th scope=col>start</th><th scope=col>end</th></tr>\n",
       "</thead>\n",
       "<tbody>\n",
       "\t<tr><td>21</td><td>21</td></tr>\n",
       "\t<tr><td>27</td><td>27</td></tr>\n",
       "\t<tr><td>55</td><td>55</td></tr>\n",
       "\t<tr><td>73</td><td>73</td></tr>\n",
       "</tbody>\n",
       "</table>\n",
       "</li>\n",
       "</ol>\n"
      ],
      "text/latex": [
       "\\begin{enumerate}\n",
       "\\item A matrix: 4 × 2 of type int\n",
       "\\begin{tabular}{ll}\n",
       " start & end\\\\\n",
       "\\hline\n",
       "\t 21 & 21\\\\\n",
       "\t 27 & 27\\\\\n",
       "\t 55 & 55\\\\\n",
       "\t 73 & 73\\\\\n",
       "\\end{tabular}\n",
       "\n",
       "\\end{enumerate}\n"
      ],
      "text/markdown": [
       "1. \n",
       "A matrix: 4 × 2 of type int\n",
       "\n",
       "| start | end |\n",
       "|---|---|\n",
       "| 21 | 21 |\n",
       "| 27 | 27 |\n",
       "| 55 | 55 |\n",
       "| 73 | 73 |\n",
       "\n",
       "\n",
       "\n",
       "\n"
      ],
      "text/plain": [
       "[[1]]\n",
       "     start end\n",
       "[1,]    21  21\n",
       "[2,]    27  27\n",
       "[3,]    55  55\n",
       "[4,]    73  73\n"
      ]
     },
     "metadata": {},
     "output_type": "display_data"
    }
   ],
   "source": [
    "# ou localizar a primeira e última posição na qual o caractere aparece\n",
    "\n",
    "str_locate_all(str, \"y\")"
   ]
  },
  {
   "cell_type": "code",
   "execution_count": 52,
   "metadata": {
    "vscode": {
     "languageId": "r"
    }
   },
   "outputs": [
    {
     "data": {
      "text/html": [
       "'LoremIpsum is simply dummy text of the printing and typesetting industry.'"
      ],
      "text/latex": [
       "'LoremIpsum is simply dummy text of the printing and typesetting industry.'"
      ],
      "text/markdown": [
       "'LoremIpsum is simply dummy text of the printing and typesetting industry.'"
      ],
      "text/plain": [
       "[1] \"LoremIpsum is simply dummy text of the printing and typesetting industry.\""
      ]
     },
     "metadata": {},
     "output_type": "display_data"
    }
   ],
   "source": [
    "# Substitui a primeira ocorrência de um caracter\n",
    "str_replace(str, \"\\\\s\", \"\")"
   ]
  },
  {
   "cell_type": "code",
   "execution_count": 53,
   "metadata": {
    "vscode": {
     "languageId": "r"
    }
   },
   "outputs": [
    {
     "data": {
      "text/html": [
       "'LoremIpsumissimplydummytextoftheprintingandtypesettingindustry.'"
      ],
      "text/latex": [
       "'LoremIpsumissimplydummytextoftheprintingandtypesettingindustry.'"
      ],
      "text/markdown": [
       "'LoremIpsumissimplydummytextoftheprintingandtypesettingindustry.'"
      ],
      "text/plain": [
       "[1] \"LoremIpsumissimplydummytextoftheprintingandtypesettingindustry.\""
      ]
     },
     "metadata": {},
     "output_type": "display_data"
    }
   ],
   "source": [
    "# Substitui todas as ocorrências de um caracter\n",
    "str_replace_all(str, \"\\\\s\", \"\")"
   ]
  },
  {
   "attachments": {},
   "cell_type": "markdown",
   "metadata": {},
   "source": [
    "## Gráficos"
   ]
  },
  {
   "attachments": {},
   "cell_type": "markdown",
   "metadata": {},
   "source": [
    "Especificando os parâmetros\n",
    "\n",
    "- col - cor do plot\n",
    "- lty - tipo de linha\n",
    "- lwd - largura de linha\n",
    "- pch - símbolo no plot\n",
    "- xlab - label do eixo x\n",
    "- ylab - label do eixo y\n",
    "- las - como os labels dos eixos são orientados\n",
    "- bg - background color\n",
    "- mfrow - número de plots por linha\n",
    "- mfcool - número de plots por coluna\n",
    "\n",
    "Funções Básicas de Plot\n",
    "\n",
    "- plot() - scatterplots\n",
    "- lines() -  adiciona linhas ao gráfico\n",
    "- points() - adiciona pontos ao gráfico\n",
    "- text() - adiciona label ao gráfico\n",
    "- title() - adiciona título ao gráfico"
   ]
  },
  {
   "attachments": {},
   "cell_type": "markdown",
   "metadata": {},
   "source": [
    "para plotar os gráficos irei usar o dataset iris, que é carregado junto com o R, nesse dataset contém a largura e o comprimento da sépala e pétala de três especies de iris"
   ]
  },
  {
   "cell_type": "code",
   "execution_count": 56,
   "metadata": {
    "vscode": {
     "languageId": "r"
    }
   },
   "outputs": [
    {
     "data": {
      "text/html": [
       "<table class=\"dataframe\">\n",
       "<caption>A data.frame: 6 × 5</caption>\n",
       "<thead>\n",
       "\t<tr><th></th><th scope=col>Sepal.Length</th><th scope=col>Sepal.Width</th><th scope=col>Petal.Length</th><th scope=col>Petal.Width</th><th scope=col>Species</th></tr>\n",
       "\t<tr><th></th><th scope=col>&lt;dbl&gt;</th><th scope=col>&lt;dbl&gt;</th><th scope=col>&lt;dbl&gt;</th><th scope=col>&lt;dbl&gt;</th><th scope=col>&lt;fct&gt;</th></tr>\n",
       "</thead>\n",
       "<tbody>\n",
       "\t<tr><th scope=row>1</th><td>5.1</td><td>3.5</td><td>1.4</td><td>0.2</td><td>setosa</td></tr>\n",
       "\t<tr><th scope=row>2</th><td>4.9</td><td>3.0</td><td>1.4</td><td>0.2</td><td>setosa</td></tr>\n",
       "\t<tr><th scope=row>3</th><td>4.7</td><td>3.2</td><td>1.3</td><td>0.2</td><td>setosa</td></tr>\n",
       "\t<tr><th scope=row>4</th><td>4.6</td><td>3.1</td><td>1.5</td><td>0.2</td><td>setosa</td></tr>\n",
       "\t<tr><th scope=row>5</th><td>5.0</td><td>3.6</td><td>1.4</td><td>0.2</td><td>setosa</td></tr>\n",
       "\t<tr><th scope=row>6</th><td>5.4</td><td>3.9</td><td>1.7</td><td>0.4</td><td>setosa</td></tr>\n",
       "</tbody>\n",
       "</table>\n"
      ],
      "text/latex": [
       "A data.frame: 6 × 5\n",
       "\\begin{tabular}{r|lllll}\n",
       "  & Sepal.Length & Sepal.Width & Petal.Length & Petal.Width & Species\\\\\n",
       "  & <dbl> & <dbl> & <dbl> & <dbl> & <fct>\\\\\n",
       "\\hline\n",
       "\t1 & 5.1 & 3.5 & 1.4 & 0.2 & setosa\\\\\n",
       "\t2 & 4.9 & 3.0 & 1.4 & 0.2 & setosa\\\\\n",
       "\t3 & 4.7 & 3.2 & 1.3 & 0.2 & setosa\\\\\n",
       "\t4 & 4.6 & 3.1 & 1.5 & 0.2 & setosa\\\\\n",
       "\t5 & 5.0 & 3.6 & 1.4 & 0.2 & setosa\\\\\n",
       "\t6 & 5.4 & 3.9 & 1.7 & 0.4 & setosa\\\\\n",
       "\\end{tabular}\n"
      ],
      "text/markdown": [
       "\n",
       "A data.frame: 6 × 5\n",
       "\n",
       "| <!--/--> | Sepal.Length &lt;dbl&gt; | Sepal.Width &lt;dbl&gt; | Petal.Length &lt;dbl&gt; | Petal.Width &lt;dbl&gt; | Species &lt;fct&gt; |\n",
       "|---|---|---|---|---|---|\n",
       "| 1 | 5.1 | 3.5 | 1.4 | 0.2 | setosa |\n",
       "| 2 | 4.9 | 3.0 | 1.4 | 0.2 | setosa |\n",
       "| 3 | 4.7 | 3.2 | 1.3 | 0.2 | setosa |\n",
       "| 4 | 4.6 | 3.1 | 1.5 | 0.2 | setosa |\n",
       "| 5 | 5.0 | 3.6 | 1.4 | 0.2 | setosa |\n",
       "| 6 | 5.4 | 3.9 | 1.7 | 0.4 | setosa |\n",
       "\n"
      ],
      "text/plain": [
       "  Sepal.Length Sepal.Width Petal.Length Petal.Width Species\n",
       "1 5.1          3.5         1.4          0.2         setosa \n",
       "2 4.9          3.0         1.4          0.2         setosa \n",
       "3 4.7          3.2         1.3          0.2         setosa \n",
       "4 4.6          3.1         1.5          0.2         setosa \n",
       "5 5.0          3.6         1.4          0.2         setosa \n",
       "6 5.4          3.9         1.7          0.4         setosa "
      ]
     },
     "metadata": {},
     "output_type": "display_data"
    }
   ],
   "source": [
    "head(iris)"
   ]
  },
  {
   "cell_type": "code",
   "execution_count": 89,
   "metadata": {
    "vscode": {
     "languageId": "r"
    }
   },
   "outputs": [
    {
     "name": "stdout",
     "output_type": "stream",
     "text": [
      "'data.frame':\t150 obs. of  5 variables:\n",
      " $ Sepal.Length: num  5.1 4.9 4.7 4.6 5 5.4 4.6 5 4.4 4.9 ...\n",
      " $ Sepal.Width : num  3.5 3 3.2 3.1 3.6 3.9 3.4 3.4 2.9 3.1 ...\n",
      " $ Petal.Length: num  1.4 1.4 1.3 1.5 1.4 1.7 1.4 1.5 1.4 1.5 ...\n",
      " $ Petal.Width : num  0.2 0.2 0.2 0.2 0.2 0.4 0.3 0.2 0.2 0.1 ...\n",
      " $ Species     : Factor w/ 3 levels \"setosa\",\"versicolor\",..: 1 1 1 1 1 1 1 1 1 1 ...\n"
     ]
    }
   ],
   "source": [
    "str(iris)"
   ]
  },
  {
   "attachments": {},
   "cell_type": "markdown",
   "metadata": {},
   "source": [
    "### Scatter plot"
   ]
  },
  {
   "cell_type": "code",
   "execution_count": 64,
   "metadata": {
    "vscode": {
     "languageId": "r"
    }
   },
   "outputs": [
    {
     "data": {
      "image/png": "[encoded data removed]",
      "text/plain": [
       "plot without title"
      ]
     },
     "metadata": {
      "image/png": {
       "height": 420,
       "width": 420
      }
     },
     "output_type": "display_data"
    }
   ],
   "source": [
    "plot(iris$Sepal.Length, col='red', type=\"p\")"
   ]
  },
  {
   "cell_type": "code",
   "execution_count": 69,
   "metadata": {
    "vscode": {
     "languageId": "r"
    }
   },
   "outputs": [
    {
     "data": {
      "image/png": "[encoded data removed]",
      "text/plain": [
       "Plot with title “Comprimento x Largura”"
      ]
     },
     "metadata": {
      "image/png": {
       "height": 420,
       "width": 420
      }
     },
     "output_type": "display_data"
    }
   ],
   "source": [
    "plot(x=iris$Sepal.Length, y=iris$Sepal.Width, \n",
    "     xlab=\"Comprimento\", ylab=\"Largura\", main=\"Comprimento x Largura\")"
   ]
  },
  {
   "attachments": {},
   "cell_type": "markdown",
   "metadata": {},
   "source": [
    "### histograma"
   ]
  },
  {
   "cell_type": "code",
   "execution_count": 72,
   "metadata": {
    "vscode": {
     "languageId": "r"
    }
   },
   "outputs": [
    {
     "data": {
      "image/png": "[encoded data removed]",
      "text/plain": [
       "Plot with title “Histograma do comprimento das pétalas”"
      ]
     },
     "metadata": {
      "image/png": {
       "height": 420,
       "width": 420
      }
     },
     "output_type": "display_data"
    }
   ],
   "source": [
    "hist(iris$Petal.Length, main=\"Histograma do comprimento das pétalas\")"
   ]
  },
  {
   "cell_type": "code",
   "execution_count": 74,
   "metadata": {
    "vscode": {
     "languageId": "r"
    }
   },
   "outputs": [
    {
     "data": {
      "image/png": "[encoded data removed]",
      "text/plain": [
       "Plot with title “Histograma do largura das pétalas”"
      ]
     },
     "metadata": {
      "image/png": {
       "height": 420,
       "width": 420
      }
     },
     "output_type": "display_data"
    }
   ],
   "source": [
    "hist(iris$Petal.Width, main=\"Histograma do largura das pétalas\")"
   ]
  },
  {
   "attachments": {},
   "cell_type": "markdown",
   "metadata": {},
   "source": [
    "### Box plot"
   ]
  },
  {
   "cell_type": "code",
   "execution_count": 84,
   "metadata": {
    "vscode": {
     "languageId": "r"
    }
   },
   "outputs": [
    {
     "data": {
      "image/png": "[encoded data removed]",
      "text/plain": [
       "Plot with title “Comprimento das pétalas das especies”"
      ]
     },
     "metadata": {
      "image/png": {
       "height": 420,
       "width": 420
      }
     },
     "output_type": "display_data"
    }
   ],
   "source": [
    "boxplot(data=iris, Petal.Length\t~ Species, main=\"Comprimento das pétalas das especies\", col.main=\"red\")"
   ]
  },
  {
   "attachments": {},
   "cell_type": "markdown",
   "metadata": {},
   "source": [
    "### Bar plot"
   ]
  },
  {
   "cell_type": "code",
   "execution_count": 91,
   "metadata": {
    "vscode": {
     "languageId": "r"
    }
   },
   "outputs": [
    {
     "data": {
      "text/plain": [
       "\n",
       "    setosa versicolor  virginica \n",
       "        50         50         50 "
      ]
     },
     "metadata": {},
     "output_type": "display_data"
    }
   ],
   "source": [
    "table(iris$Species)"
   ]
  },
  {
   "cell_type": "code",
   "execution_count": 94,
   "metadata": {
    "vscode": {
     "languageId": "r"
    }
   },
   "outputs": [
    {
     "data": {
      "image/png": "[encoded data removed]",
      "text/plain": [
       "Plot with title “Quantidade de especies de iris”"
      ]
     },
     "metadata": {
      "image/png": {
       "height": 420,
       "width": 420
      }
     },
     "output_type": "display_data"
    }
   ],
   "source": [
    "barplot(table(iris$Species), main=\"Quantidade de especies de iris\")"
   ]
  },
  {
   "attachments": {},
   "cell_type": "markdown",
   "metadata": {},
   "source": [
    "### Pie plot"
   ]
  },
  {
   "cell_type": "code",
   "execution_count": 96,
   "metadata": {
    "vscode": {
     "languageId": "r"
    }
   },
   "outputs": [
    {
     "data": {
      "image/png": "[encoded data removed]",
      "text/plain": [
       "Plot with title “distribuição das especies”"
      ]
     },
     "metadata": {
      "image/png": {
       "height": 420,
       "width": 420
      }
     },
     "output_type": "display_data"
    }
   ],
   "source": [
    "pie(table(iris$Species), main=\"distribuição das especies\")"
   ]
  },
  {
   "attachments": {},
   "cell_type": "markdown",
   "metadata": {},
   "source": [
    "### ggplot2"
   ]
  },
  {
   "attachments": {},
   "cell_type": "markdown",
   "metadata": {},
   "source": [
    "Um sistema gráfico completo, alternativo ao sistema básico de gráficos do R. Oferece mais opções de modificação, legendas prontas e formatação mais sólida.\n",
    "\n",
    "Caso precise instalar install.packages(\"ggplot2\")"
   ]
  },
  {
   "cell_type": "code",
   "execution_count": 97,
   "metadata": {
    "vscode": {
     "languageId": "r"
    }
   },
   "outputs": [],
   "source": [
    "library(ggplot2)"
   ]
  },
  {
   "cell_type": "code",
   "execution_count": 104,
   "metadata": {
    "vscode": {
     "languageId": "r"
    }
   },
   "outputs": [
    {
     "data": {
      "image/png": "[encoded data removed]",
      "text/plain": [
       "plot without title"
      ]
     },
     "metadata": {
      "image/png": {
       "height": 420,
       "width": 420
      }
     },
     "output_type": "display_data"
    }
   ],
   "source": [
    "ggplot(data=iris,\n",
    "        mapping = aes(x=Sepal.Length, y=Sepal.Width, color=Species)) + geom_point(size=3)"
   ]
  },
  {
   "cell_type": "code",
   "execution_count": 117,
   "metadata": {
    "vscode": {
     "languageId": "r"
    }
   },
   "outputs": [
    {
     "data": {
      "image/png": "[encoded data removed]",
      "text/plain": [
       "plot without title"
      ]
     },
     "metadata": {
      "image/png": {
       "height": 420,
       "width": 420
      }
     },
     "output_type": "display_data"
    }
   ],
   "source": [
    "ggplot(data=iris,\n",
    "        mapping = aes(x=Species, y=Sepal.Width)) + \n",
    "        geom_boxplot() + \n",
    "        labs(title=\"Distribuição da largura das especieis de iris\",\n",
    "        x=\"Especies\", y=\"Largura\")"
   ]
  },
  {
   "cell_type": "code",
   "execution_count": 118,
   "metadata": {
    "vscode": {
     "languageId": "r"
    }
   },
   "outputs": [
    {
     "data": {
      "image/png": "[encoded data removed]",
      "text/plain": [
       "plot without title"
      ]
     },
     "metadata": {
      "image/png": {
       "height": 420,
       "width": 420
      }
     },
     "output_type": "display_data"
    }
   ],
   "source": [
    "ggplot(data=iris,\n",
    "        mapping = aes(x=Species, y=Sepal.Width)) + \n",
    "        geom_violin() + \n",
    "        labs(title=\"Distribuição da largura das especieis de iris\",\n",
    "        x=\"Especies\", y=\"Largura\")"
   ]
  },
  {
   "attachments": {},
   "cell_type": "markdown",
   "metadata": {},
   "source": [
    "## Pacotes para análise de dados"
   ]
  },
  {
   "attachments": {},
   "cell_type": "markdown",
   "metadata": {},
   "source": [
    "Para essa parte vamos usar pacotes do R que auxiliam na análise de dados, isto é, na limpeza, formatação e manipulação de dados, os pacotes serão o dplyr, tidyr"
   ]
  },
  {
   "cell_type": "code",
   "execution_count": 3,
   "metadata": {
    "vscode": {
     "languageId": "r"
    }
   },
   "outputs": [
    {
     "name": "stderr",
     "output_type": "stream",
     "text": [
      "\n",
      "Attaching package: ‘dplyr’\n",
      "\n",
      "\n",
      "The following objects are masked from ‘package:stats’:\n",
      "\n",
      "    filter, lag\n",
      "\n",
      "\n",
      "The following objects are masked from ‘package:base’:\n",
      "\n",
      "    intersect, setdiff, setequal, union\n",
      "\n",
      "\n"
     ]
    }
   ],
   "source": [
    "library('dplyr')"
   ]
  },
  {
   "cell_type": "code",
   "execution_count": 2,
   "metadata": {
    "vscode": {
     "languageId": "r"
    }
   },
   "outputs": [
    {
     "data": {
      "text/html": [
       "<table class=\"dataframe\">\n",
       "<caption>A data.frame: 6 × 5</caption>\n",
       "<thead>\n",
       "\t<tr><th></th><th scope=col>Sepal.Length</th><th scope=col>Sepal.Width</th><th scope=col>Petal.Length</th><th scope=col>Petal.Width</th><th scope=col>Species</th></tr>\n",
       "\t<tr><th></th><th scope=col>&lt;dbl&gt;</th><th scope=col>&lt;dbl&gt;</th><th scope=col>&lt;dbl&gt;</th><th scope=col>&lt;dbl&gt;</th><th scope=col>&lt;fct&gt;</th></tr>\n",
       "</thead>\n",
       "<tbody>\n",
       "\t<tr><th scope=row>1</th><td>5.1</td><td>3.5</td><td>1.4</td><td>0.2</td><td>setosa</td></tr>\n",
       "\t<tr><th scope=row>2</th><td>4.9</td><td>3.0</td><td>1.4</td><td>0.2</td><td>setosa</td></tr>\n",
       "\t<tr><th scope=row>3</th><td>4.7</td><td>3.2</td><td>1.3</td><td>0.2</td><td>setosa</td></tr>\n",
       "\t<tr><th scope=row>4</th><td>4.6</td><td>3.1</td><td>1.5</td><td>0.2</td><td>setosa</td></tr>\n",
       "\t<tr><th scope=row>5</th><td>5.0</td><td>3.6</td><td>1.4</td><td>0.2</td><td>setosa</td></tr>\n",
       "\t<tr><th scope=row>6</th><td>5.4</td><td>3.9</td><td>1.7</td><td>0.4</td><td>setosa</td></tr>\n",
       "</tbody>\n",
       "</table>\n"
      ],
      "text/latex": [
       "A data.frame: 6 × 5\n",
       "\\begin{tabular}{r|lllll}\n",
       "  & Sepal.Length & Sepal.Width & Petal.Length & Petal.Width & Species\\\\\n",
       "  & <dbl> & <dbl> & <dbl> & <dbl> & <fct>\\\\\n",
       "\\hline\n",
       "\t1 & 5.1 & 3.5 & 1.4 & 0.2 & setosa\\\\\n",
       "\t2 & 4.9 & 3.0 & 1.4 & 0.2 & setosa\\\\\n",
       "\t3 & 4.7 & 3.2 & 1.3 & 0.2 & setosa\\\\\n",
       "\t4 & 4.6 & 3.1 & 1.5 & 0.2 & setosa\\\\\n",
       "\t5 & 5.0 & 3.6 & 1.4 & 0.2 & setosa\\\\\n",
       "\t6 & 5.4 & 3.9 & 1.7 & 0.4 & setosa\\\\\n",
       "\\end{tabular}\n"
      ],
      "text/markdown": [
       "\n",
       "A data.frame: 6 × 5\n",
       "\n",
       "| <!--/--> | Sepal.Length &lt;dbl&gt; | Sepal.Width &lt;dbl&gt; | Petal.Length &lt;dbl&gt; | Petal.Width &lt;dbl&gt; | Species &lt;fct&gt; |\n",
       "|---|---|---|---|---|---|\n",
       "| 1 | 5.1 | 3.5 | 1.4 | 0.2 | setosa |\n",
       "| 2 | 4.9 | 3.0 | 1.4 | 0.2 | setosa |\n",
       "| 3 | 4.7 | 3.2 | 1.3 | 0.2 | setosa |\n",
       "| 4 | 4.6 | 3.1 | 1.5 | 0.2 | setosa |\n",
       "| 5 | 5.0 | 3.6 | 1.4 | 0.2 | setosa |\n",
       "| 6 | 5.4 | 3.9 | 1.7 | 0.4 | setosa |\n",
       "\n"
      ],
      "text/plain": [
       "  Sepal.Length Sepal.Width Petal.Length Petal.Width Species\n",
       "1 5.1          3.5         1.4          0.2         setosa \n",
       "2 4.9          3.0         1.4          0.2         setosa \n",
       "3 4.7          3.2         1.3          0.2         setosa \n",
       "4 4.6          3.1         1.5          0.2         setosa \n",
       "5 5.0          3.6         1.4          0.2         setosa \n",
       "6 5.4          3.9         1.7          0.4         setosa "
      ]
     },
     "metadata": {},
     "output_type": "display_data"
    }
   ],
   "source": [
    "head(iris)"
   ]
  },
  {
   "cell_type": "code",
   "execution_count": 5,
   "metadata": {
    "vscode": {
     "languageId": "r"
    }
   },
   "outputs": [
    {
     "name": "stdout",
     "output_type": "stream",
     "text": [
      "Rows: 150\n",
      "Columns: 5\n",
      "$ Sepal.Length \u001b[3m\u001b[90m<dbl>\u001b[39m\u001b[23m 5.1, 4.9, 4.7, 4.6, 5.0, 5.4, 4.6, 5.0, 4.4, 4.9, 5.4, 4.…\n",
      "$ Sepal.Width  \u001b[3m\u001b[90m<dbl>\u001b[39m\u001b[23m 3.5, 3.0, 3.2, 3.1, 3.6, 3.9, 3.4, 3.4, 2.9, 3.1, 3.7, 3.…\n",
      "$ Petal.Length \u001b[3m\u001b[90m<dbl>\u001b[39m\u001b[23m 1.4, 1.4, 1.3, 1.5, 1.4, 1.7, 1.4, 1.5, 1.4, 1.5, 1.5, 1.…\n",
      "$ Petal.Width  \u001b[3m\u001b[90m<dbl>\u001b[39m\u001b[23m 0.2, 0.2, 0.2, 0.2, 0.2, 0.4, 0.3, 0.2, 0.2, 0.1, 0.2, 0.…\n",
      "$ Species      \u001b[3m\u001b[90m<fct>\u001b[39m\u001b[23m setosa, setosa, setosa, setosa, setosa, setosa, setosa, s…\n"
     ]
    }
   ],
   "source": [
    "# Podemos usar a função glimpse() no lugar da str()\n",
    "\n",
    "glimpse(iris)"
   ]
  },
  {
   "cell_type": "code",
   "execution_count": 6,
   "metadata": {
    "vscode": {
     "languageId": "r"
    }
   },
   "outputs": [
    {
     "data": {
      "text/html": [
       "<table class=\"dataframe\">\n",
       "<caption>A data.frame: 6 × 2</caption>\n",
       "<thead>\n",
       "\t<tr><th></th><th scope=col>Petal.Length</th><th scope=col>Petal.Width</th></tr>\n",
       "\t<tr><th></th><th scope=col>&lt;dbl&gt;</th><th scope=col>&lt;dbl&gt;</th></tr>\n",
       "</thead>\n",
       "<tbody>\n",
       "\t<tr><th scope=row>1</th><td>1.4</td><td>0.2</td></tr>\n",
       "\t<tr><th scope=row>2</th><td>1.4</td><td>0.2</td></tr>\n",
       "\t<tr><th scope=row>3</th><td>1.3</td><td>0.2</td></tr>\n",
       "\t<tr><th scope=row>4</th><td>1.5</td><td>0.2</td></tr>\n",
       "\t<tr><th scope=row>5</th><td>1.4</td><td>0.2</td></tr>\n",
       "\t<tr><th scope=row>6</th><td>1.7</td><td>0.4</td></tr>\n",
       "</tbody>\n",
       "</table>\n"
      ],
      "text/latex": [
       "A data.frame: 6 × 2\n",
       "\\begin{tabular}{r|ll}\n",
       "  & Petal.Length & Petal.Width\\\\\n",
       "  & <dbl> & <dbl>\\\\\n",
       "\\hline\n",
       "\t1 & 1.4 & 0.2\\\\\n",
       "\t2 & 1.4 & 0.2\\\\\n",
       "\t3 & 1.3 & 0.2\\\\\n",
       "\t4 & 1.5 & 0.2\\\\\n",
       "\t5 & 1.4 & 0.2\\\\\n",
       "\t6 & 1.7 & 0.4\\\\\n",
       "\\end{tabular}\n"
      ],
      "text/markdown": [
       "\n",
       "A data.frame: 6 × 2\n",
       "\n",
       "| <!--/--> | Petal.Length &lt;dbl&gt; | Petal.Width &lt;dbl&gt; |\n",
       "|---|---|---|\n",
       "| 1 | 1.4 | 0.2 |\n",
       "| 2 | 1.4 | 0.2 |\n",
       "| 3 | 1.3 | 0.2 |\n",
       "| 4 | 1.5 | 0.2 |\n",
       "| 5 | 1.4 | 0.2 |\n",
       "| 6 | 1.7 | 0.4 |\n",
       "\n"
      ],
      "text/plain": [
       "  Petal.Length Petal.Width\n",
       "1 1.4          0.2        \n",
       "2 1.4          0.2        \n",
       "3 1.3          0.2        \n",
       "4 1.5          0.2        \n",
       "5 1.4          0.2        \n",
       "6 1.7          0.4        "
      ]
     },
     "metadata": {},
     "output_type": "display_data"
    }
   ],
   "source": [
    "# Temos a função select para caso precise somente de algumas colunas invés do\n",
    "# dataset inteiro\n",
    "\n",
    "# o operador pipe %>% serve para usar comandos de forma sequencial\n",
    "iris %>% select(Petal.Length, Petal.Width) %>% head"
   ]
  },
  {
   "cell_type": "code",
   "execution_count": 7,
   "metadata": {
    "vscode": {
     "languageId": "r"
    }
   },
   "outputs": [
    {
     "data": {
      "text/html": [
       "<table class=\"dataframe\">\n",
       "<caption>A data.frame: 3 × 2</caption>\n",
       "<thead>\n",
       "\t<tr><th scope=col>Species</th><th scope=col>n</th></tr>\n",
       "\t<tr><th scope=col>&lt;fct&gt;</th><th scope=col>&lt;int&gt;</th></tr>\n",
       "</thead>\n",
       "<tbody>\n",
       "\t<tr><td>setosa    </td><td>50</td></tr>\n",
       "\t<tr><td>versicolor</td><td>50</td></tr>\n",
       "\t<tr><td>virginica </td><td>50</td></tr>\n",
       "</tbody>\n",
       "</table>\n"
      ],
      "text/latex": [
       "A data.frame: 3 × 2\n",
       "\\begin{tabular}{ll}\n",
       " Species & n\\\\\n",
       " <fct> & <int>\\\\\n",
       "\\hline\n",
       "\t setosa     & 50\\\\\n",
       "\t versicolor & 50\\\\\n",
       "\t virginica  & 50\\\\\n",
       "\\end{tabular}\n"
      ],
      "text/markdown": [
       "\n",
       "A data.frame: 3 × 2\n",
       "\n",
       "| Species &lt;fct&gt; | n &lt;int&gt; |\n",
       "|---|---|\n",
       "| setosa     | 50 |\n",
       "| versicolor | 50 |\n",
       "| virginica  | 50 |\n",
       "\n"
      ],
      "text/plain": [
       "  Species    n \n",
       "1 setosa     50\n",
       "2 versicolor 50\n",
       "3 virginica  50"
      ]
     },
     "metadata": {},
     "output_type": "display_data"
    }
   ],
   "source": [
    "# usamos a função count() para contar os elementos do dataframe()\n",
    "\n",
    "count(iris, Species)"
   ]
  },
  {
   "cell_type": "code",
   "execution_count": 8,
   "metadata": {
    "vscode": {
     "languageId": "r"
    }
   },
   "outputs": [
    {
     "data": {
      "text/html": [
       "<table class=\"dataframe\">\n",
       "<caption>A data.frame: 4 × 5</caption>\n",
       "<thead>\n",
       "\t<tr><th scope=col>Sepal.Length</th><th scope=col>Sepal.Width</th><th scope=col>Petal.Length</th><th scope=col>Petal.Width</th><th scope=col>Species</th></tr>\n",
       "\t<tr><th scope=col>&lt;dbl&gt;</th><th scope=col>&lt;dbl&gt;</th><th scope=col>&lt;dbl&gt;</th><th scope=col>&lt;dbl&gt;</th><th scope=col>&lt;fct&gt;</th></tr>\n",
       "</thead>\n",
       "<tbody>\n",
       "\t<tr><td>5.7</td><td>2.8</td><td>4.5</td><td>1.3</td><td>versicolor</td></tr>\n",
       "\t<tr><td>6.1</td><td>2.9</td><td>4.7</td><td>1.4</td><td>versicolor</td></tr>\n",
       "\t<tr><td>5.2</td><td>3.5</td><td>1.5</td><td>0.2</td><td>setosa    </td></tr>\n",
       "\t<tr><td>6.1</td><td>3.0</td><td>4.6</td><td>1.4</td><td>versicolor</td></tr>\n",
       "</tbody>\n",
       "</table>\n"
      ],
      "text/latex": [
       "A data.frame: 4 × 5\n",
       "\\begin{tabular}{lllll}\n",
       " Sepal.Length & Sepal.Width & Petal.Length & Petal.Width & Species\\\\\n",
       " <dbl> & <dbl> & <dbl> & <dbl> & <fct>\\\\\n",
       "\\hline\n",
       "\t 5.7 & 2.8 & 4.5 & 1.3 & versicolor\\\\\n",
       "\t 6.1 & 2.9 & 4.7 & 1.4 & versicolor\\\\\n",
       "\t 5.2 & 3.5 & 1.5 & 0.2 & setosa    \\\\\n",
       "\t 6.1 & 3.0 & 4.6 & 1.4 & versicolor\\\\\n",
       "\\end{tabular}\n"
      ],
      "text/markdown": [
       "\n",
       "A data.frame: 4 × 5\n",
       "\n",
       "| Sepal.Length &lt;dbl&gt; | Sepal.Width &lt;dbl&gt; | Petal.Length &lt;dbl&gt; | Petal.Width &lt;dbl&gt; | Species &lt;fct&gt; |\n",
       "|---|---|---|---|---|\n",
       "| 5.7 | 2.8 | 4.5 | 1.3 | versicolor |\n",
       "| 6.1 | 2.9 | 4.7 | 1.4 | versicolor |\n",
       "| 5.2 | 3.5 | 1.5 | 0.2 | setosa     |\n",
       "| 6.1 | 3.0 | 4.6 | 1.4 | versicolor |\n",
       "\n"
      ],
      "text/plain": [
       "  Sepal.Length Sepal.Width Petal.Length Petal.Width Species   \n",
       "1 5.7          2.8         4.5          1.3         versicolor\n",
       "2 6.1          2.9         4.7          1.4         versicolor\n",
       "3 5.2          3.5         1.5          0.2         setosa    \n",
       "4 6.1          3.0         4.6          1.4         versicolor"
      ]
     },
     "metadata": {},
     "output_type": "display_data"
    }
   ],
   "source": [
    "# uma amostragem com o sample_n()\n",
    "sample_n(iris, size=4)"
   ]
  },
  {
   "cell_type": "code",
   "execution_count": 10,
   "metadata": {
    "vscode": {
     "languageId": "r"
    }
   },
   "outputs": [
    {
     "data": {
      "text/html": [
       "<table class=\"dataframe\">\n",
       "<caption>A data.frame: 6 × 5</caption>\n",
       "<thead>\n",
       "\t<tr><th></th><th scope=col>Sepal.Length</th><th scope=col>Sepal.Width</th><th scope=col>Petal.Length</th><th scope=col>Petal.Width</th><th scope=col>Species</th></tr>\n",
       "\t<tr><th></th><th scope=col>&lt;dbl&gt;</th><th scope=col>&lt;dbl&gt;</th><th scope=col>&lt;dbl&gt;</th><th scope=col>&lt;dbl&gt;</th><th scope=col>&lt;fct&gt;</th></tr>\n",
       "</thead>\n",
       "<tbody>\n",
       "\t<tr><th scope=row>1</th><td>5.1</td><td>3.5</td><td>1.4</td><td>0.2</td><td>setosa</td></tr>\n",
       "\t<tr><th scope=row>2</th><td>5.4</td><td>3.9</td><td>1.7</td><td>0.4</td><td>setosa</td></tr>\n",
       "\t<tr><th scope=row>3</th><td>5.4</td><td>3.7</td><td>1.5</td><td>0.2</td><td>setosa</td></tr>\n",
       "\t<tr><th scope=row>4</th><td>5.8</td><td>4.0</td><td>1.2</td><td>0.2</td><td>setosa</td></tr>\n",
       "\t<tr><th scope=row>5</th><td>5.7</td><td>4.4</td><td>1.5</td><td>0.4</td><td>setosa</td></tr>\n",
       "\t<tr><th scope=row>6</th><td>5.4</td><td>3.9</td><td>1.3</td><td>0.4</td><td>setosa</td></tr>\n",
       "</tbody>\n",
       "</table>\n"
      ],
      "text/latex": [
       "A data.frame: 6 × 5\n",
       "\\begin{tabular}{r|lllll}\n",
       "  & Sepal.Length & Sepal.Width & Petal.Length & Petal.Width & Species\\\\\n",
       "  & <dbl> & <dbl> & <dbl> & <dbl> & <fct>\\\\\n",
       "\\hline\n",
       "\t1 & 5.1 & 3.5 & 1.4 & 0.2 & setosa\\\\\n",
       "\t2 & 5.4 & 3.9 & 1.7 & 0.4 & setosa\\\\\n",
       "\t3 & 5.4 & 3.7 & 1.5 & 0.2 & setosa\\\\\n",
       "\t4 & 5.8 & 4.0 & 1.2 & 0.2 & setosa\\\\\n",
       "\t5 & 5.7 & 4.4 & 1.5 & 0.4 & setosa\\\\\n",
       "\t6 & 5.4 & 3.9 & 1.3 & 0.4 & setosa\\\\\n",
       "\\end{tabular}\n"
      ],
      "text/markdown": [
       "\n",
       "A data.frame: 6 × 5\n",
       "\n",
       "| <!--/--> | Sepal.Length &lt;dbl&gt; | Sepal.Width &lt;dbl&gt; | Petal.Length &lt;dbl&gt; | Petal.Width &lt;dbl&gt; | Species &lt;fct&gt; |\n",
       "|---|---|---|---|---|---|\n",
       "| 1 | 5.1 | 3.5 | 1.4 | 0.2 | setosa |\n",
       "| 2 | 5.4 | 3.9 | 1.7 | 0.4 | setosa |\n",
       "| 3 | 5.4 | 3.7 | 1.5 | 0.2 | setosa |\n",
       "| 4 | 5.8 | 4.0 | 1.2 | 0.2 | setosa |\n",
       "| 5 | 5.7 | 4.4 | 1.5 | 0.4 | setosa |\n",
       "| 6 | 5.4 | 3.9 | 1.3 | 0.4 | setosa |\n",
       "\n"
      ],
      "text/plain": [
       "  Sepal.Length Sepal.Width Petal.Length Petal.Width Species\n",
       "1 5.1          3.5         1.4          0.2         setosa \n",
       "2 5.4          3.9         1.7          0.4         setosa \n",
       "3 5.4          3.7         1.5          0.2         setosa \n",
       "4 5.8          4.0         1.2          0.2         setosa \n",
       "5 5.7          4.4         1.5          0.4         setosa \n",
       "6 5.4          3.9         1.3          0.4         setosa "
      ]
     },
     "metadata": {},
     "output_type": "display_data"
    }
   ],
   "source": [
    "# podemos fazer um filtro nos dados com filter()\n",
    "\n",
    "head(filter(iris, Sepal.Length > 5))"
   ]
  },
  {
   "cell_type": "code",
   "execution_count": 11,
   "metadata": {
    "vscode": {
     "languageId": "r"
    }
   },
   "outputs": [
    {
     "data": {
      "text/html": [
       "<table class=\"dataframe\">\n",
       "<caption>A data.frame: 6 × 5</caption>\n",
       "<thead>\n",
       "\t<tr><th></th><th scope=col>Sepal.Length</th><th scope=col>Sepal.Width</th><th scope=col>Petal.Length</th><th scope=col>Petal.Width</th><th scope=col>Species</th></tr>\n",
       "\t<tr><th></th><th scope=col>&lt;dbl&gt;</th><th scope=col>&lt;dbl&gt;</th><th scope=col>&lt;dbl&gt;</th><th scope=col>&lt;dbl&gt;</th><th scope=col>&lt;fct&gt;</th></tr>\n",
       "</thead>\n",
       "<tbody>\n",
       "\t<tr><th scope=row>1</th><td>5.0</td><td>2.0</td><td>3.5</td><td>1.0</td><td>versicolor</td></tr>\n",
       "\t<tr><th scope=row>2</th><td>6.0</td><td>2.2</td><td>4.0</td><td>1.0</td><td>versicolor</td></tr>\n",
       "\t<tr><th scope=row>3</th><td>6.2</td><td>2.2</td><td>4.5</td><td>1.5</td><td>versicolor</td></tr>\n",
       "\t<tr><th scope=row>4</th><td>6.0</td><td>2.2</td><td>5.0</td><td>1.5</td><td>virginica </td></tr>\n",
       "\t<tr><th scope=row>5</th><td>4.5</td><td>2.3</td><td>1.3</td><td>0.3</td><td>setosa    </td></tr>\n",
       "\t<tr><th scope=row>6</th><td>5.5</td><td>2.3</td><td>4.0</td><td>1.3</td><td>versicolor</td></tr>\n",
       "</tbody>\n",
       "</table>\n"
      ],
      "text/latex": [
       "A data.frame: 6 × 5\n",
       "\\begin{tabular}{r|lllll}\n",
       "  & Sepal.Length & Sepal.Width & Petal.Length & Petal.Width & Species\\\\\n",
       "  & <dbl> & <dbl> & <dbl> & <dbl> & <fct>\\\\\n",
       "\\hline\n",
       "\t1 & 5.0 & 2.0 & 3.5 & 1.0 & versicolor\\\\\n",
       "\t2 & 6.0 & 2.2 & 4.0 & 1.0 & versicolor\\\\\n",
       "\t3 & 6.2 & 2.2 & 4.5 & 1.5 & versicolor\\\\\n",
       "\t4 & 6.0 & 2.2 & 5.0 & 1.5 & virginica \\\\\n",
       "\t5 & 4.5 & 2.3 & 1.3 & 0.3 & setosa    \\\\\n",
       "\t6 & 5.5 & 2.3 & 4.0 & 1.3 & versicolor\\\\\n",
       "\\end{tabular}\n"
      ],
      "text/markdown": [
       "\n",
       "A data.frame: 6 × 5\n",
       "\n",
       "| <!--/--> | Sepal.Length &lt;dbl&gt; | Sepal.Width &lt;dbl&gt; | Petal.Length &lt;dbl&gt; | Petal.Width &lt;dbl&gt; | Species &lt;fct&gt; |\n",
       "|---|---|---|---|---|---|\n",
       "| 1 | 5.0 | 2.0 | 3.5 | 1.0 | versicolor |\n",
       "| 2 | 6.0 | 2.2 | 4.0 | 1.0 | versicolor |\n",
       "| 3 | 6.2 | 2.2 | 4.5 | 1.5 | versicolor |\n",
       "| 4 | 6.0 | 2.2 | 5.0 | 1.5 | virginica  |\n",
       "| 5 | 4.5 | 2.3 | 1.3 | 0.3 | setosa     |\n",
       "| 6 | 5.5 | 2.3 | 4.0 | 1.3 | versicolor |\n",
       "\n"
      ],
      "text/plain": [
       "  Sepal.Length Sepal.Width Petal.Length Petal.Width Species   \n",
       "1 5.0          2.0         3.5          1.0         versicolor\n",
       "2 6.0          2.2         4.0          1.0         versicolor\n",
       "3 6.2          2.2         4.5          1.5         versicolor\n",
       "4 6.0          2.2         5.0          1.5         virginica \n",
       "5 4.5          2.3         1.3          0.3         setosa    \n",
       "6 5.5          2.3         4.0          1.3         versicolor"
      ]
     },
     "metadata": {},
     "output_type": "display_data"
    }
   ],
   "source": [
    "# podemos ordenar os dados com arrange()\n",
    "\n",
    "iris %>% arrange(Sepal.Width) %>% head"
   ]
  },
  {
   "cell_type": "code",
   "execution_count": 13,
   "metadata": {
    "vscode": {
     "languageId": "r"
    }
   },
   "outputs": [
    {
     "data": {
      "text/html": [
       "<table class=\"dataframe\">\n",
       "<caption>A data.frame: 6 × 7</caption>\n",
       "<thead>\n",
       "\t<tr><th></th><th scope=col>Sepal.Length</th><th scope=col>Sepal.Width</th><th scope=col>Petal.Length</th><th scope=col>Petal.Width</th><th scope=col>Species</th><th scope=col>Petal.area</th><th scope=col>Sepal.area</th></tr>\n",
       "\t<tr><th></th><th scope=col>&lt;dbl&gt;</th><th scope=col>&lt;dbl&gt;</th><th scope=col>&lt;dbl&gt;</th><th scope=col>&lt;dbl&gt;</th><th scope=col>&lt;fct&gt;</th><th scope=col>&lt;dbl&gt;</th><th scope=col>&lt;dbl&gt;</th></tr>\n",
       "</thead>\n",
       "<tbody>\n",
       "\t<tr><th scope=row>1</th><td>5.1</td><td>3.5</td><td>1.4</td><td>0.2</td><td>setosa</td><td>0.28</td><td>17.85</td></tr>\n",
       "\t<tr><th scope=row>2</th><td>4.9</td><td>3.0</td><td>1.4</td><td>0.2</td><td>setosa</td><td>0.28</td><td>14.70</td></tr>\n",
       "\t<tr><th scope=row>3</th><td>4.7</td><td>3.2</td><td>1.3</td><td>0.2</td><td>setosa</td><td>0.26</td><td>15.04</td></tr>\n",
       "\t<tr><th scope=row>4</th><td>4.6</td><td>3.1</td><td>1.5</td><td>0.2</td><td>setosa</td><td>0.30</td><td>14.26</td></tr>\n",
       "\t<tr><th scope=row>5</th><td>5.0</td><td>3.6</td><td>1.4</td><td>0.2</td><td>setosa</td><td>0.28</td><td>18.00</td></tr>\n",
       "\t<tr><th scope=row>6</th><td>5.4</td><td>3.9</td><td>1.7</td><td>0.4</td><td>setosa</td><td>0.68</td><td>21.06</td></tr>\n",
       "</tbody>\n",
       "</table>\n"
      ],
      "text/latex": [
       "A data.frame: 6 × 7\n",
       "\\begin{tabular}{r|lllllll}\n",
       "  & Sepal.Length & Sepal.Width & Petal.Length & Petal.Width & Species & Petal.area & Sepal.area\\\\\n",
       "  & <dbl> & <dbl> & <dbl> & <dbl> & <fct> & <dbl> & <dbl>\\\\\n",
       "\\hline\n",
       "\t1 & 5.1 & 3.5 & 1.4 & 0.2 & setosa & 0.28 & 17.85\\\\\n",
       "\t2 & 4.9 & 3.0 & 1.4 & 0.2 & setosa & 0.28 & 14.70\\\\\n",
       "\t3 & 4.7 & 3.2 & 1.3 & 0.2 & setosa & 0.26 & 15.04\\\\\n",
       "\t4 & 4.6 & 3.1 & 1.5 & 0.2 & setosa & 0.30 & 14.26\\\\\n",
       "\t5 & 5.0 & 3.6 & 1.4 & 0.2 & setosa & 0.28 & 18.00\\\\\n",
       "\t6 & 5.4 & 3.9 & 1.7 & 0.4 & setosa & 0.68 & 21.06\\\\\n",
       "\\end{tabular}\n"
      ],
      "text/markdown": [
       "\n",
       "A data.frame: 6 × 7\n",
       "\n",
       "| <!--/--> | Sepal.Length &lt;dbl&gt; | Sepal.Width &lt;dbl&gt; | Petal.Length &lt;dbl&gt; | Petal.Width &lt;dbl&gt; | Species &lt;fct&gt; | Petal.area &lt;dbl&gt; | Sepal.area &lt;dbl&gt; |\n",
       "|---|---|---|---|---|---|---|---|\n",
       "| 1 | 5.1 | 3.5 | 1.4 | 0.2 | setosa | 0.28 | 17.85 |\n",
       "| 2 | 4.9 | 3.0 | 1.4 | 0.2 | setosa | 0.28 | 14.70 |\n",
       "| 3 | 4.7 | 3.2 | 1.3 | 0.2 | setosa | 0.26 | 15.04 |\n",
       "| 4 | 4.6 | 3.1 | 1.5 | 0.2 | setosa | 0.30 | 14.26 |\n",
       "| 5 | 5.0 | 3.6 | 1.4 | 0.2 | setosa | 0.28 | 18.00 |\n",
       "| 6 | 5.4 | 3.9 | 1.7 | 0.4 | setosa | 0.68 | 21.06 |\n",
       "\n"
      ],
      "text/plain": [
       "  Sepal.Length Sepal.Width Petal.Length Petal.Width Species Petal.area\n",
       "1 5.1          3.5         1.4          0.2         setosa  0.28      \n",
       "2 4.9          3.0         1.4          0.2         setosa  0.28      \n",
       "3 4.7          3.2         1.3          0.2         setosa  0.26      \n",
       "4 4.6          3.1         1.5          0.2         setosa  0.30      \n",
       "5 5.0          3.6         1.4          0.2         setosa  0.28      \n",
       "6 5.4          3.9         1.7          0.4         setosa  0.68      \n",
       "  Sepal.area\n",
       "1 17.85     \n",
       "2 14.70     \n",
       "3 15.04     \n",
       "4 14.26     \n",
       "5 18.00     \n",
       "6 21.06     "
      ]
     },
     "metadata": {},
     "output_type": "display_data"
    }
   ],
   "source": [
    "# usamos o mutate() para criar novas colunas\n",
    "\n",
    "iris %>% mutate(Petal.area = Petal.Length * Petal.Width,\n",
    "                Sepal.area = Sepal.Length * Sepal.Width) %>% head"
   ]
  },
  {
   "cell_type": "code",
   "execution_count": 14,
   "metadata": {
    "vscode": {
     "languageId": "r"
    }
   },
   "outputs": [
    {
     "data": {
      "text/html": [
       "<table class=\"dataframe\">\n",
       "<caption>A data.frame: 1 × 1</caption>\n",
       "<thead>\n",
       "\t<tr><th scope=col>mean_petal_length</th></tr>\n",
       "\t<tr><th scope=col>&lt;dbl&gt;</th></tr>\n",
       "</thead>\n",
       "<tbody>\n",
       "\t<tr><td>3.758</td></tr>\n",
       "</tbody>\n",
       "</table>\n"
      ],
      "text/latex": [
       "A data.frame: 1 × 1\n",
       "\\begin{tabular}{l}\n",
       " mean\\_petal\\_length\\\\\n",
       " <dbl>\\\\\n",
       "\\hline\n",
       "\t 3.758\\\\\n",
       "\\end{tabular}\n"
      ],
      "text/markdown": [
       "\n",
       "A data.frame: 1 × 1\n",
       "\n",
       "| mean_petal_length &lt;dbl&gt; |\n",
       "|---|\n",
       "| 3.758 |\n",
       "\n"
      ],
      "text/plain": [
       "  mean_petal_length\n",
       "1 3.758            "
      ]
     },
     "metadata": {},
     "output_type": "display_data"
    }
   ],
   "source": [
    "# summarise()\n",
    "\n",
    "iris %>% summarise(mean_petal_length = mean(Petal.Length))"
   ]
  },
  {
   "cell_type": "code",
   "execution_count": 15,
   "metadata": {
    "vscode": {
     "languageId": "r"
    }
   },
   "outputs": [],
   "source": [
    "library('tidyr')"
   ]
  },
  {
   "cell_type": "code",
   "execution_count": 44,
   "metadata": {
    "vscode": {
     "languageId": "r"
    }
   },
   "outputs": [
    {
     "data": {
      "text/html": [
       "<table class=\"dataframe\">\n",
       "<caption>A tibble: 6 × 3</caption>\n",
       "<thead>\n",
       "\t<tr><th scope=col>Species</th><th scope=col>measure</th><th scope=col>size</th></tr>\n",
       "\t<tr><th scope=col>&lt;fct&gt;</th><th scope=col>&lt;chr&gt;</th><th scope=col>&lt;dbl&gt;</th></tr>\n",
       "</thead>\n",
       "<tbody>\n",
       "\t<tr><td>setosa</td><td>Sepal.Width </td><td>3.5</td></tr>\n",
       "\t<tr><td>setosa</td><td>Sepal.Length</td><td>5.1</td></tr>\n",
       "\t<tr><td>setosa</td><td>Petal.Length</td><td>1.4</td></tr>\n",
       "\t<tr><td>setosa</td><td>Petal.Width </td><td>0.2</td></tr>\n",
       "\t<tr><td>setosa</td><td>Sepal.Width </td><td>3.0</td></tr>\n",
       "\t<tr><td>setosa</td><td>Sepal.Length</td><td>4.9</td></tr>\n",
       "</tbody>\n",
       "</table>\n"
      ],
      "text/latex": [
       "A tibble: 6 × 3\n",
       "\\begin{tabular}{lll}\n",
       " Species & measure & size\\\\\n",
       " <fct> & <chr> & <dbl>\\\\\n",
       "\\hline\n",
       "\t setosa & Sepal.Width  & 3.5\\\\\n",
       "\t setosa & Sepal.Length & 5.1\\\\\n",
       "\t setosa & Petal.Length & 1.4\\\\\n",
       "\t setosa & Petal.Width  & 0.2\\\\\n",
       "\t setosa & Sepal.Width  & 3.0\\\\\n",
       "\t setosa & Sepal.Length & 4.9\\\\\n",
       "\\end{tabular}\n"
      ],
      "text/markdown": [
       "\n",
       "A tibble: 6 × 3\n",
       "\n",
       "| Species &lt;fct&gt; | measure &lt;chr&gt; | size &lt;dbl&gt; |\n",
       "|---|---|---|\n",
       "| setosa | Sepal.Width  | 3.5 |\n",
       "| setosa | Sepal.Length | 5.1 |\n",
       "| setosa | Petal.Length | 1.4 |\n",
       "| setosa | Petal.Width  | 0.2 |\n",
       "| setosa | Sepal.Width  | 3.0 |\n",
       "| setosa | Sepal.Length | 4.9 |\n",
       "\n"
      ],
      "text/plain": [
       "  Species measure      size\n",
       "1 setosa  Sepal.Width  3.5 \n",
       "2 setosa  Sepal.Length 5.1 \n",
       "3 setosa  Petal.Length 1.4 \n",
       "4 setosa  Petal.Width  0.2 \n",
       "5 setosa  Sepal.Width  3.0 \n",
       "6 setosa  Sepal.Length 4.9 "
      ]
     },
     "metadata": {},
     "output_type": "display_data"
    }
   ],
   "source": [
    "# usamos a função pivot_longer() de forma a rearranjar os dados em um novo formato\n",
    "\n",
    "iris_new <- iris %>% pivot_longer(c(Sepal.Width\t,Sepal.Length,Petal.Length,Petal.Width),\n",
    "                                  names_to = \"measure\", values_to = \"size\")\n",
    "\n",
    "head(iris_new)"
   ]
  },
  {
   "cell_type": "code",
   "execution_count": 45,
   "metadata": {
    "vscode": {
     "languageId": "r"
    }
   },
   "outputs": [
    {
     "data": {
      "text/html": [
       "<table class=\"dataframe\">\n",
       "<caption>A tibble: 3 × 5</caption>\n",
       "<thead>\n",
       "\t<tr><th scope=col>Species</th><th scope=col>Sepal.Width</th><th scope=col>Sepal.Length</th><th scope=col>Petal.Length</th><th scope=col>Petal.Width</th></tr>\n",
       "\t<tr><th scope=col>&lt;fct&gt;</th><th scope=col>&lt;dbl&gt;</th><th scope=col>&lt;dbl&gt;</th><th scope=col>&lt;dbl&gt;</th><th scope=col>&lt;dbl&gt;</th></tr>\n",
       "</thead>\n",
       "<tbody>\n",
       "\t<tr><td>setosa    </td><td>3.428</td><td>5.006</td><td>1.462</td><td>0.246</td></tr>\n",
       "\t<tr><td>versicolor</td><td>2.770</td><td>5.936</td><td>4.260</td><td>1.326</td></tr>\n",
       "\t<tr><td>virginica </td><td>2.974</td><td>6.588</td><td>5.552</td><td>2.026</td></tr>\n",
       "</tbody>\n",
       "</table>\n"
      ],
      "text/latex": [
       "A tibble: 3 × 5\n",
       "\\begin{tabular}{lllll}\n",
       " Species & Sepal.Width & Sepal.Length & Petal.Length & Petal.Width\\\\\n",
       " <fct> & <dbl> & <dbl> & <dbl> & <dbl>\\\\\n",
       "\\hline\n",
       "\t setosa     & 3.428 & 5.006 & 1.462 & 0.246\\\\\n",
       "\t versicolor & 2.770 & 5.936 & 4.260 & 1.326\\\\\n",
       "\t virginica  & 2.974 & 6.588 & 5.552 & 2.026\\\\\n",
       "\\end{tabular}\n"
      ],
      "text/markdown": [
       "\n",
       "A tibble: 3 × 5\n",
       "\n",
       "| Species &lt;fct&gt; | Sepal.Width &lt;dbl&gt; | Sepal.Length &lt;dbl&gt; | Petal.Length &lt;dbl&gt; | Petal.Width &lt;dbl&gt; |\n",
       "|---|---|---|---|---|\n",
       "| setosa     | 3.428 | 5.006 | 1.462 | 0.246 |\n",
       "| versicolor | 2.770 | 5.936 | 4.260 | 1.326 |\n",
       "| virginica  | 2.974 | 6.588 | 5.552 | 2.026 |\n",
       "\n"
      ],
      "text/plain": [
       "  Species    Sepal.Width Sepal.Length Petal.Length Petal.Width\n",
       "1 setosa     3.428       5.006        1.462        0.246      \n",
       "2 versicolor 2.770       5.936        4.260        1.326      \n",
       "3 virginica  2.974       6.588        5.552        2.026      "
      ]
     },
     "metadata": {},
     "output_type": "display_data"
    }
   ],
   "source": [
    "# o inverso da pivot_longer() é a pivot_wider()\n",
    "\n",
    "iris_new %>% pivot_wider(id_cols= Species, \n",
    "                         names_from = measure,\n",
    "                         values_from = size,\n",
    "                         values_fn = mean) %>% head"
   ]
  },
  {
   "cell_type": "code",
   "execution_count": 46,
   "metadata": {
    "vscode": {
     "languageId": "r"
    }
   },
   "outputs": [
    {
     "name": "stderr",
     "output_type": "stream",
     "text": [
      "\n",
      "Attaching package: ‘reshape2’\n",
      "\n",
      "\n",
      "The following object is masked from ‘package:tidyr’:\n",
      "\n",
      "    smiths\n",
      "\n",
      "\n"
     ]
    }
   ],
   "source": [
    "library(reshape2)"
   ]
  },
  {
   "cell_type": "code",
   "execution_count": 52,
   "metadata": {
    "vscode": {
     "languageId": "r"
    }
   },
   "outputs": [
    {
     "data": {
      "text/html": [
       "<table class=\"dataframe\">\n",
       "<caption>A data.frame: 300 × 5</caption>\n",
       "<thead>\n",
       "\t<tr><th></th><th scope=col>Species</th><th scope=col>Parte</th><th scope=col>Comprimento</th><th scope=col>Largura</th><th scope=col>ID</th></tr>\n",
       "\t<tr><th></th><th scope=col>&lt;fct&gt;</th><th scope=col>&lt;chr&gt;</th><th scope=col>&lt;dbl&gt;</th><th scope=col>&lt;dbl&gt;</th><th scope=col>&lt;int&gt;</th></tr>\n",
       "</thead>\n",
       "<tbody>\n",
       "\t<tr><th scope=row>1.Sepal</th><td>setosa</td><td>Sepal</td><td>5.1</td><td>3.5</td><td> 1</td></tr>\n",
       "\t<tr><th scope=row>2.Sepal</th><td>setosa</td><td>Sepal</td><td>4.9</td><td>3.0</td><td> 2</td></tr>\n",
       "\t<tr><th scope=row>3.Sepal</th><td>setosa</td><td>Sepal</td><td>4.7</td><td>3.2</td><td> 3</td></tr>\n",
       "\t<tr><th scope=row>4.Sepal</th><td>setosa</td><td>Sepal</td><td>4.6</td><td>3.1</td><td> 4</td></tr>\n",
       "\t<tr><th scope=row>5.Sepal</th><td>setosa</td><td>Sepal</td><td>5.0</td><td>3.6</td><td> 5</td></tr>\n",
       "\t<tr><th scope=row>6.Sepal</th><td>setosa</td><td>Sepal</td><td>5.4</td><td>3.9</td><td> 6</td></tr>\n",
       "\t<tr><th scope=row>7.Sepal</th><td>setosa</td><td>Sepal</td><td>4.6</td><td>3.4</td><td> 7</td></tr>\n",
       "\t<tr><th scope=row>8.Sepal</th><td>setosa</td><td>Sepal</td><td>5.0</td><td>3.4</td><td> 8</td></tr>\n",
       "\t<tr><th scope=row>9.Sepal</th><td>setosa</td><td>Sepal</td><td>4.4</td><td>2.9</td><td> 9</td></tr>\n",
       "\t<tr><th scope=row>10.Sepal</th><td>setosa</td><td>Sepal</td><td>4.9</td><td>3.1</td><td>10</td></tr>\n",
       "\t<tr><th scope=row>11.Sepal</th><td>setosa</td><td>Sepal</td><td>5.4</td><td>3.7</td><td>11</td></tr>\n",
       "\t<tr><th scope=row>12.Sepal</th><td>setosa</td><td>Sepal</td><td>4.8</td><td>3.4</td><td>12</td></tr>\n",
       "\t<tr><th scope=row>13.Sepal</th><td>setosa</td><td>Sepal</td><td>4.8</td><td>3.0</td><td>13</td></tr>\n",
       "\t<tr><th scope=row>14.Sepal</th><td>setosa</td><td>Sepal</td><td>4.3</td><td>3.0</td><td>14</td></tr>\n",
       "\t<tr><th scope=row>15.Sepal</th><td>setosa</td><td>Sepal</td><td>5.8</td><td>4.0</td><td>15</td></tr>\n",
       "\t<tr><th scope=row>16.Sepal</th><td>setosa</td><td>Sepal</td><td>5.7</td><td>4.4</td><td>16</td></tr>\n",
       "\t<tr><th scope=row>17.Sepal</th><td>setosa</td><td>Sepal</td><td>5.4</td><td>3.9</td><td>17</td></tr>\n",
       "\t<tr><th scope=row>18.Sepal</th><td>setosa</td><td>Sepal</td><td>5.1</td><td>3.5</td><td>18</td></tr>\n",
       "\t<tr><th scope=row>19.Sepal</th><td>setosa</td><td>Sepal</td><td>5.7</td><td>3.8</td><td>19</td></tr>\n",
       "\t<tr><th scope=row>20.Sepal</th><td>setosa</td><td>Sepal</td><td>5.1</td><td>3.8</td><td>20</td></tr>\n",
       "\t<tr><th scope=row>21.Sepal</th><td>setosa</td><td>Sepal</td><td>5.4</td><td>3.4</td><td>21</td></tr>\n",
       "\t<tr><th scope=row>22.Sepal</th><td>setosa</td><td>Sepal</td><td>5.1</td><td>3.7</td><td>22</td></tr>\n",
       "\t<tr><th scope=row>23.Sepal</th><td>setosa</td><td>Sepal</td><td>4.6</td><td>3.6</td><td>23</td></tr>\n",
       "\t<tr><th scope=row>24.Sepal</th><td>setosa</td><td>Sepal</td><td>5.1</td><td>3.3</td><td>24</td></tr>\n",
       "\t<tr><th scope=row>25.Sepal</th><td>setosa</td><td>Sepal</td><td>4.8</td><td>3.4</td><td>25</td></tr>\n",
       "\t<tr><th scope=row>26.Sepal</th><td>setosa</td><td>Sepal</td><td>5.0</td><td>3.0</td><td>26</td></tr>\n",
       "\t<tr><th scope=row>27.Sepal</th><td>setosa</td><td>Sepal</td><td>5.0</td><td>3.4</td><td>27</td></tr>\n",
       "\t<tr><th scope=row>28.Sepal</th><td>setosa</td><td>Sepal</td><td>5.2</td><td>3.5</td><td>28</td></tr>\n",
       "\t<tr><th scope=row>29.Sepal</th><td>setosa</td><td>Sepal</td><td>5.2</td><td>3.4</td><td>29</td></tr>\n",
       "\t<tr><th scope=row>30.Sepal</th><td>setosa</td><td>Sepal</td><td>4.7</td><td>3.2</td><td>30</td></tr>\n",
       "\t<tr><th scope=row>⋮</th><td>⋮</td><td>⋮</td><td>⋮</td><td>⋮</td><td>⋮</td></tr>\n",
       "\t<tr><th scope=row>121.Petal</th><td>virginica</td><td>Petal</td><td>5.7</td><td>2.3</td><td>121</td></tr>\n",
       "\t<tr><th scope=row>122.Petal</th><td>virginica</td><td>Petal</td><td>4.9</td><td>2.0</td><td>122</td></tr>\n",
       "\t<tr><th scope=row>123.Petal</th><td>virginica</td><td>Petal</td><td>6.7</td><td>2.0</td><td>123</td></tr>\n",
       "\t<tr><th scope=row>124.Petal</th><td>virginica</td><td>Petal</td><td>4.9</td><td>1.8</td><td>124</td></tr>\n",
       "\t<tr><th scope=row>125.Petal</th><td>virginica</td><td>Petal</td><td>5.7</td><td>2.1</td><td>125</td></tr>\n",
       "\t<tr><th scope=row>126.Petal</th><td>virginica</td><td>Petal</td><td>6.0</td><td>1.8</td><td>126</td></tr>\n",
       "\t<tr><th scope=row>127.Petal</th><td>virginica</td><td>Petal</td><td>4.8</td><td>1.8</td><td>127</td></tr>\n",
       "\t<tr><th scope=row>128.Petal</th><td>virginica</td><td>Petal</td><td>4.9</td><td>1.8</td><td>128</td></tr>\n",
       "\t<tr><th scope=row>129.Petal</th><td>virginica</td><td>Petal</td><td>5.6</td><td>2.1</td><td>129</td></tr>\n",
       "\t<tr><th scope=row>130.Petal</th><td>virginica</td><td>Petal</td><td>5.8</td><td>1.6</td><td>130</td></tr>\n",
       "\t<tr><th scope=row>131.Petal</th><td>virginica</td><td>Petal</td><td>6.1</td><td>1.9</td><td>131</td></tr>\n",
       "\t<tr><th scope=row>132.Petal</th><td>virginica</td><td>Petal</td><td>6.4</td><td>2.0</td><td>132</td></tr>\n",
       "\t<tr><th scope=row>133.Petal</th><td>virginica</td><td>Petal</td><td>5.6</td><td>2.2</td><td>133</td></tr>\n",
       "\t<tr><th scope=row>134.Petal</th><td>virginica</td><td>Petal</td><td>5.1</td><td>1.5</td><td>134</td></tr>\n",
       "\t<tr><th scope=row>135.Petal</th><td>virginica</td><td>Petal</td><td>5.6</td><td>1.4</td><td>135</td></tr>\n",
       "\t<tr><th scope=row>136.Petal</th><td>virginica</td><td>Petal</td><td>6.1</td><td>2.3</td><td>136</td></tr>\n",
       "\t<tr><th scope=row>137.Petal</th><td>virginica</td><td>Petal</td><td>5.6</td><td>2.4</td><td>137</td></tr>\n",
       "\t<tr><th scope=row>138.Petal</th><td>virginica</td><td>Petal</td><td>5.5</td><td>1.8</td><td>138</td></tr>\n",
       "\t<tr><th scope=row>139.Petal</th><td>virginica</td><td>Petal</td><td>4.8</td><td>1.8</td><td>139</td></tr>\n",
       "\t<tr><th scope=row>140.Petal</th><td>virginica</td><td>Petal</td><td>5.4</td><td>2.1</td><td>140</td></tr>\n",
       "\t<tr><th scope=row>141.Petal</th><td>virginica</td><td>Petal</td><td>5.6</td><td>2.4</td><td>141</td></tr>\n",
       "\t<tr><th scope=row>142.Petal</th><td>virginica</td><td>Petal</td><td>5.1</td><td>2.3</td><td>142</td></tr>\n",
       "\t<tr><th scope=row>143.Petal</th><td>virginica</td><td>Petal</td><td>5.1</td><td>1.9</td><td>143</td></tr>\n",
       "\t<tr><th scope=row>144.Petal</th><td>virginica</td><td>Petal</td><td>5.9</td><td>2.3</td><td>144</td></tr>\n",
       "\t<tr><th scope=row>145.Petal</th><td>virginica</td><td>Petal</td><td>5.7</td><td>2.5</td><td>145</td></tr>\n",
       "\t<tr><th scope=row>146.Petal</th><td>virginica</td><td>Petal</td><td>5.2</td><td>2.3</td><td>146</td></tr>\n",
       "\t<tr><th scope=row>147.Petal</th><td>virginica</td><td>Petal</td><td>5.0</td><td>1.9</td><td>147</td></tr>\n",
       "\t<tr><th scope=row>148.Petal</th><td>virginica</td><td>Petal</td><td>5.2</td><td>2.0</td><td>148</td></tr>\n",
       "\t<tr><th scope=row>149.Petal</th><td>virginica</td><td>Petal</td><td>5.4</td><td>2.3</td><td>149</td></tr>\n",
       "\t<tr><th scope=row>150.Petal</th><td>virginica</td><td>Petal</td><td>5.1</td><td>1.8</td><td>150</td></tr>\n",
       "</tbody>\n",
       "</table>\n"
      ],
      "text/latex": [
       "A data.frame: 300 × 5\n",
       "\\begin{tabular}{r|lllll}\n",
       "  & Species & Parte & Comprimento & Largura & ID\\\\\n",
       "  & <fct> & <chr> & <dbl> & <dbl> & <int>\\\\\n",
       "\\hline\n",
       "\t1.Sepal & setosa & Sepal & 5.1 & 3.5 &  1\\\\\n",
       "\t2.Sepal & setosa & Sepal & 4.9 & 3.0 &  2\\\\\n",
       "\t3.Sepal & setosa & Sepal & 4.7 & 3.2 &  3\\\\\n",
       "\t4.Sepal & setosa & Sepal & 4.6 & 3.1 &  4\\\\\n",
       "\t5.Sepal & setosa & Sepal & 5.0 & 3.6 &  5\\\\\n",
       "\t6.Sepal & setosa & Sepal & 5.4 & 3.9 &  6\\\\\n",
       "\t7.Sepal & setosa & Sepal & 4.6 & 3.4 &  7\\\\\n",
       "\t8.Sepal & setosa & Sepal & 5.0 & 3.4 &  8\\\\\n",
       "\t9.Sepal & setosa & Sepal & 4.4 & 2.9 &  9\\\\\n",
       "\t10.Sepal & setosa & Sepal & 4.9 & 3.1 & 10\\\\\n",
       "\t11.Sepal & setosa & Sepal & 5.4 & 3.7 & 11\\\\\n",
       "\t12.Sepal & setosa & Sepal & 4.8 & 3.4 & 12\\\\\n",
       "\t13.Sepal & setosa & Sepal & 4.8 & 3.0 & 13\\\\\n",
       "\t14.Sepal & setosa & Sepal & 4.3 & 3.0 & 14\\\\\n",
       "\t15.Sepal & setosa & Sepal & 5.8 & 4.0 & 15\\\\\n",
       "\t16.Sepal & setosa & Sepal & 5.7 & 4.4 & 16\\\\\n",
       "\t17.Sepal & setosa & Sepal & 5.4 & 3.9 & 17\\\\\n",
       "\t18.Sepal & setosa & Sepal & 5.1 & 3.5 & 18\\\\\n",
       "\t19.Sepal & setosa & Sepal & 5.7 & 3.8 & 19\\\\\n",
       "\t20.Sepal & setosa & Sepal & 5.1 & 3.8 & 20\\\\\n",
       "\t21.Sepal & setosa & Sepal & 5.4 & 3.4 & 21\\\\\n",
       "\t22.Sepal & setosa & Sepal & 5.1 & 3.7 & 22\\\\\n",
       "\t23.Sepal & setosa & Sepal & 4.6 & 3.6 & 23\\\\\n",
       "\t24.Sepal & setosa & Sepal & 5.1 & 3.3 & 24\\\\\n",
       "\t25.Sepal & setosa & Sepal & 4.8 & 3.4 & 25\\\\\n",
       "\t26.Sepal & setosa & Sepal & 5.0 & 3.0 & 26\\\\\n",
       "\t27.Sepal & setosa & Sepal & 5.0 & 3.4 & 27\\\\\n",
       "\t28.Sepal & setosa & Sepal & 5.2 & 3.5 & 28\\\\\n",
       "\t29.Sepal & setosa & Sepal & 5.2 & 3.4 & 29\\\\\n",
       "\t30.Sepal & setosa & Sepal & 4.7 & 3.2 & 30\\\\\n",
       "\t⋮ & ⋮ & ⋮ & ⋮ & ⋮ & ⋮\\\\\n",
       "\t121.Petal & virginica & Petal & 5.7 & 2.3 & 121\\\\\n",
       "\t122.Petal & virginica & Petal & 4.9 & 2.0 & 122\\\\\n",
       "\t123.Petal & virginica & Petal & 6.7 & 2.0 & 123\\\\\n",
       "\t124.Petal & virginica & Petal & 4.9 & 1.8 & 124\\\\\n",
       "\t125.Petal & virginica & Petal & 5.7 & 2.1 & 125\\\\\n",
       "\t126.Petal & virginica & Petal & 6.0 & 1.8 & 126\\\\\n",
       "\t127.Petal & virginica & Petal & 4.8 & 1.8 & 127\\\\\n",
       "\t128.Petal & virginica & Petal & 4.9 & 1.8 & 128\\\\\n",
       "\t129.Petal & virginica & Petal & 5.6 & 2.1 & 129\\\\\n",
       "\t130.Petal & virginica & Petal & 5.8 & 1.6 & 130\\\\\n",
       "\t131.Petal & virginica & Petal & 6.1 & 1.9 & 131\\\\\n",
       "\t132.Petal & virginica & Petal & 6.4 & 2.0 & 132\\\\\n",
       "\t133.Petal & virginica & Petal & 5.6 & 2.2 & 133\\\\\n",
       "\t134.Petal & virginica & Petal & 5.1 & 1.5 & 134\\\\\n",
       "\t135.Petal & virginica & Petal & 5.6 & 1.4 & 135\\\\\n",
       "\t136.Petal & virginica & Petal & 6.1 & 2.3 & 136\\\\\n",
       "\t137.Petal & virginica & Petal & 5.6 & 2.4 & 137\\\\\n",
       "\t138.Petal & virginica & Petal & 5.5 & 1.8 & 138\\\\\n",
       "\t139.Petal & virginica & Petal & 4.8 & 1.8 & 139\\\\\n",
       "\t140.Petal & virginica & Petal & 5.4 & 2.1 & 140\\\\\n",
       "\t141.Petal & virginica & Petal & 5.6 & 2.4 & 141\\\\\n",
       "\t142.Petal & virginica & Petal & 5.1 & 2.3 & 142\\\\\n",
       "\t143.Petal & virginica & Petal & 5.1 & 1.9 & 143\\\\\n",
       "\t144.Petal & virginica & Petal & 5.9 & 2.3 & 144\\\\\n",
       "\t145.Petal & virginica & Petal & 5.7 & 2.5 & 145\\\\\n",
       "\t146.Petal & virginica & Petal & 5.2 & 2.3 & 146\\\\\n",
       "\t147.Petal & virginica & Petal & 5.0 & 1.9 & 147\\\\\n",
       "\t148.Petal & virginica & Petal & 5.2 & 2.0 & 148\\\\\n",
       "\t149.Petal & virginica & Petal & 5.4 & 2.3 & 149\\\\\n",
       "\t150.Petal & virginica & Petal & 5.1 & 1.8 & 150\\\\\n",
       "\\end{tabular}\n"
      ],
      "text/markdown": [
       "\n",
       "A data.frame: 300 × 5\n",
       "\n",
       "| <!--/--> | Species &lt;fct&gt; | Parte &lt;chr&gt; | Comprimento &lt;dbl&gt; | Largura &lt;dbl&gt; | ID &lt;int&gt; |\n",
       "|---|---|---|---|---|---|\n",
       "| 1.Sepal | setosa | Sepal | 5.1 | 3.5 |  1 |\n",
       "| 2.Sepal | setosa | Sepal | 4.9 | 3.0 |  2 |\n",
       "| 3.Sepal | setosa | Sepal | 4.7 | 3.2 |  3 |\n",
       "| 4.Sepal | setosa | Sepal | 4.6 | 3.1 |  4 |\n",
       "| 5.Sepal | setosa | Sepal | 5.0 | 3.6 |  5 |\n",
       "| 6.Sepal | setosa | Sepal | 5.4 | 3.9 |  6 |\n",
       "| 7.Sepal | setosa | Sepal | 4.6 | 3.4 |  7 |\n",
       "| 8.Sepal | setosa | Sepal | 5.0 | 3.4 |  8 |\n",
       "| 9.Sepal | setosa | Sepal | 4.4 | 2.9 |  9 |\n",
       "| 10.Sepal | setosa | Sepal | 4.9 | 3.1 | 10 |\n",
       "| 11.Sepal | setosa | Sepal | 5.4 | 3.7 | 11 |\n",
       "| 12.Sepal | setosa | Sepal | 4.8 | 3.4 | 12 |\n",
       "| 13.Sepal | setosa | Sepal | 4.8 | 3.0 | 13 |\n",
       "| 14.Sepal | setosa | Sepal | 4.3 | 3.0 | 14 |\n",
       "| 15.Sepal | setosa | Sepal | 5.8 | 4.0 | 15 |\n",
       "| 16.Sepal | setosa | Sepal | 5.7 | 4.4 | 16 |\n",
       "| 17.Sepal | setosa | Sepal | 5.4 | 3.9 | 17 |\n",
       "| 18.Sepal | setosa | Sepal | 5.1 | 3.5 | 18 |\n",
       "| 19.Sepal | setosa | Sepal | 5.7 | 3.8 | 19 |\n",
       "| 20.Sepal | setosa | Sepal | 5.1 | 3.8 | 20 |\n",
       "| 21.Sepal | setosa | Sepal | 5.4 | 3.4 | 21 |\n",
       "| 22.Sepal | setosa | Sepal | 5.1 | 3.7 | 22 |\n",
       "| 23.Sepal | setosa | Sepal | 4.6 | 3.6 | 23 |\n",
       "| 24.Sepal | setosa | Sepal | 5.1 | 3.3 | 24 |\n",
       "| 25.Sepal | setosa | Sepal | 4.8 | 3.4 | 25 |\n",
       "| 26.Sepal | setosa | Sepal | 5.0 | 3.0 | 26 |\n",
       "| 27.Sepal | setosa | Sepal | 5.0 | 3.4 | 27 |\n",
       "| 28.Sepal | setosa | Sepal | 5.2 | 3.5 | 28 |\n",
       "| 29.Sepal | setosa | Sepal | 5.2 | 3.4 | 29 |\n",
       "| 30.Sepal | setosa | Sepal | 4.7 | 3.2 | 30 |\n",
       "| ⋮ | ⋮ | ⋮ | ⋮ | ⋮ | ⋮ |\n",
       "| 121.Petal | virginica | Petal | 5.7 | 2.3 | 121 |\n",
       "| 122.Petal | virginica | Petal | 4.9 | 2.0 | 122 |\n",
       "| 123.Petal | virginica | Petal | 6.7 | 2.0 | 123 |\n",
       "| 124.Petal | virginica | Petal | 4.9 | 1.8 | 124 |\n",
       "| 125.Petal | virginica | Petal | 5.7 | 2.1 | 125 |\n",
       "| 126.Petal | virginica | Petal | 6.0 | 1.8 | 126 |\n",
       "| 127.Petal | virginica | Petal | 4.8 | 1.8 | 127 |\n",
       "| 128.Petal | virginica | Petal | 4.9 | 1.8 | 128 |\n",
       "| 129.Petal | virginica | Petal | 5.6 | 2.1 | 129 |\n",
       "| 130.Petal | virginica | Petal | 5.8 | 1.6 | 130 |\n",
       "| 131.Petal | virginica | Petal | 6.1 | 1.9 | 131 |\n",
       "| 132.Petal | virginica | Petal | 6.4 | 2.0 | 132 |\n",
       "| 133.Petal | virginica | Petal | 5.6 | 2.2 | 133 |\n",
       "| 134.Petal | virginica | Petal | 5.1 | 1.5 | 134 |\n",
       "| 135.Petal | virginica | Petal | 5.6 | 1.4 | 135 |\n",
       "| 136.Petal | virginica | Petal | 6.1 | 2.3 | 136 |\n",
       "| 137.Petal | virginica | Petal | 5.6 | 2.4 | 137 |\n",
       "| 138.Petal | virginica | Petal | 5.5 | 1.8 | 138 |\n",
       "| 139.Petal | virginica | Petal | 4.8 | 1.8 | 139 |\n",
       "| 140.Petal | virginica | Petal | 5.4 | 2.1 | 140 |\n",
       "| 141.Petal | virginica | Petal | 5.6 | 2.4 | 141 |\n",
       "| 142.Petal | virginica | Petal | 5.1 | 2.3 | 142 |\n",
       "| 143.Petal | virginica | Petal | 5.1 | 1.9 | 143 |\n",
       "| 144.Petal | virginica | Petal | 5.9 | 2.3 | 144 |\n",
       "| 145.Petal | virginica | Petal | 5.7 | 2.5 | 145 |\n",
       "| 146.Petal | virginica | Petal | 5.2 | 2.3 | 146 |\n",
       "| 147.Petal | virginica | Petal | 5.0 | 1.9 | 147 |\n",
       "| 148.Petal | virginica | Petal | 5.2 | 2.0 | 148 |\n",
       "| 149.Petal | virginica | Petal | 5.4 | 2.3 | 149 |\n",
       "| 150.Petal | virginica | Petal | 5.1 | 1.8 | 150 |\n",
       "\n"
      ],
      "text/plain": [
       "          Species   Parte Comprimento Largura ID \n",
       "1.Sepal   setosa    Sepal 5.1         3.5      1 \n",
       "2.Sepal   setosa    Sepal 4.9         3.0      2 \n",
       "3.Sepal   setosa    Sepal 4.7         3.2      3 \n",
       "4.Sepal   setosa    Sepal 4.6         3.1      4 \n",
       "5.Sepal   setosa    Sepal 5.0         3.6      5 \n",
       "6.Sepal   setosa    Sepal 5.4         3.9      6 \n",
       "7.Sepal   setosa    Sepal 4.6         3.4      7 \n",
       "8.Sepal   setosa    Sepal 5.0         3.4      8 \n",
       "9.Sepal   setosa    Sepal 4.4         2.9      9 \n",
       "10.Sepal  setosa    Sepal 4.9         3.1     10 \n",
       "11.Sepal  setosa    Sepal 5.4         3.7     11 \n",
       "12.Sepal  setosa    Sepal 4.8         3.4     12 \n",
       "13.Sepal  setosa    Sepal 4.8         3.0     13 \n",
       "14.Sepal  setosa    Sepal 4.3         3.0     14 \n",
       "15.Sepal  setosa    Sepal 5.8         4.0     15 \n",
       "16.Sepal  setosa    Sepal 5.7         4.4     16 \n",
       "17.Sepal  setosa    Sepal 5.4         3.9     17 \n",
       "18.Sepal  setosa    Sepal 5.1         3.5     18 \n",
       "19.Sepal  setosa    Sepal 5.7         3.8     19 \n",
       "20.Sepal  setosa    Sepal 5.1         3.8     20 \n",
       "21.Sepal  setosa    Sepal 5.4         3.4     21 \n",
       "22.Sepal  setosa    Sepal 5.1         3.7     22 \n",
       "23.Sepal  setosa    Sepal 4.6         3.6     23 \n",
       "24.Sepal  setosa    Sepal 5.1         3.3     24 \n",
       "25.Sepal  setosa    Sepal 4.8         3.4     25 \n",
       "26.Sepal  setosa    Sepal 5.0         3.0     26 \n",
       "27.Sepal  setosa    Sepal 5.0         3.4     27 \n",
       "28.Sepal  setosa    Sepal 5.2         3.5     28 \n",
       "29.Sepal  setosa    Sepal 5.2         3.4     29 \n",
       "30.Sepal  setosa    Sepal 4.7         3.2     30 \n",
       "⋮         ⋮         ⋮     ⋮           ⋮       ⋮  \n",
       "121.Petal virginica Petal 5.7         2.3     121\n",
       "122.Petal virginica Petal 4.9         2.0     122\n",
       "123.Petal virginica Petal 6.7         2.0     123\n",
       "124.Petal virginica Petal 4.9         1.8     124\n",
       "125.Petal virginica Petal 5.7         2.1     125\n",
       "126.Petal virginica Petal 6.0         1.8     126\n",
       "127.Petal virginica Petal 4.8         1.8     127\n",
       "128.Petal virginica Petal 4.9         1.8     128\n",
       "129.Petal virginica Petal 5.6         2.1     129\n",
       "130.Petal virginica Petal 5.8         1.6     130\n",
       "131.Petal virginica Petal 6.1         1.9     131\n",
       "132.Petal virginica Petal 6.4         2.0     132\n",
       "133.Petal virginica Petal 5.6         2.2     133\n",
       "134.Petal virginica Petal 5.1         1.5     134\n",
       "135.Petal virginica Petal 5.6         1.4     135\n",
       "136.Petal virginica Petal 6.1         2.3     136\n",
       "137.Petal virginica Petal 5.6         2.4     137\n",
       "138.Petal virginica Petal 5.5         1.8     138\n",
       "139.Petal virginica Petal 4.8         1.8     139\n",
       "140.Petal virginica Petal 5.4         2.1     140\n",
       "141.Petal virginica Petal 5.6         2.4     141\n",
       "142.Petal virginica Petal 5.1         2.3     142\n",
       "143.Petal virginica Petal 5.1         1.9     143\n",
       "144.Petal virginica Petal 5.9         2.3     144\n",
       "145.Petal virginica Petal 5.7         2.5     145\n",
       "146.Petal virginica Petal 5.2         2.3     146\n",
       "147.Petal virginica Petal 5.0         1.9     147\n",
       "148.Petal virginica Petal 5.2         2.0     148\n",
       "149.Petal virginica Petal 5.4         2.3     149\n",
       "150.Petal virginica Petal 5.1         1.8     150"
      ]
     },
     "metadata": {},
     "output_type": "display_data"
    }
   ],
   "source": [
    "reshape(iris,\n",
    "        varying = list(c(1,3),c(2,4)),\n",
    "        v.names = c(\"Comprimento\", \"Largura\"), \n",
    "        timevar = \"Parte\", \n",
    "        times = c(\"Sepal\", \"Petal\"),\n",
    "        idvar = \"ID\", \n",
    "        direction = \"long\")"
   ]
  },
  {
   "attachments": {},
   "cell_type": "markdown",
   "metadata": {},
   "source": [
    "## Machine Learning"
   ]
  },
  {
   "attachments": {},
   "cell_type": "markdown",
   "metadata": {},
   "source": [
    "### Regressão Linear"
   ]
  },
  {
   "attachments": {},
   "cell_type": "markdown",
   "metadata": {},
   "source": [
    "Regressão linear é um algoritmo supervisionado de machine learning usado para estimar o valor de algo baseado em uma série de outros dados históricos, portanto olhando para o passado você pode “prever” o futuro."
   ]
  },
  {
   "cell_type": "code",
   "execution_count": 53,
   "metadata": {
    "vscode": {
     "languageId": "r"
    }
   },
   "outputs": [],
   "source": [
    "# Criando a massa de dados (apesar de aleatória, y possui \n",
    "# uma relação com os dados de x)\n",
    "x <- seq(0, 100)\n",
    "y <- 2 * x + 35\n",
    "\n",
    "# Gerando uma distribuição normal\n",
    "y1 <- y + rnorm(101, 0, 50)"
   ]
  },
  {
   "cell_type": "code",
   "execution_count": 54,
   "metadata": {
    "vscode": {
     "languageId": "r"
    }
   },
   "outputs": [
    {
     "data": {
      "image/png": "[encoded data removed]",
      "text/plain": [
       "plot without title"
      ]
     },
     "metadata": {
      "image/png": {
       "height": 420,
       "width": 420
      }
     },
     "output_type": "display_data"
    }
   ],
   "source": [
    "plot(x, y1, pch = 19, xlab = 'X', ylab = 'Y')"
   ]
  },
  {
   "cell_type": "code",
   "execution_count": 55,
   "metadata": {
    "vscode": {
     "languageId": "r"
    }
   },
   "outputs": [
    {
     "data": {
      "text/plain": [
       "\n",
       "Call:\n",
       "lm(formula = y1 ~ x)\n",
       "\n",
       "Coefficients:\n",
       "(Intercept)            x  \n",
       "     41.303        1.762  \n"
      ]
     },
     "metadata": {},
     "output_type": "display_data"
    },
    {
     "data": {
      "text/html": [
       "'lm'"
      ],
      "text/latex": [
       "'lm'"
      ],
      "text/markdown": [
       "'lm'"
      ],
      "text/plain": [
       "[1] \"lm\""
      ]
     },
     "metadata": {},
     "output_type": "display_data"
    }
   ],
   "source": [
    "modelo <- lm(y1 ~ x)\n",
    "modelo\n",
    "class(modelo)"
   ]
  },
  {
   "cell_type": "code",
   "execution_count": 59,
   "metadata": {
    "vscode": {
     "languageId": "r"
    }
   },
   "outputs": [
    {
     "data": {
      "image/png": "[encoded data removed]",
      "text/plain": [
       "plot without title"
      ]
     },
     "metadata": {
      "image/png": {
       "height": 420,
       "width": 420
      }
     },
     "output_type": "display_data"
    }
   ],
   "source": [
    "# Capture os coeficentes\n",
    "a <- modelo$coefficients[1]\n",
    "b <- modelo$coefficients[2]\n",
    "\n",
    "# Fórmula de Regressão\n",
    "y2 <- a + b*x\n",
    "\n",
    "plot(x, y1, pch = 19, xlab = 'X', ylab = 'Y')\n",
    "\n",
    "# Visualize a linha de regressão\n",
    "lines(x, y2, lwd = 2)"
   ]
  },
  {
   "cell_type": "code",
   "execution_count": 69,
   "metadata": {
    "vscode": {
     "languageId": "r"
    }
   },
   "outputs": [],
   "source": [
    "# Carregando os pacotes\n",
    "library(caret)\n",
    "library(datasets)"
   ]
  },
  {
   "cell_type": "code",
   "execution_count": 70,
   "metadata": {
    "vscode": {
     "languageId": "r"
    }
   },
   "outputs": [
    {
     "data": {
      "text/html": [
       "<table class=\"dataframe\">\n",
       "<caption>A data.frame: 32 × 11</caption>\n",
       "<thead>\n",
       "\t<tr><th></th><th scope=col>mpg</th><th scope=col>cyl</th><th scope=col>disp</th><th scope=col>hp</th><th scope=col>drat</th><th scope=col>wt</th><th scope=col>qsec</th><th scope=col>vs</th><th scope=col>am</th><th scope=col>gear</th><th scope=col>carb</th></tr>\n",
       "\t<tr><th></th><th scope=col>&lt;dbl&gt;</th><th scope=col>&lt;dbl&gt;</th><th scope=col>&lt;dbl&gt;</th><th scope=col>&lt;dbl&gt;</th><th scope=col>&lt;dbl&gt;</th><th scope=col>&lt;dbl&gt;</th><th scope=col>&lt;dbl&gt;</th><th scope=col>&lt;dbl&gt;</th><th scope=col>&lt;dbl&gt;</th><th scope=col>&lt;dbl&gt;</th><th scope=col>&lt;dbl&gt;</th></tr>\n",
       "</thead>\n",
       "<tbody>\n",
       "\t<tr><th scope=row>Mazda RX4</th><td>21.0</td><td>6</td><td>160.0</td><td>110</td><td>3.90</td><td>2.620</td><td>16.46</td><td>0</td><td>1</td><td>4</td><td>4</td></tr>\n",
       "\t<tr><th scope=row>Mazda RX4 Wag</th><td>21.0</td><td>6</td><td>160.0</td><td>110</td><td>3.90</td><td>2.875</td><td>17.02</td><td>0</td><td>1</td><td>4</td><td>4</td></tr>\n",
       "\t<tr><th scope=row>Datsun 710</th><td>22.8</td><td>4</td><td>108.0</td><td> 93</td><td>3.85</td><td>2.320</td><td>18.61</td><td>1</td><td>1</td><td>4</td><td>1</td></tr>\n",
       "\t<tr><th scope=row>Hornet 4 Drive</th><td>21.4</td><td>6</td><td>258.0</td><td>110</td><td>3.08</td><td>3.215</td><td>19.44</td><td>1</td><td>0</td><td>3</td><td>1</td></tr>\n",
       "\t<tr><th scope=row>Hornet Sportabout</th><td>18.7</td><td>8</td><td>360.0</td><td>175</td><td>3.15</td><td>3.440</td><td>17.02</td><td>0</td><td>0</td><td>3</td><td>2</td></tr>\n",
       "\t<tr><th scope=row>Valiant</th><td>18.1</td><td>6</td><td>225.0</td><td>105</td><td>2.76</td><td>3.460</td><td>20.22</td><td>1</td><td>0</td><td>3</td><td>1</td></tr>\n",
       "\t<tr><th scope=row>Duster 360</th><td>14.3</td><td>8</td><td>360.0</td><td>245</td><td>3.21</td><td>3.570</td><td>15.84</td><td>0</td><td>0</td><td>3</td><td>4</td></tr>\n",
       "\t<tr><th scope=row>Merc 240D</th><td>24.4</td><td>4</td><td>146.7</td><td> 62</td><td>3.69</td><td>3.190</td><td>20.00</td><td>1</td><td>0</td><td>4</td><td>2</td></tr>\n",
       "\t<tr><th scope=row>Merc 230</th><td>22.8</td><td>4</td><td>140.8</td><td> 95</td><td>3.92</td><td>3.150</td><td>22.90</td><td>1</td><td>0</td><td>4</td><td>2</td></tr>\n",
       "\t<tr><th scope=row>Merc 280</th><td>19.2</td><td>6</td><td>167.6</td><td>123</td><td>3.92</td><td>3.440</td><td>18.30</td><td>1</td><td>0</td><td>4</td><td>4</td></tr>\n",
       "\t<tr><th scope=row>Merc 280C</th><td>17.8</td><td>6</td><td>167.6</td><td>123</td><td>3.92</td><td>3.440</td><td>18.90</td><td>1</td><td>0</td><td>4</td><td>4</td></tr>\n",
       "\t<tr><th scope=row>Merc 450SE</th><td>16.4</td><td>8</td><td>275.8</td><td>180</td><td>3.07</td><td>4.070</td><td>17.40</td><td>0</td><td>0</td><td>3</td><td>3</td></tr>\n",
       "\t<tr><th scope=row>Merc 450SL</th><td>17.3</td><td>8</td><td>275.8</td><td>180</td><td>3.07</td><td>3.730</td><td>17.60</td><td>0</td><td>0</td><td>3</td><td>3</td></tr>\n",
       "\t<tr><th scope=row>Merc 450SLC</th><td>15.2</td><td>8</td><td>275.8</td><td>180</td><td>3.07</td><td>3.780</td><td>18.00</td><td>0</td><td>0</td><td>3</td><td>3</td></tr>\n",
       "\t<tr><th scope=row>Cadillac Fleetwood</th><td>10.4</td><td>8</td><td>472.0</td><td>205</td><td>2.93</td><td>5.250</td><td>17.98</td><td>0</td><td>0</td><td>3</td><td>4</td></tr>\n",
       "\t<tr><th scope=row>Lincoln Continental</th><td>10.4</td><td>8</td><td>460.0</td><td>215</td><td>3.00</td><td>5.424</td><td>17.82</td><td>0</td><td>0</td><td>3</td><td>4</td></tr>\n",
       "\t<tr><th scope=row>Chrysler Imperial</th><td>14.7</td><td>8</td><td>440.0</td><td>230</td><td>3.23</td><td>5.345</td><td>17.42</td><td>0</td><td>0</td><td>3</td><td>4</td></tr>\n",
       "\t<tr><th scope=row>Fiat 128</th><td>32.4</td><td>4</td><td> 78.7</td><td> 66</td><td>4.08</td><td>2.200</td><td>19.47</td><td>1</td><td>1</td><td>4</td><td>1</td></tr>\n",
       "\t<tr><th scope=row>Honda Civic</th><td>30.4</td><td>4</td><td> 75.7</td><td> 52</td><td>4.93</td><td>1.615</td><td>18.52</td><td>1</td><td>1</td><td>4</td><td>2</td></tr>\n",
       "\t<tr><th scope=row>Toyota Corolla</th><td>33.9</td><td>4</td><td> 71.1</td><td> 65</td><td>4.22</td><td>1.835</td><td>19.90</td><td>1</td><td>1</td><td>4</td><td>1</td></tr>\n",
       "\t<tr><th scope=row>Toyota Corona</th><td>21.5</td><td>4</td><td>120.1</td><td> 97</td><td>3.70</td><td>2.465</td><td>20.01</td><td>1</td><td>0</td><td>3</td><td>1</td></tr>\n",
       "\t<tr><th scope=row>Dodge Challenger</th><td>15.5</td><td>8</td><td>318.0</td><td>150</td><td>2.76</td><td>3.520</td><td>16.87</td><td>0</td><td>0</td><td>3</td><td>2</td></tr>\n",
       "\t<tr><th scope=row>AMC Javelin</th><td>15.2</td><td>8</td><td>304.0</td><td>150</td><td>3.15</td><td>3.435</td><td>17.30</td><td>0</td><td>0</td><td>3</td><td>2</td></tr>\n",
       "\t<tr><th scope=row>Camaro Z28</th><td>13.3</td><td>8</td><td>350.0</td><td>245</td><td>3.73</td><td>3.840</td><td>15.41</td><td>0</td><td>0</td><td>3</td><td>4</td></tr>\n",
       "\t<tr><th scope=row>Pontiac Firebird</th><td>19.2</td><td>8</td><td>400.0</td><td>175</td><td>3.08</td><td>3.845</td><td>17.05</td><td>0</td><td>0</td><td>3</td><td>2</td></tr>\n",
       "\t<tr><th scope=row>Fiat X1-9</th><td>27.3</td><td>4</td><td> 79.0</td><td> 66</td><td>4.08</td><td>1.935</td><td>18.90</td><td>1</td><td>1</td><td>4</td><td>1</td></tr>\n",
       "\t<tr><th scope=row>Porsche 914-2</th><td>26.0</td><td>4</td><td>120.3</td><td> 91</td><td>4.43</td><td>2.140</td><td>16.70</td><td>0</td><td>1</td><td>5</td><td>2</td></tr>\n",
       "\t<tr><th scope=row>Lotus Europa</th><td>30.4</td><td>4</td><td> 95.1</td><td>113</td><td>3.77</td><td>1.513</td><td>16.90</td><td>1</td><td>1</td><td>5</td><td>2</td></tr>\n",
       "\t<tr><th scope=row>Ford Pantera L</th><td>15.8</td><td>8</td><td>351.0</td><td>264</td><td>4.22</td><td>3.170</td><td>14.50</td><td>0</td><td>1</td><td>5</td><td>4</td></tr>\n",
       "\t<tr><th scope=row>Ferrari Dino</th><td>19.7</td><td>6</td><td>145.0</td><td>175</td><td>3.62</td><td>2.770</td><td>15.50</td><td>0</td><td>1</td><td>5</td><td>6</td></tr>\n",
       "\t<tr><th scope=row>Maserati Bora</th><td>15.0</td><td>8</td><td>301.0</td><td>335</td><td>3.54</td><td>3.570</td><td>14.60</td><td>0</td><td>1</td><td>5</td><td>8</td></tr>\n",
       "\t<tr><th scope=row>Volvo 142E</th><td>21.4</td><td>4</td><td>121.0</td><td>109</td><td>4.11</td><td>2.780</td><td>18.60</td><td>1</td><td>1</td><td>4</td><td>2</td></tr>\n",
       "</tbody>\n",
       "</table>\n"
      ],
      "text/latex": [
       "A data.frame: 32 × 11\n",
       "\\begin{tabular}{r|lllllllllll}\n",
       "  & mpg & cyl & disp & hp & drat & wt & qsec & vs & am & gear & carb\\\\\n",
       "  & <dbl> & <dbl> & <dbl> & <dbl> & <dbl> & <dbl> & <dbl> & <dbl> & <dbl> & <dbl> & <dbl>\\\\\n",
       "\\hline\n",
       "\tMazda RX4 & 21.0 & 6 & 160.0 & 110 & 3.90 & 2.620 & 16.46 & 0 & 1 & 4 & 4\\\\\n",
       "\tMazda RX4 Wag & 21.0 & 6 & 160.0 & 110 & 3.90 & 2.875 & 17.02 & 0 & 1 & 4 & 4\\\\\n",
       "\tDatsun 710 & 22.8 & 4 & 108.0 &  93 & 3.85 & 2.320 & 18.61 & 1 & 1 & 4 & 1\\\\\n",
       "\tHornet 4 Drive & 21.4 & 6 & 258.0 & 110 & 3.08 & 3.215 & 19.44 & 1 & 0 & 3 & 1\\\\\n",
       "\tHornet Sportabout & 18.7 & 8 & 360.0 & 175 & 3.15 & 3.440 & 17.02 & 0 & 0 & 3 & 2\\\\\n",
       "\tValiant & 18.1 & 6 & 225.0 & 105 & 2.76 & 3.460 & 20.22 & 1 & 0 & 3 & 1\\\\\n",
       "\tDuster 360 & 14.3 & 8 & 360.0 & 245 & 3.21 & 3.570 & 15.84 & 0 & 0 & 3 & 4\\\\\n",
       "\tMerc 240D & 24.4 & 4 & 146.7 &  62 & 3.69 & 3.190 & 20.00 & 1 & 0 & 4 & 2\\\\\n",
       "\tMerc 230 & 22.8 & 4 & 140.8 &  95 & 3.92 & 3.150 & 22.90 & 1 & 0 & 4 & 2\\\\\n",
       "\tMerc 280 & 19.2 & 6 & 167.6 & 123 & 3.92 & 3.440 & 18.30 & 1 & 0 & 4 & 4\\\\\n",
       "\tMerc 280C & 17.8 & 6 & 167.6 & 123 & 3.92 & 3.440 & 18.90 & 1 & 0 & 4 & 4\\\\\n",
       "\tMerc 450SE & 16.4 & 8 & 275.8 & 180 & 3.07 & 4.070 & 17.40 & 0 & 0 & 3 & 3\\\\\n",
       "\tMerc 450SL & 17.3 & 8 & 275.8 & 180 & 3.07 & 3.730 & 17.60 & 0 & 0 & 3 & 3\\\\\n",
       "\tMerc 450SLC & 15.2 & 8 & 275.8 & 180 & 3.07 & 3.780 & 18.00 & 0 & 0 & 3 & 3\\\\\n",
       "\tCadillac Fleetwood & 10.4 & 8 & 472.0 & 205 & 2.93 & 5.250 & 17.98 & 0 & 0 & 3 & 4\\\\\n",
       "\tLincoln Continental & 10.4 & 8 & 460.0 & 215 & 3.00 & 5.424 & 17.82 & 0 & 0 & 3 & 4\\\\\n",
       "\tChrysler Imperial & 14.7 & 8 & 440.0 & 230 & 3.23 & 5.345 & 17.42 & 0 & 0 & 3 & 4\\\\\n",
       "\tFiat 128 & 32.4 & 4 &  78.7 &  66 & 4.08 & 2.200 & 19.47 & 1 & 1 & 4 & 1\\\\\n",
       "\tHonda Civic & 30.4 & 4 &  75.7 &  52 & 4.93 & 1.615 & 18.52 & 1 & 1 & 4 & 2\\\\\n",
       "\tToyota Corolla & 33.9 & 4 &  71.1 &  65 & 4.22 & 1.835 & 19.90 & 1 & 1 & 4 & 1\\\\\n",
       "\tToyota Corona & 21.5 & 4 & 120.1 &  97 & 3.70 & 2.465 & 20.01 & 1 & 0 & 3 & 1\\\\\n",
       "\tDodge Challenger & 15.5 & 8 & 318.0 & 150 & 2.76 & 3.520 & 16.87 & 0 & 0 & 3 & 2\\\\\n",
       "\tAMC Javelin & 15.2 & 8 & 304.0 & 150 & 3.15 & 3.435 & 17.30 & 0 & 0 & 3 & 2\\\\\n",
       "\tCamaro Z28 & 13.3 & 8 & 350.0 & 245 & 3.73 & 3.840 & 15.41 & 0 & 0 & 3 & 4\\\\\n",
       "\tPontiac Firebird & 19.2 & 8 & 400.0 & 175 & 3.08 & 3.845 & 17.05 & 0 & 0 & 3 & 2\\\\\n",
       "\tFiat X1-9 & 27.3 & 4 &  79.0 &  66 & 4.08 & 1.935 & 18.90 & 1 & 1 & 4 & 1\\\\\n",
       "\tPorsche 914-2 & 26.0 & 4 & 120.3 &  91 & 4.43 & 2.140 & 16.70 & 0 & 1 & 5 & 2\\\\\n",
       "\tLotus Europa & 30.4 & 4 &  95.1 & 113 & 3.77 & 1.513 & 16.90 & 1 & 1 & 5 & 2\\\\\n",
       "\tFord Pantera L & 15.8 & 8 & 351.0 & 264 & 4.22 & 3.170 & 14.50 & 0 & 1 & 5 & 4\\\\\n",
       "\tFerrari Dino & 19.7 & 6 & 145.0 & 175 & 3.62 & 2.770 & 15.50 & 0 & 1 & 5 & 6\\\\\n",
       "\tMaserati Bora & 15.0 & 8 & 301.0 & 335 & 3.54 & 3.570 & 14.60 & 0 & 1 & 5 & 8\\\\\n",
       "\tVolvo 142E & 21.4 & 4 & 121.0 & 109 & 4.11 & 2.780 & 18.60 & 1 & 1 & 4 & 2\\\\\n",
       "\\end{tabular}\n"
      ],
      "text/markdown": [
       "\n",
       "A data.frame: 32 × 11\n",
       "\n",
       "| <!--/--> | mpg &lt;dbl&gt; | cyl &lt;dbl&gt; | disp &lt;dbl&gt; | hp &lt;dbl&gt; | drat &lt;dbl&gt; | wt &lt;dbl&gt; | qsec &lt;dbl&gt; | vs &lt;dbl&gt; | am &lt;dbl&gt; | gear &lt;dbl&gt; | carb &lt;dbl&gt; |\n",
       "|---|---|---|---|---|---|---|---|---|---|---|---|\n",
       "| Mazda RX4 | 21.0 | 6 | 160.0 | 110 | 3.90 | 2.620 | 16.46 | 0 | 1 | 4 | 4 |\n",
       "| Mazda RX4 Wag | 21.0 | 6 | 160.0 | 110 | 3.90 | 2.875 | 17.02 | 0 | 1 | 4 | 4 |\n",
       "| Datsun 710 | 22.8 | 4 | 108.0 |  93 | 3.85 | 2.320 | 18.61 | 1 | 1 | 4 | 1 |\n",
       "| Hornet 4 Drive | 21.4 | 6 | 258.0 | 110 | 3.08 | 3.215 | 19.44 | 1 | 0 | 3 | 1 |\n",
       "| Hornet Sportabout | 18.7 | 8 | 360.0 | 175 | 3.15 | 3.440 | 17.02 | 0 | 0 | 3 | 2 |\n",
       "| Valiant | 18.1 | 6 | 225.0 | 105 | 2.76 | 3.460 | 20.22 | 1 | 0 | 3 | 1 |\n",
       "| Duster 360 | 14.3 | 8 | 360.0 | 245 | 3.21 | 3.570 | 15.84 | 0 | 0 | 3 | 4 |\n",
       "| Merc 240D | 24.4 | 4 | 146.7 |  62 | 3.69 | 3.190 | 20.00 | 1 | 0 | 4 | 2 |\n",
       "| Merc 230 | 22.8 | 4 | 140.8 |  95 | 3.92 | 3.150 | 22.90 | 1 | 0 | 4 | 2 |\n",
       "| Merc 280 | 19.2 | 6 | 167.6 | 123 | 3.92 | 3.440 | 18.30 | 1 | 0 | 4 | 4 |\n",
       "| Merc 280C | 17.8 | 6 | 167.6 | 123 | 3.92 | 3.440 | 18.90 | 1 | 0 | 4 | 4 |\n",
       "| Merc 450SE | 16.4 | 8 | 275.8 | 180 | 3.07 | 4.070 | 17.40 | 0 | 0 | 3 | 3 |\n",
       "| Merc 450SL | 17.3 | 8 | 275.8 | 180 | 3.07 | 3.730 | 17.60 | 0 | 0 | 3 | 3 |\n",
       "| Merc 450SLC | 15.2 | 8 | 275.8 | 180 | 3.07 | 3.780 | 18.00 | 0 | 0 | 3 | 3 |\n",
       "| Cadillac Fleetwood | 10.4 | 8 | 472.0 | 205 | 2.93 | 5.250 | 17.98 | 0 | 0 | 3 | 4 |\n",
       "| Lincoln Continental | 10.4 | 8 | 460.0 | 215 | 3.00 | 5.424 | 17.82 | 0 | 0 | 3 | 4 |\n",
       "| Chrysler Imperial | 14.7 | 8 | 440.0 | 230 | 3.23 | 5.345 | 17.42 | 0 | 0 | 3 | 4 |\n",
       "| Fiat 128 | 32.4 | 4 |  78.7 |  66 | 4.08 | 2.200 | 19.47 | 1 | 1 | 4 | 1 |\n",
       "| Honda Civic | 30.4 | 4 |  75.7 |  52 | 4.93 | 1.615 | 18.52 | 1 | 1 | 4 | 2 |\n",
       "| Toyota Corolla | 33.9 | 4 |  71.1 |  65 | 4.22 | 1.835 | 19.90 | 1 | 1 | 4 | 1 |\n",
       "| Toyota Corona | 21.5 | 4 | 120.1 |  97 | 3.70 | 2.465 | 20.01 | 1 | 0 | 3 | 1 |\n",
       "| Dodge Challenger | 15.5 | 8 | 318.0 | 150 | 2.76 | 3.520 | 16.87 | 0 | 0 | 3 | 2 |\n",
       "| AMC Javelin | 15.2 | 8 | 304.0 | 150 | 3.15 | 3.435 | 17.30 | 0 | 0 | 3 | 2 |\n",
       "| Camaro Z28 | 13.3 | 8 | 350.0 | 245 | 3.73 | 3.840 | 15.41 | 0 | 0 | 3 | 4 |\n",
       "| Pontiac Firebird | 19.2 | 8 | 400.0 | 175 | 3.08 | 3.845 | 17.05 | 0 | 0 | 3 | 2 |\n",
       "| Fiat X1-9 | 27.3 | 4 |  79.0 |  66 | 4.08 | 1.935 | 18.90 | 1 | 1 | 4 | 1 |\n",
       "| Porsche 914-2 | 26.0 | 4 | 120.3 |  91 | 4.43 | 2.140 | 16.70 | 0 | 1 | 5 | 2 |\n",
       "| Lotus Europa | 30.4 | 4 |  95.1 | 113 | 3.77 | 1.513 | 16.90 | 1 | 1 | 5 | 2 |\n",
       "| Ford Pantera L | 15.8 | 8 | 351.0 | 264 | 4.22 | 3.170 | 14.50 | 0 | 1 | 5 | 4 |\n",
       "| Ferrari Dino | 19.7 | 6 | 145.0 | 175 | 3.62 | 2.770 | 15.50 | 0 | 1 | 5 | 6 |\n",
       "| Maserati Bora | 15.0 | 8 | 301.0 | 335 | 3.54 | 3.570 | 14.60 | 0 | 1 | 5 | 8 |\n",
       "| Volvo 142E | 21.4 | 4 | 121.0 | 109 | 4.11 | 2.780 | 18.60 | 1 | 1 | 4 | 2 |\n",
       "\n"
      ],
      "text/plain": [
       "                    mpg  cyl disp  hp  drat wt    qsec  vs am gear carb\n",
       "Mazda RX4           21.0 6   160.0 110 3.90 2.620 16.46 0  1  4    4   \n",
       "Mazda RX4 Wag       21.0 6   160.0 110 3.90 2.875 17.02 0  1  4    4   \n",
       "Datsun 710          22.8 4   108.0  93 3.85 2.320 18.61 1  1  4    1   \n",
       "Hornet 4 Drive      21.4 6   258.0 110 3.08 3.215 19.44 1  0  3    1   \n",
       "Hornet Sportabout   18.7 8   360.0 175 3.15 3.440 17.02 0  0  3    2   \n",
       "Valiant             18.1 6   225.0 105 2.76 3.460 20.22 1  0  3    1   \n",
       "Duster 360          14.3 8   360.0 245 3.21 3.570 15.84 0  0  3    4   \n",
       "Merc 240D           24.4 4   146.7  62 3.69 3.190 20.00 1  0  4    2   \n",
       "Merc 230            22.8 4   140.8  95 3.92 3.150 22.90 1  0  4    2   \n",
       "Merc 280            19.2 6   167.6 123 3.92 3.440 18.30 1  0  4    4   \n",
       "Merc 280C           17.8 6   167.6 123 3.92 3.440 18.90 1  0  4    4   \n",
       "Merc 450SE          16.4 8   275.8 180 3.07 4.070 17.40 0  0  3    3   \n",
       "Merc 450SL          17.3 8   275.8 180 3.07 3.730 17.60 0  0  3    3   \n",
       "Merc 450SLC         15.2 8   275.8 180 3.07 3.780 18.00 0  0  3    3   \n",
       "Cadillac Fleetwood  10.4 8   472.0 205 2.93 5.250 17.98 0  0  3    4   \n",
       "Lincoln Continental 10.4 8   460.0 215 3.00 5.424 17.82 0  0  3    4   \n",
       "Chrysler Imperial   14.7 8   440.0 230 3.23 5.345 17.42 0  0  3    4   \n",
       "Fiat 128            32.4 4    78.7  66 4.08 2.200 19.47 1  1  4    1   \n",
       "Honda Civic         30.4 4    75.7  52 4.93 1.615 18.52 1  1  4    2   \n",
       "Toyota Corolla      33.9 4    71.1  65 4.22 1.835 19.90 1  1  4    1   \n",
       "Toyota Corona       21.5 4   120.1  97 3.70 2.465 20.01 1  0  3    1   \n",
       "Dodge Challenger    15.5 8   318.0 150 2.76 3.520 16.87 0  0  3    2   \n",
       "AMC Javelin         15.2 8   304.0 150 3.15 3.435 17.30 0  0  3    2   \n",
       "Camaro Z28          13.3 8   350.0 245 3.73 3.840 15.41 0  0  3    4   \n",
       "Pontiac Firebird    19.2 8   400.0 175 3.08 3.845 17.05 0  0  3    2   \n",
       "Fiat X1-9           27.3 4    79.0  66 4.08 1.935 18.90 1  1  4    1   \n",
       "Porsche 914-2       26.0 4   120.3  91 4.43 2.140 16.70 0  1  5    2   \n",
       "Lotus Europa        30.4 4    95.1 113 3.77 1.513 16.90 1  1  5    2   \n",
       "Ford Pantera L      15.8 8   351.0 264 4.22 3.170 14.50 0  1  5    4   \n",
       "Ferrari Dino        19.7 6   145.0 175 3.62 2.770 15.50 0  1  5    6   \n",
       "Maserati Bora       15.0 8   301.0 335 3.54 3.570 14.60 0  1  5    8   \n",
       "Volvo 142E          21.4 4   121.0 109 4.11 2.780 18.60 1  1  4    2   "
      ]
     },
     "metadata": {},
     "output_type": "display_data"
    }
   ],
   "source": [
    "View(mtcars)"
   ]
  },
  {
   "cell_type": "code",
   "execution_count": 71,
   "metadata": {
    "vscode": {
     "languageId": "r"
    }
   },
   "outputs": [],
   "source": [
    "split <- createDataPartition(y = mtcars$mpg, p = 0.7, list = FALSE)"
   ]
  },
  {
   "cell_type": "code",
   "execution_count": 72,
   "metadata": {
    "vscode": {
     "languageId": "r"
    }
   },
   "outputs": [],
   "source": [
    "# Criando dados de treino e de teste\n",
    "dados_treino <- mtcars[split,]\n",
    "dados_teste <- mtcars[-split,]"
   ]
  },
  {
   "cell_type": "code",
   "execution_count": 73,
   "metadata": {
    "vscode": {
     "languageId": "r"
    }
   },
   "outputs": [
    {
     "data": {
      "text/plain": [
       "lm variable importance\n",
       "\n",
       "     Overall\n",
       "wt    100.00\n",
       "am     91.63\n",
       "qsec   75.81\n",
       "hp     38.06\n",
       "cyl    28.02\n",
       "vs     19.86\n",
       "carb   17.55\n",
       "gear   16.31\n",
       "disp   12.50\n",
       "drat    0.00"
      ]
     },
     "metadata": {},
     "output_type": "display_data"
    }
   ],
   "source": [
    "# regressão linear simples\n",
    "modelol_v1 <- train(mpg ~ ., data = dados_treino, method = \"lm\")\n",
    "varImp(modelol_v1)"
   ]
  },
  {
   "cell_type": "code",
   "execution_count": 74,
   "metadata": {
    "vscode": {
     "languageId": "r"
    }
   },
   "outputs": [
    {
     "data": {
      "text/plain": [
       "\n",
       "Call:\n",
       "lm(formula = .outcome ~ ., data = dat)\n",
       "\n",
       "Residuals:\n",
       "    Min      1Q  Median      3Q     Max \n",
       "-4.0752 -1.3594 -0.0862  1.0449  3.9140 \n",
       "\n",
       "Coefficients:\n",
       "             Estimate Std. Error t value Pr(>|t|)\n",
       "(Intercept) 10.118490  20.898544   0.484    0.636\n",
       "cyl          0.668055   1.216078   0.549    0.592\n",
       "disp         0.006879   0.021663   0.318    0.756\n",
       "hp          -0.017839   0.025516  -0.699    0.497\n",
       "drat        -0.302385   2.308399  -0.131    0.898\n",
       "wt          -4.268772   2.628745  -1.624    0.128\n",
       "qsec         1.032562   0.817677   1.263    0.229\n",
       "vs           0.980215   2.293211   0.427    0.676\n",
       "am           3.617885   2.413629   1.499    0.158\n",
       "gear         0.661447   1.766161   0.375    0.714\n",
       "carb        -0.391502   0.996291  -0.393    0.701\n",
       "\n",
       "Residual standard error: 2.665 on 13 degrees of freedom\n",
       "Multiple R-squared:  0.9018,\tAdjusted R-squared:  0.8263 \n",
       "F-statistic: 11.94 on 10 and 13 DF,  p-value: 5.212e-05\n"
      ]
     },
     "metadata": {},
     "output_type": "display_data"
    }
   ],
   "source": [
    "# Resumo do modelo\n",
    "summary(modelol_v1)"
   ]
  },
  {
   "attachments": {},
   "cell_type": "markdown",
   "metadata": {},
   "source": [
    "### Classificação"
   ]
  },
  {
   "attachments": {},
   "cell_type": "markdown",
   "metadata": {},
   "source": [
    "O classificador Naive Bayes é um algoritmo que se baseia nas descobertas de Thomas Bayes para realizar predições em aprendizagem de máquina. O termo “naive” (ingênuo) diz respeito à forma como o algoritmo analisa as características de uma base de dados: ele assume que as features são independentes entre si."
   ]
  },
  {
   "cell_type": "code",
   "execution_count": 77,
   "metadata": {
    "vscode": {
     "languageId": "r"
    }
   },
   "outputs": [],
   "source": [
    "split <- createDataPartition(y = iris$Species, p = 0.7, list = FALSE)"
   ]
  },
  {
   "cell_type": "code",
   "execution_count": 78,
   "metadata": {
    "vscode": {
     "languageId": "r"
    }
   },
   "outputs": [],
   "source": [
    "dados_treino <- iris[split,]\n",
    "dados_teste <- iris[-split,]"
   ]
  },
  {
   "cell_type": "code",
   "execution_count": 112,
   "metadata": {
    "vscode": {
     "languageId": "r"
    }
   },
   "outputs": [],
   "source": [
    "library(e1071)"
   ]
  },
  {
   "cell_type": "code",
   "execution_count": 90,
   "metadata": {
    "vscode": {
     "languageId": "r"
    }
   },
   "outputs": [
    {
     "name": "stdout",
     "output_type": "stream",
     "text": [
      "\n",
      "Naive Bayes Classifier for Discrete Predictors\n",
      "\n",
      "Call:\n",
      "naiveBayes.default(x = dados_treino[1:4], y = dados_treino[5])\n",
      "\n",
      "A-priori probabilities:\n",
      "dados_treino[5]\n",
      "    setosa versicolor  virginica \n",
      " 0.3333333  0.3333333  0.3333333 \n",
      "\n",
      "Conditional probabilities:\n",
      "               Sepal.Length\n",
      "dados_treino[5]     [,1]      [,2]\n",
      "     setosa     5.002857 0.3682117\n",
      "     versicolor 5.954286 0.4942867\n",
      "     virginica  6.614286 0.6097940\n",
      "\n",
      "               Sepal.Width\n",
      "dados_treino[5]     [,1]      [,2]\n",
      "     setosa     3.408571 0.3936043\n",
      "     versicolor 2.740000 0.3465799\n",
      "     virginica  2.991429 0.3128347\n",
      "\n",
      "               Petal.Length\n",
      "dados_treino[5]     [,1]      [,2]\n",
      "     setosa     1.451429 0.1837060\n",
      "     versicolor 4.237143 0.4917470\n",
      "     virginica  5.568571 0.5340034\n",
      "\n",
      "               Petal.Width\n",
      "dados_treino[5]     [,1]      [,2]\n",
      "     setosa     0.240000 0.1005865\n",
      "     versicolor 1.314286 0.2171241\n",
      "     virginica  2.017143 0.2595083\n",
      "\n"
     ]
    }
   ],
   "source": [
    "classificador_nb = naiveBayes(x=dados_treino[1:4], y=dados_treino[5])\n",
    "print(classificador_nb)"
   ]
  },
  {
   "cell_type": "code",
   "execution_count": 98,
   "metadata": {
    "vscode": {
     "languageId": "r"
    }
   },
   "outputs": [
    {
     "data": {
      "text/plain": [
       "Confusion Matrix and Statistics\n",
       "\n",
       "            previsoes\n",
       "             setosa versicolor virginica\n",
       "  setosa         15          0         0\n",
       "  versicolor      0         14         1\n",
       "  virginica       0          2        13\n",
       "\n",
       "Overall Statistics\n",
       "                                         \n",
       "               Accuracy : 0.9333         \n",
       "                 95% CI : (0.8173, 0.986)\n",
       "    No Information Rate : 0.3556         \n",
       "    P-Value [Acc > NIR] : 5.426e-16      \n",
       "                                         \n",
       "                  Kappa : 0.9            \n",
       "                                         \n",
       " Mcnemar's Test P-Value : NA             \n",
       "\n",
       "Statistics by Class:\n",
       "\n",
       "                     Class: setosa Class: versicolor Class: virginica\n",
       "Sensitivity                 1.0000            0.8750           0.9286\n",
       "Specificity                 1.0000            0.9655           0.9355\n",
       "Pos Pred Value              1.0000            0.9333           0.8667\n",
       "Neg Pred Value              1.0000            0.9333           0.9667\n",
       "Prevalence                  0.3333            0.3556           0.3111\n",
       "Detection Rate              0.3333            0.3111           0.2889\n",
       "Detection Prevalence        0.3333            0.3333           0.3333\n",
       "Balanced Accuracy           1.0000            0.9203           0.9320"
      ]
     },
     "metadata": {},
     "output_type": "display_data"
    }
   ],
   "source": [
    "previsoes = predict(classificador_nb, newdata = dados_teste[1:4])\n",
    "matriz_confusao = table(dados_teste[,5], previsoes)\n",
    "confusionMatrix(matriz_confusao)"
   ]
  },
  {
   "attachments": {},
   "cell_type": "markdown",
   "metadata": {},
   "source": [
    "Uma máquina de vetores de suporte é um conceito na ciência da computação para um conjunto de métodos de aprendizado supervisionado que analisam os dados e reconhecem padrões, usado para classificação e análise de regressão. O SVM padrão toma como entrada um conjunto de dados e prediz, para cada entrada dada, qual de duas possíveis classes a entrada faz parte, o que faz do SVM um classificador linear binário não probabilístico."
   ]
  },
  {
   "cell_type": "code",
   "execution_count": 113,
   "metadata": {
    "vscode": {
     "languageId": "r"
    }
   },
   "outputs": [],
   "source": [
    "classificador_svm = svm(formula= Species ~ ., data=dados_treino, type='C-classification',\n",
    "                        kernel='radial')"
   ]
  },
  {
   "cell_type": "code",
   "execution_count": 114,
   "metadata": {
    "vscode": {
     "languageId": "r"
    }
   },
   "outputs": [
    {
     "data": {
      "text/plain": [
       "Confusion Matrix and Statistics\n",
       "\n",
       "            previsoes\n",
       "             setosa versicolor virginica\n",
       "  setosa         15          0         0\n",
       "  versicolor      0         15         0\n",
       "  virginica       0          2        13\n",
       "\n",
       "Overall Statistics\n",
       "                                          \n",
       "               Accuracy : 0.9556          \n",
       "                 95% CI : (0.8485, 0.9946)\n",
       "    No Information Rate : 0.3778          \n",
       "    P-Value [Acc > NIR] : 2.61e-16        \n",
       "                                          \n",
       "                  Kappa : 0.9333          \n",
       "                                          \n",
       " Mcnemar's Test P-Value : NA              \n",
       "\n",
       "Statistics by Class:\n",
       "\n",
       "                     Class: setosa Class: versicolor Class: virginica\n",
       "Sensitivity                 1.0000            0.8824           1.0000\n",
       "Specificity                 1.0000            1.0000           0.9375\n",
       "Pos Pred Value              1.0000            1.0000           0.8667\n",
       "Neg Pred Value              1.0000            0.9333           1.0000\n",
       "Prevalence                  0.3333            0.3778           0.2889\n",
       "Detection Rate              0.3333            0.3333           0.2889\n",
       "Detection Prevalence        0.3333            0.3333           0.3333\n",
       "Balanced Accuracy           1.0000            0.9412           0.9688"
      ]
     },
     "metadata": {},
     "output_type": "display_data"
    }
   ],
   "source": [
    "previsoes = predict(classificador_svm, newdata = dados_teste[1:4])\n",
    "matriz_confusao = table(dados_teste[,5], previsoes)\n",
    "confusionMatrix(matriz_confusao)"
   ]
  },
  {
   "attachments": {},
   "cell_type": "markdown",
   "metadata": {},
   "source": [
    "Uma árvore de decisão é um algoritmo de aprendizado de máquina supervisionado que é utilizado para classificação e para regressão. Isto é, pode ser usado para prever categorias discretas (sim ou não, por exemplo) e para prever valores numéricos (o valor do lucro em reais)."
   ]
  },
  {
   "cell_type": "code",
   "execution_count": 115,
   "metadata": {
    "vscode": {
     "languageId": "r"
    }
   },
   "outputs": [],
   "source": [
    "library(rpart)"
   ]
  },
  {
   "cell_type": "code",
   "execution_count": 116,
   "metadata": {
    "vscode": {
     "languageId": "r"
    }
   },
   "outputs": [],
   "source": [
    "classificador_dt = rpart(formula = Species ~ ., data = dados_treino)"
   ]
  },
  {
   "cell_type": "code",
   "execution_count": 121,
   "metadata": {
    "vscode": {
     "languageId": "r"
    }
   },
   "outputs": [
    {
     "data": {
      "text/plain": [
       "Confusion Matrix and Statistics\n",
       "\n",
       "            previsoes\n",
       "             setosa versicolor virginica\n",
       "  setosa         15          0         0\n",
       "  versicolor      0         12         3\n",
       "  virginica       0          0        15\n",
       "\n",
       "Overall Statistics\n",
       "                                         \n",
       "               Accuracy : 0.9333         \n",
       "                 95% CI : (0.8173, 0.986)\n",
       "    No Information Rate : 0.4            \n",
       "    P-Value [Acc > NIR] : 6.213e-14      \n",
       "                                         \n",
       "                  Kappa : 0.9            \n",
       "                                         \n",
       " Mcnemar's Test P-Value : NA             \n",
       "\n",
       "Statistics by Class:\n",
       "\n",
       "                     Class: setosa Class: versicolor Class: virginica\n",
       "Sensitivity                 1.0000            1.0000           0.8333\n",
       "Specificity                 1.0000            0.9091           1.0000\n",
       "Pos Pred Value              1.0000            0.8000           1.0000\n",
       "Neg Pred Value              1.0000            1.0000           0.9000\n",
       "Prevalence                  0.3333            0.2667           0.4000\n",
       "Detection Rate              0.3333            0.2667           0.3333\n",
       "Detection Prevalence        0.3333            0.3333           0.3333\n",
       "Balanced Accuracy           1.0000            0.9545           0.9167"
      ]
     },
     "metadata": {},
     "output_type": "display_data"
    }
   ],
   "source": [
    "previsoes = predict(classificador_dt, newdata = dados_teste[1:4], type = 'class')\n",
    "matriz_confusao = table(dados_teste[,5], previsoes)\n",
    "confusionMatrix(matriz_confusao)"
   ]
  },
  {
   "cell_type": "code",
   "execution_count": 120,
   "metadata": {
    "vscode": {
     "languageId": "r"
    }
   },
   "outputs": [],
   "source": [
    "library(rpart.plot)"
   ]
  },
  {
   "cell_type": "code",
   "execution_count": 122,
   "metadata": {
    "vscode": {
     "languageId": "r"
    }
   },
   "outputs": [
    {
     "data": {
      "image/png": "[encoded data removed]",
      "text/plain": [
       "plot without title"
      ]
     },
     "metadata": {
      "image/png": {
       "height": 420,
       "width": 420
      }
     },
     "output_type": "display_data"
    }
   ],
   "source": [
    "rpart.plot(classificador_dt)"
   ]
  }
 ],
 "metadata": {
  "kernelspec": {
   "display_name": "R",
   "language": "R",
   "name": "ir"
  },
  "language_info": {
   "codemirror_mode": "r",
   "file_extension": ".r",
   "mimetype": "text/x-r-source",
   "name": "R",
   "pygments_lexer": "r",
   "version": "4.2.2"
  },
  "orig_nbformat": 4,
  "vscode": {
   "interpreter": {
    "hash": "4e1d9a8909477db77738c33245c29c7265277ef753467dede8cf3f814cde494e"
   }
  }
 },
 "nbformat": 4,
 "nbformat_minor": 2
}
